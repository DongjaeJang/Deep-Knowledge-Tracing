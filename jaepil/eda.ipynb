{
 "cells": [
  {
   "cell_type": "markdown",
   "id": "a10cf5f5-3974-4d10-9096-acd76dd5195e",
   "metadata": {},
   "source": [
    "# Overview"
   ]
  },
  {
   "cell_type": "markdown",
   "id": "53c6929e-63ee-47eb-b31d-96e85af08a8e",
   "metadata": {},
   "source": [
    "초등학교, 중학교, 고등학교, 대학교와 같은 교육기관에서 우리는 시험을 늘 봐왔습니다. 시험 성적이 높은 과목은 우리가 잘 아는 것을 나타내고 시험 성적이 낮은 과목은 반대로 공부가 더욱 필요함을 나타냅니다. 시험은 우리가 얼마만큼 아는지 평가하는 한 방법입니다.\n",
    "\n",
    "하지만 시험에는 한계가 있습니다. 우리가 수학 시험에서 점수를 80점 받았다면 우리는 80점을 받은 학생일 뿐입니다. 우리가 돈을 들여 과외를 받지 않는 이상 우리는 우리 개개인에 맞춤화된 피드백을 받기가 어렵고 따라서 무엇을 해야 성적을 올릴 수 있을지 판단하기 어렵습니다. 이럴 때 사용할 수 있는 것이 DKT입니다!\n",
    "\n",
    "DKT는 Deep Knowledge Tracing의 약자로 우리의 \"지식 상태\"를 추적하는 딥러닝 방법론입니다.\n",
    "\n",
    "시험을 보는 것은 동일하지만 단순히 우리가 수학을 80점을 맞았다고 알려주는 것을 넘어서 우리가 수학이라는 과목을 얼마만큼 이해하고 있는지를 측정하여 줍니다. 게다가 이런 이해도를 활용하여 우리가 아직 풀지 않은 미래의 문제에 대해서 우리가 맞을지 틀릴지 예측이 가능합니다!\n",
    "\n",
    "이런 DKT를 활용하면 우리는 학생 개개인에게 수학의 이해도와 취약한 부분을 극복하기 위해 어떤 문제들을 풀면 좋을지 추천이 가능합니다! 그렇기 때문에 DKT는 교육 AI의 추천이라고도 불립니다. DKT는 맞춤화된 교육을 제공하기 위해 아주 중요한 역할을 맡게 됩니다.\n",
    "\n",
    "우리는 대회에서 Iscream 데이터셋을 이용하여 DKT모델을 구축할 것입니다. 다만 대회에서는 학생 개개인의 이해도를 가리키는 지식 상태를 예측하는 일보다는, 주어진 문제를 맞출지 틀릴지 예측하는 것에 집중할 것입니다! 우리는 각 학생이 푼 문제 리스트와 정답 여부가 담긴 데이터를 받아 최종 문제를 맞출지 틀릴지 예측할 것입니다!\n",
    "\n",
    "개인 맞춤화 교육이라는 멋진 미래를 만들기 위한 DKT로 함께 떠나봅시다!\n",
    "\n",
    "## evaluation metrics\n",
    "\n",
    "DKT는 주어진 마지막 문제를 맞았는지 틀렸는지로 분류하는 이진 분류 문제입니다! \n",
    "\n",
    "그래서 평가를 위해 AUROC(Area Under the ROC curve)와 Accuracy를 사용할 것입니다."
   ]
  },
  {
   "cell_type": "code",
   "execution_count": 1,
   "id": "fa11b9b1-a3a7-4062-ba2a-c60cd0c8df9b",
   "metadata": {},
   "outputs": [
    {
     "name": "stdout",
     "output_type": "stream",
     "text": [
      "\n",
      "     active environment : base\n",
      "    active env location : /opt/conda\n",
      "            shell level : 1\n",
      "       user config file : /opt/ml/.condarc\n",
      " populated config files : \n",
      "          conda version : 4.10.1\n",
      "    conda-build version : 3.18.11\n",
      "         python version : 3.7.7.final.0\n",
      "       virtual packages : __cuda=10.1=0\n",
      "                          __linux=4.4.0=0\n",
      "                          __glibc=2.27=0\n",
      "                          __unix=0=0\n",
      "                          __archspec=1=x86_64\n",
      "       base environment : /opt/conda  (writable)\n",
      "      conda av data dir : /opt/conda/etc/conda\n",
      "  conda av metadata url : https://repo.anaconda.com/pkgs/main\n",
      "           channel URLs : https://repo.anaconda.com/pkgs/main/linux-64\n",
      "                          https://repo.anaconda.com/pkgs/main/noarch\n",
      "                          https://repo.anaconda.com/pkgs/r/linux-64\n",
      "                          https://repo.anaconda.com/pkgs/r/noarch\n",
      "          package cache : /opt/conda/pkgs\n",
      "                          /opt/ml/.conda/pkgs\n",
      "       envs directories : /opt/conda/envs\n",
      "                          /opt/ml/.conda/envs\n",
      "               platform : linux-64\n",
      "             user-agent : conda/4.10.1 requests/2.25.1 CPython/3.7.7 Linux/4.4.0-210-generic ubuntu/18.04.4 glibc/2.27\n",
      "                UID:GID : 0:0\n",
      "             netrc file : /opt/ml/.netrc\n",
      "           offline mode : False\n",
      "\n",
      "\n",
      "Note: you may need to restart the kernel to use updated packages.\n"
     ]
    }
   ],
   "source": [
    "%conda info"
   ]
  },
  {
   "cell_type": "code",
   "execution_count": 2,
   "id": "edfdd3b0-2807-4b70-87e5-dd2241ed374b",
   "metadata": {},
   "outputs": [
    {
     "name": "stdout",
     "output_type": "stream",
     "text": [
      "Thu May 27 02:38:38 2021       \n",
      "+-----------------------------------------------------------------------------+\n",
      "| NVIDIA-SMI 418.56       Driver Version: 418.56       CUDA Version: 10.1     |\n",
      "|-------------------------------+----------------------+----------------------+\n",
      "| GPU  Name        Persistence-M| Bus-Id        Disp.A | Volatile Uncorr. ECC |\n",
      "| Fan  Temp  Perf  Pwr:Usage/Cap|         Memory-Usage | GPU-Util  Compute M. |\n",
      "|===============================+======================+======================|\n",
      "|   0  Tesla P40           Off  | 00000000:00:05.0 Off |                  Off |\n",
      "| N/A   25C    P0    50W / 250W |      0MiB / 24451MiB |      1%      Default |\n",
      "+-------------------------------+----------------------+----------------------+\n",
      "                                                                               \n",
      "+-----------------------------------------------------------------------------+\n",
      "| Processes:                                                       GPU Memory |\n",
      "|  GPU       PID   Type   Process name                             Usage      |\n",
      "|=============================================================================|\n",
      "|  No running processes found                                                 |\n",
      "+-----------------------------------------------------------------------------+\n"
     ]
    }
   ],
   "source": [
    "!nvidia-smi"
   ]
  },
  {
   "cell_type": "markdown",
   "id": "a0758d49-40ee-4a75-92d8-2761514a0362",
   "metadata": {},
   "source": [
    "# EDA"
   ]
  },
  {
   "cell_type": "code",
   "execution_count": 3,
   "id": "7f46a8d8-1bcb-4698-97f8-733cc6685cf8",
   "metadata": {},
   "outputs": [],
   "source": [
    "import os, sys\n",
    "from pathlib import Path\n",
    "from glob import glob"
   ]
  },
  {
   "cell_type": "code",
   "execution_count": 4,
   "id": "2979348d-5826-4322-ad45-0642450dd231",
   "metadata": {},
   "outputs": [
    {
     "data": {
      "text/plain": [
       "PosixPath('/opt/ml')"
      ]
     },
     "execution_count": 4,
     "metadata": {},
     "output_type": "execute_result"
    }
   ],
   "source": [
    "BASE_PATH = Path('.').resolve().parent\n",
    "BASE_PATH"
   ]
  },
  {
   "cell_type": "code",
   "execution_count": 5,
   "id": "eb6520ce-a72a-441f-aa29-452aaa14ebba",
   "metadata": {},
   "outputs": [],
   "source": [
    "if BASE_PATH.as_posix() not in sys.path:\n",
    "    sys.path.append(BASE_PATH.as_posix())"
   ]
  },
  {
   "cell_type": "code",
   "execution_count": 6,
   "id": "187a7713-0768-4737-a824-f01e63b77b85",
   "metadata": {},
   "outputs": [
    {
     "data": {
      "text/plain": [
       "['/opt/ml/jaepil',\n",
       " '/opt/conda/lib/python37.zip',\n",
       " '/opt/conda/lib/python3.7',\n",
       " '/opt/conda/lib/python3.7/lib-dynload',\n",
       " '',\n",
       " '/opt/conda/lib/python3.7/site-packages',\n",
       " '/opt/conda/lib/python3.7/site-packages/transformers-4.6.1-py3.8.egg',\n",
       " '/opt/conda/lib/python3.7/site-packages/IPython/extensions',\n",
       " '/opt/ml/.ipython',\n",
       " '/opt/ml']"
      ]
     },
     "execution_count": 6,
     "metadata": {},
     "output_type": "execute_result"
    }
   ],
   "source": [
    "sys.path"
   ]
  },
  {
   "cell_type": "code",
   "execution_count": 7,
   "id": "a2faae1b-4798-47c2-a570-4892c50036f6",
   "metadata": {},
   "outputs": [],
   "source": [
    "import matplotlib as mpl\n",
    "import matplotlib.pyplot as plt\n",
    "import seaborn as sns"
   ]
  },
  {
   "cell_type": "code",
   "execution_count": 8,
   "id": "16fc7f66-aae7-4b4e-b7a1-d9af69211ea9",
   "metadata": {},
   "outputs": [],
   "source": [
    "import numpy as np\n",
    "import pandas as pd"
   ]
  },
  {
   "cell_type": "code",
   "execution_count": 57,
   "id": "8978ec91-0a95-4353-bc47-153ec47a158a",
   "metadata": {},
   "outputs": [],
   "source": [
    "import numba\n",
    "import dask.dataframe as dd"
   ]
  },
  {
   "cell_type": "code",
   "execution_count": 9,
   "id": "24c12498-11d5-4a92-9556-63aeda8b57b4",
   "metadata": {},
   "outputs": [],
   "source": [
    "import json\n",
    "import pickle"
   ]
  },
  {
   "cell_type": "code",
   "execution_count": 10,
   "id": "2d768da6-51c1-45b6-9ebb-523bc7e0d604",
   "metadata": {},
   "outputs": [],
   "source": [
    "from tqdm import tqdm, trange\n",
    "# from tqdm.notebook import tqdm\n",
    "from time import time"
   ]
  },
  {
   "cell_type": "code",
   "execution_count": 11,
   "id": "4c6316f9-8141-443a-9a5e-0a055faabb53",
   "metadata": {},
   "outputs": [
    {
     "data": {
      "text/plain": [
       "'1.6.0'"
      ]
     },
     "execution_count": 11,
     "metadata": {},
     "output_type": "execute_result"
    }
   ],
   "source": [
    "import torch\n",
    "import torch.nn as nn\n",
    "import torch.nn.functional as F\n",
    "import torch.optim as optim\n",
    "\n",
    "torch.__version__"
   ]
  },
  {
   "cell_type": "code",
   "execution_count": 12,
   "id": "523b19af-d172-4ade-b844-8f4707b4af93",
   "metadata": {},
   "outputs": [
    {
     "data": {
      "text/plain": [
       "device(type='cuda', index=0)"
      ]
     },
     "execution_count": 12,
     "metadata": {},
     "output_type": "execute_result"
    }
   ],
   "source": [
    "device = torch.device('cuda:0' if torch.cuda.is_available() else 'cpu')\n",
    "device # Always check cudatoolkit version!"
   ]
  },
  {
   "cell_type": "code",
   "execution_count": 64,
   "id": "9e2578f6-4bf9-4caf-8c98-d9bc086ec448",
   "metadata": {},
   "outputs": [],
   "source": [
    "from collections import defaultdict"
   ]
  },
  {
   "cell_type": "markdown",
   "id": "5852e6c5-5027-4758-873c-7c9b333d37f1",
   "metadata": {},
   "source": [
    "## Load data"
   ]
  },
  {
   "cell_type": "code",
   "execution_count": 13,
   "id": "84335733-c909-43a6-be16-c78dea1522fa",
   "metadata": {},
   "outputs": [],
   "source": [
    "data_path = BASE_PATH / \"input\" / \"data\"\n",
    "train_path = data_path / \"train_dataset\""
   ]
  },
  {
   "cell_type": "code",
   "execution_count": 14,
   "id": "3c344e1b-1afa-48c1-83e5-90c54f4285d7",
   "metadata": {},
   "outputs": [],
   "source": [
    "train_df = pd.read_csv(train_path / \"train_data.csv\")\n",
    "test_df = pd.read_csv(train_path / \"test_data.csv\")\n",
    "sample_submission_df = pd.read_csv(train_path / \"sample_submission.csv\")"
   ]
  },
  {
   "cell_type": "code",
   "execution_count": 15,
   "id": "af574304-1d0c-476c-8b9f-2f339a80c25a",
   "metadata": {},
   "outputs": [
    {
     "data": {
      "text/html": [
       "<div>\n",
       "<style scoped>\n",
       "    .dataframe tbody tr th:only-of-type {\n",
       "        vertical-align: middle;\n",
       "    }\n",
       "\n",
       "    .dataframe tbody tr th {\n",
       "        vertical-align: top;\n",
       "    }\n",
       "\n",
       "    .dataframe thead th {\n",
       "        text-align: right;\n",
       "    }\n",
       "</style>\n",
       "<table border=\"1\" class=\"dataframe\">\n",
       "  <thead>\n",
       "    <tr style=\"text-align: right;\">\n",
       "      <th></th>\n",
       "      <th>userID</th>\n",
       "      <th>assessmentItemID</th>\n",
       "      <th>testId</th>\n",
       "      <th>answerCode</th>\n",
       "      <th>Timestamp</th>\n",
       "      <th>KnowledgeTag</th>\n",
       "    </tr>\n",
       "  </thead>\n",
       "  <tbody>\n",
       "    <tr>\n",
       "      <th>0</th>\n",
       "      <td>0</td>\n",
       "      <td>A060001001</td>\n",
       "      <td>A060000001</td>\n",
       "      <td>1</td>\n",
       "      <td>2020-03-24 00:17:11</td>\n",
       "      <td>7224</td>\n",
       "    </tr>\n",
       "    <tr>\n",
       "      <th>1</th>\n",
       "      <td>0</td>\n",
       "      <td>A060001002</td>\n",
       "      <td>A060000001</td>\n",
       "      <td>1</td>\n",
       "      <td>2020-03-24 00:17:14</td>\n",
       "      <td>7225</td>\n",
       "    </tr>\n",
       "    <tr>\n",
       "      <th>2</th>\n",
       "      <td>0</td>\n",
       "      <td>A060001003</td>\n",
       "      <td>A060000001</td>\n",
       "      <td>1</td>\n",
       "      <td>2020-03-24 00:17:22</td>\n",
       "      <td>7225</td>\n",
       "    </tr>\n",
       "    <tr>\n",
       "      <th>3</th>\n",
       "      <td>0</td>\n",
       "      <td>A060001004</td>\n",
       "      <td>A060000001</td>\n",
       "      <td>1</td>\n",
       "      <td>2020-03-24 00:17:29</td>\n",
       "      <td>7225</td>\n",
       "    </tr>\n",
       "    <tr>\n",
       "      <th>4</th>\n",
       "      <td>0</td>\n",
       "      <td>A060001005</td>\n",
       "      <td>A060000001</td>\n",
       "      <td>1</td>\n",
       "      <td>2020-03-24 00:17:36</td>\n",
       "      <td>7225</td>\n",
       "    </tr>\n",
       "    <tr>\n",
       "      <th>...</th>\n",
       "      <td>...</td>\n",
       "      <td>...</td>\n",
       "      <td>...</td>\n",
       "      <td>...</td>\n",
       "      <td>...</td>\n",
       "      <td>...</td>\n",
       "    </tr>\n",
       "    <tr>\n",
       "      <th>2266581</th>\n",
       "      <td>7441</td>\n",
       "      <td>A030071005</td>\n",
       "      <td>A030000071</td>\n",
       "      <td>0</td>\n",
       "      <td>2020-06-05 06:50:21</td>\n",
       "      <td>438</td>\n",
       "    </tr>\n",
       "    <tr>\n",
       "      <th>2266582</th>\n",
       "      <td>7441</td>\n",
       "      <td>A040165001</td>\n",
       "      <td>A040000165</td>\n",
       "      <td>1</td>\n",
       "      <td>2020-08-21 01:06:39</td>\n",
       "      <td>8836</td>\n",
       "    </tr>\n",
       "    <tr>\n",
       "      <th>2266583</th>\n",
       "      <td>7441</td>\n",
       "      <td>A040165002</td>\n",
       "      <td>A040000165</td>\n",
       "      <td>1</td>\n",
       "      <td>2020-08-21 01:06:50</td>\n",
       "      <td>8836</td>\n",
       "    </tr>\n",
       "    <tr>\n",
       "      <th>2266584</th>\n",
       "      <td>7441</td>\n",
       "      <td>A040165003</td>\n",
       "      <td>A040000165</td>\n",
       "      <td>1</td>\n",
       "      <td>2020-08-21 01:07:36</td>\n",
       "      <td>8836</td>\n",
       "    </tr>\n",
       "    <tr>\n",
       "      <th>2266585</th>\n",
       "      <td>7441</td>\n",
       "      <td>A040165004</td>\n",
       "      <td>A040000165</td>\n",
       "      <td>1</td>\n",
       "      <td>2020-08-21 01:08:49</td>\n",
       "      <td>8836</td>\n",
       "    </tr>\n",
       "  </tbody>\n",
       "</table>\n",
       "<p>2266586 rows × 6 columns</p>\n",
       "</div>"
      ],
      "text/plain": [
       "         userID assessmentItemID      testId  answerCode            Timestamp  \\\n",
       "0             0       A060001001  A060000001           1  2020-03-24 00:17:11   \n",
       "1             0       A060001002  A060000001           1  2020-03-24 00:17:14   \n",
       "2             0       A060001003  A060000001           1  2020-03-24 00:17:22   \n",
       "3             0       A060001004  A060000001           1  2020-03-24 00:17:29   \n",
       "4             0       A060001005  A060000001           1  2020-03-24 00:17:36   \n",
       "...         ...              ...         ...         ...                  ...   \n",
       "2266581    7441       A030071005  A030000071           0  2020-06-05 06:50:21   \n",
       "2266582    7441       A040165001  A040000165           1  2020-08-21 01:06:39   \n",
       "2266583    7441       A040165002  A040000165           1  2020-08-21 01:06:50   \n",
       "2266584    7441       A040165003  A040000165           1  2020-08-21 01:07:36   \n",
       "2266585    7441       A040165004  A040000165           1  2020-08-21 01:08:49   \n",
       "\n",
       "         KnowledgeTag  \n",
       "0                7224  \n",
       "1                7225  \n",
       "2                7225  \n",
       "3                7225  \n",
       "4                7225  \n",
       "...               ...  \n",
       "2266581           438  \n",
       "2266582          8836  \n",
       "2266583          8836  \n",
       "2266584          8836  \n",
       "2266585          8836  \n",
       "\n",
       "[2266586 rows x 6 columns]"
      ]
     },
     "execution_count": 15,
     "metadata": {},
     "output_type": "execute_result"
    }
   ],
   "source": [
    "train_df"
   ]
  },
  {
   "cell_type": "code",
   "execution_count": 16,
   "id": "ae70a81f-293c-42e4-adf6-386ea2ed43d8",
   "metadata": {},
   "outputs": [
    {
     "name": "stdout",
     "output_type": "stream",
     "text": [
      "<class 'pandas.core.frame.DataFrame'>\n",
      "RangeIndex: 2266586 entries, 0 to 2266585\n",
      "Data columns (total 6 columns):\n",
      " #   Column            Dtype \n",
      "---  ------            ----- \n",
      " 0   userID            int64 \n",
      " 1   assessmentItemID  object\n",
      " 2   testId            object\n",
      " 3   answerCode        int64 \n",
      " 4   Timestamp         object\n",
      " 5   KnowledgeTag      int64 \n",
      "dtypes: int64(3), object(3)\n",
      "memory usage: 103.8+ MB\n"
     ]
    }
   ],
   "source": [
    "train_df.info()"
   ]
  },
  {
   "cell_type": "code",
   "execution_count": 17,
   "id": "a6ea84e0-d093-46e3-a5ad-d22e0f673ee1",
   "metadata": {},
   "outputs": [
    {
     "data": {
      "text/html": [
       "<div>\n",
       "<style scoped>\n",
       "    .dataframe tbody tr th:only-of-type {\n",
       "        vertical-align: middle;\n",
       "    }\n",
       "\n",
       "    .dataframe tbody tr th {\n",
       "        vertical-align: top;\n",
       "    }\n",
       "\n",
       "    .dataframe thead th {\n",
       "        text-align: right;\n",
       "    }\n",
       "</style>\n",
       "<table border=\"1\" class=\"dataframe\">\n",
       "  <thead>\n",
       "    <tr style=\"text-align: right;\">\n",
       "      <th></th>\n",
       "      <th>userID</th>\n",
       "      <th>assessmentItemID</th>\n",
       "      <th>testId</th>\n",
       "      <th>answerCode</th>\n",
       "      <th>Timestamp</th>\n",
       "      <th>KnowledgeTag</th>\n",
       "    </tr>\n",
       "  </thead>\n",
       "  <tbody>\n",
       "    <tr>\n",
       "      <th>0</th>\n",
       "      <td>3</td>\n",
       "      <td>A050023001</td>\n",
       "      <td>A050000023</td>\n",
       "      <td>1</td>\n",
       "      <td>2020-01-09 10:56:31</td>\n",
       "      <td>2626</td>\n",
       "    </tr>\n",
       "    <tr>\n",
       "      <th>1</th>\n",
       "      <td>3</td>\n",
       "      <td>A050023002</td>\n",
       "      <td>A050000023</td>\n",
       "      <td>1</td>\n",
       "      <td>2020-01-09 10:56:57</td>\n",
       "      <td>2626</td>\n",
       "    </tr>\n",
       "    <tr>\n",
       "      <th>2</th>\n",
       "      <td>3</td>\n",
       "      <td>A050023003</td>\n",
       "      <td>A050000023</td>\n",
       "      <td>0</td>\n",
       "      <td>2020-01-09 10:58:31</td>\n",
       "      <td>2625</td>\n",
       "    </tr>\n",
       "    <tr>\n",
       "      <th>3</th>\n",
       "      <td>3</td>\n",
       "      <td>A050023004</td>\n",
       "      <td>A050000023</td>\n",
       "      <td>0</td>\n",
       "      <td>2020-01-09 10:58:36</td>\n",
       "      <td>2625</td>\n",
       "    </tr>\n",
       "    <tr>\n",
       "      <th>4</th>\n",
       "      <td>3</td>\n",
       "      <td>A050023006</td>\n",
       "      <td>A050000023</td>\n",
       "      <td>0</td>\n",
       "      <td>2020-01-09 10:58:43</td>\n",
       "      <td>2623</td>\n",
       "    </tr>\n",
       "    <tr>\n",
       "      <th>...</th>\n",
       "      <td>...</td>\n",
       "      <td>...</td>\n",
       "      <td>...</td>\n",
       "      <td>...</td>\n",
       "      <td>...</td>\n",
       "      <td>...</td>\n",
       "    </tr>\n",
       "    <tr>\n",
       "      <th>260109</th>\n",
       "      <td>7439</td>\n",
       "      <td>A040130001</td>\n",
       "      <td>A040000130</td>\n",
       "      <td>0</td>\n",
       "      <td>2020-10-14 23:07:23</td>\n",
       "      <td>8832</td>\n",
       "    </tr>\n",
       "    <tr>\n",
       "      <th>260110</th>\n",
       "      <td>7439</td>\n",
       "      <td>A040130002</td>\n",
       "      <td>A040000130</td>\n",
       "      <td>1</td>\n",
       "      <td>2020-10-14 23:07:41</td>\n",
       "      <td>8832</td>\n",
       "    </tr>\n",
       "    <tr>\n",
       "      <th>260111</th>\n",
       "      <td>7439</td>\n",
       "      <td>A040130003</td>\n",
       "      <td>A040000130</td>\n",
       "      <td>1</td>\n",
       "      <td>2020-10-14 23:08:02</td>\n",
       "      <td>8244</td>\n",
       "    </tr>\n",
       "    <tr>\n",
       "      <th>260112</th>\n",
       "      <td>7439</td>\n",
       "      <td>A040130004</td>\n",
       "      <td>A040000130</td>\n",
       "      <td>1</td>\n",
       "      <td>2020-10-14 23:09:31</td>\n",
       "      <td>8244</td>\n",
       "    </tr>\n",
       "    <tr>\n",
       "      <th>260113</th>\n",
       "      <td>7439</td>\n",
       "      <td>A040130005</td>\n",
       "      <td>A040000130</td>\n",
       "      <td>-1</td>\n",
       "      <td>2020-10-14 23:10:03</td>\n",
       "      <td>8832</td>\n",
       "    </tr>\n",
       "  </tbody>\n",
       "</table>\n",
       "<p>260114 rows × 6 columns</p>\n",
       "</div>"
      ],
      "text/plain": [
       "        userID assessmentItemID      testId  answerCode            Timestamp  \\\n",
       "0            3       A050023001  A050000023           1  2020-01-09 10:56:31   \n",
       "1            3       A050023002  A050000023           1  2020-01-09 10:56:57   \n",
       "2            3       A050023003  A050000023           0  2020-01-09 10:58:31   \n",
       "3            3       A050023004  A050000023           0  2020-01-09 10:58:36   \n",
       "4            3       A050023006  A050000023           0  2020-01-09 10:58:43   \n",
       "...        ...              ...         ...         ...                  ...   \n",
       "260109    7439       A040130001  A040000130           0  2020-10-14 23:07:23   \n",
       "260110    7439       A040130002  A040000130           1  2020-10-14 23:07:41   \n",
       "260111    7439       A040130003  A040000130           1  2020-10-14 23:08:02   \n",
       "260112    7439       A040130004  A040000130           1  2020-10-14 23:09:31   \n",
       "260113    7439       A040130005  A040000130          -1  2020-10-14 23:10:03   \n",
       "\n",
       "        KnowledgeTag  \n",
       "0               2626  \n",
       "1               2626  \n",
       "2               2625  \n",
       "3               2625  \n",
       "4               2623  \n",
       "...              ...  \n",
       "260109          8832  \n",
       "260110          8832  \n",
       "260111          8244  \n",
       "260112          8244  \n",
       "260113          8832  \n",
       "\n",
       "[260114 rows x 6 columns]"
      ]
     },
     "execution_count": 17,
     "metadata": {},
     "output_type": "execute_result"
    }
   ],
   "source": [
    "test_df"
   ]
  },
  {
   "cell_type": "code",
   "execution_count": 18,
   "id": "41d5d7e7-d033-4df5-82d2-fff60c2049df",
   "metadata": {},
   "outputs": [
    {
     "data": {
      "text/plain": [
       "744"
      ]
     },
     "execution_count": 18,
     "metadata": {},
     "output_type": "execute_result"
    }
   ],
   "source": [
    "len(test_df.userID.unique())"
   ]
  },
  {
   "cell_type": "code",
   "execution_count": 19,
   "id": "1a19a3e4-3c84-4068-8270-73af18f17b10",
   "metadata": {},
   "outputs": [
    {
     "data": {
      "text/html": [
       "<div>\n",
       "<style scoped>\n",
       "    .dataframe tbody tr th:only-of-type {\n",
       "        vertical-align: middle;\n",
       "    }\n",
       "\n",
       "    .dataframe tbody tr th {\n",
       "        vertical-align: top;\n",
       "    }\n",
       "\n",
       "    .dataframe thead th {\n",
       "        text-align: right;\n",
       "    }\n",
       "</style>\n",
       "<table border=\"1\" class=\"dataframe\">\n",
       "  <thead>\n",
       "    <tr style=\"text-align: right;\">\n",
       "      <th></th>\n",
       "      <th>id</th>\n",
       "      <th>prediction</th>\n",
       "    </tr>\n",
       "  </thead>\n",
       "  <tbody>\n",
       "    <tr>\n",
       "      <th>0</th>\n",
       "      <td>0</td>\n",
       "      <td>0.5</td>\n",
       "    </tr>\n",
       "    <tr>\n",
       "      <th>1</th>\n",
       "      <td>1</td>\n",
       "      <td>0.5</td>\n",
       "    </tr>\n",
       "    <tr>\n",
       "      <th>2</th>\n",
       "      <td>2</td>\n",
       "      <td>0.5</td>\n",
       "    </tr>\n",
       "    <tr>\n",
       "      <th>3</th>\n",
       "      <td>3</td>\n",
       "      <td>0.5</td>\n",
       "    </tr>\n",
       "    <tr>\n",
       "      <th>4</th>\n",
       "      <td>4</td>\n",
       "      <td>0.5</td>\n",
       "    </tr>\n",
       "    <tr>\n",
       "      <th>...</th>\n",
       "      <td>...</td>\n",
       "      <td>...</td>\n",
       "    </tr>\n",
       "    <tr>\n",
       "      <th>739</th>\n",
       "      <td>739</td>\n",
       "      <td>0.5</td>\n",
       "    </tr>\n",
       "    <tr>\n",
       "      <th>740</th>\n",
       "      <td>740</td>\n",
       "      <td>0.5</td>\n",
       "    </tr>\n",
       "    <tr>\n",
       "      <th>741</th>\n",
       "      <td>741</td>\n",
       "      <td>0.5</td>\n",
       "    </tr>\n",
       "    <tr>\n",
       "      <th>742</th>\n",
       "      <td>742</td>\n",
       "      <td>0.5</td>\n",
       "    </tr>\n",
       "    <tr>\n",
       "      <th>743</th>\n",
       "      <td>743</td>\n",
       "      <td>0.5</td>\n",
       "    </tr>\n",
       "  </tbody>\n",
       "</table>\n",
       "<p>744 rows × 2 columns</p>\n",
       "</div>"
      ],
      "text/plain": [
       "      id  prediction\n",
       "0      0         0.5\n",
       "1      1         0.5\n",
       "2      2         0.5\n",
       "3      3         0.5\n",
       "4      4         0.5\n",
       "..   ...         ...\n",
       "739  739         0.5\n",
       "740  740         0.5\n",
       "741  741         0.5\n",
       "742  742         0.5\n",
       "743  743         0.5\n",
       "\n",
       "[744 rows x 2 columns]"
      ]
     },
     "execution_count": 19,
     "metadata": {},
     "output_type": "execute_result"
    }
   ],
   "source": [
    "sample_submission_df"
   ]
  },
  {
   "cell_type": "markdown",
   "id": "c9b9319f-9407-451e-840a-fc44cdbc8fb6",
   "metadata": {},
   "source": [
    "## Preprocess data\n",
    "\n",
    "이하 EDA는 모두 train dataset만을 대상으로 함. "
   ]
  },
  {
   "cell_type": "markdown",
   "id": "0f38ce5f-36f0-48a1-af5d-374cb7b0408a",
   "metadata": {},
   "source": [
    "### Sorting & Change type"
   ]
  },
  {
   "cell_type": "code",
   "execution_count": 20,
   "id": "7a288559-5d54-4a4a-a10c-bd2bde9715a5",
   "metadata": {},
   "outputs": [],
   "source": [
    "# sort dataset\n",
    "\n",
    "train_df.sort_values(by=['userID', 'Timestamp'], ignore_index=True, inplace=True)"
   ]
  },
  {
   "cell_type": "code",
   "execution_count": 21,
   "id": "bdc9413a-c246-4d5d-94c3-fc05f5b47f9c",
   "metadata": {},
   "outputs": [],
   "source": [
    "# change Timestamp format from str to datetime\n",
    "\n",
    "train_df.Timestamp = pd.to_datetime(train_df.Timestamp)\n",
    "test_df.Timestamp = pd.to_datetime(test_df.Timestamp)"
   ]
  },
  {
   "cell_type": "markdown",
   "id": "0d02534a-b3f6-4fc4-8460-5bde9ccfbcc3",
   "metadata": {},
   "source": [
    "### Categorical features from existing str features"
   ]
  },
  {
   "cell_type": "code",
   "execution_count": 22,
   "id": "39e8b102-07ff-4dba-9d33-957157ff020f",
   "metadata": {},
   "outputs": [],
   "source": [
    "train_df.loc[:, \"test_cat\"] = train_df.testId.str[2] # 대분류\n",
    "train_df.loc[:, \"question_num\"] = train_df.assessmentItemID.str[7:10]"
   ]
  },
  {
   "cell_type": "code",
   "execution_count": 23,
   "id": "c27352f7-3ac6-4400-b9f7-20c5879ff919",
   "metadata": {},
   "outputs": [],
   "source": [
    "train_df.test_cat = train_df.test_cat.astype(int) # to save space\n",
    "train_df.question_num = train_df.question_num.astype(int) # to make it sequential"
   ]
  },
  {
   "cell_type": "markdown",
   "id": "d1cf2a5a-b8a8-452f-b1f1-cd9d5dc13435",
   "metadata": {},
   "source": [
    "### timedelta"
   ]
  },
  {
   "cell_type": "code",
   "execution_count": null,
   "id": "4a9217a9-faea-473d-ba96-a33068cf726f",
   "metadata": {},
   "outputs": [],
   "source": [
    "# TODO: Fix timedelta\n",
    "\n",
    "# feat: (EDA) Preprocess initial columns EXCEPT \"delta\"\n",
    "\n",
    "# Do not use delta. Current timedelta is inaccurate because:\n",
    "# - Groupby userID and testId breaks when the user takes the same test more than once. \n",
    "# - timedelta should be shifted by one because it is the time answer is submitted. "
   ]
  },
  {
   "cell_type": "code",
   "execution_count": 44,
   "id": "545b6ac6-86ee-454f-b0e9-c0fcb5269807",
   "metadata": {},
   "outputs": [
    {
     "name": "stdout",
     "output_type": "stream",
     "text": [
      "CPU times: user 1min 43s, sys: 664 ms, total: 1min 43s\n",
      "Wall time: 1min 44s\n"
     ]
    }
   ],
   "source": [
    "%%time\n",
    "\n",
    "stu_test_groupby = train_df.groupby(['userID', 'testId'])\n",
    "train_df.loc[:, \"delta\"] = stu_test_groupby['Timestamp'].diff()"
   ]
  },
  {
   "cell_type": "markdown",
   "id": "5433ba8e-82ae-48b4-b202-b620362e9741",
   "metadata": {},
   "source": [
    "한`userID`가 같은 `testId`를 여러 번 푸는 경우는 없을까? \n",
    "\n",
    "시험을 한 번 보고 3개월 뒤 같은 시험을 또 보고 이러면 Timestamp가 엄청 큰 간격으로 찍혀버린다. \n",
    "\n",
    "그러면 당연히 time delta를 구했을 때 매우 긴 시간 (몇 주~ 몇 개월씩) 나올 수 있다. \n",
    "\n",
    "아래의 결과를 보면, 실제로 한 사람이 같은 테스트를 6월에 한 번, 8월에 한 번 또 보는 것을 볼 수 있다. \n",
    "\n",
    "그 결과 delta로 56days라는 이상한 값이 나와버린다. "
   ]
  },
  {
   "cell_type": "code",
   "execution_count": 50,
   "id": "03c26188-8c8b-4ed0-9092-fdea338ac294",
   "metadata": {
    "tags": []
   },
   "outputs": [
    {
     "name": "stdout",
     "output_type": "stream",
     "text": [
      "CPU times: user 2min 35s, sys: 788 ms, total: 2min 36s\n",
      "Wall time: 2min 36s\n"
     ]
    },
    {
     "data": {
      "text/plain": [
       "9492"
      ]
     },
     "execution_count": 50,
     "metadata": {},
     "output_type": "execute_result"
    }
   ],
   "source": [
    "%%time\n",
    "\n",
    "stu_test_df_l = list(stu_test_groupby)\n",
    "# stu_test_df_l = [x[1] for x in stu_test_df_l]\n",
    "more_than_1_test_df_l = [x for x in stu_test_df_l if x[1].Timestamp.max().date() != x[1].Timestamp.min().date()]\n",
    "len(more_than_1_test_df_l)"
   ]
  },
  {
   "cell_type": "code",
   "execution_count": 54,
   "id": "72b77150-0313-4441-a292-0c8e28e03fee",
   "metadata": {},
   "outputs": [
    {
     "data": {
      "text/html": [
       "<div>\n",
       "<style scoped>\n",
       "    .dataframe tbody tr th:only-of-type {\n",
       "        vertical-align: middle;\n",
       "    }\n",
       "\n",
       "    .dataframe tbody tr th {\n",
       "        vertical-align: top;\n",
       "    }\n",
       "\n",
       "    .dataframe thead th {\n",
       "        text-align: right;\n",
       "    }\n",
       "</style>\n",
       "<table border=\"1\" class=\"dataframe\">\n",
       "  <thead>\n",
       "    <tr style=\"text-align: right;\">\n",
       "      <th></th>\n",
       "      <th>userID</th>\n",
       "      <th>assessmentItemID</th>\n",
       "      <th>testId</th>\n",
       "      <th>answerCode</th>\n",
       "      <th>Timestamp</th>\n",
       "      <th>KnowledgeTag</th>\n",
       "      <th>test_cat</th>\n",
       "      <th>question_num</th>\n",
       "      <th>delta</th>\n",
       "    </tr>\n",
       "  </thead>\n",
       "  <tbody>\n",
       "    <tr>\n",
       "      <th>1166</th>\n",
       "      <td>1</td>\n",
       "      <td>A040155001</td>\n",
       "      <td>A040000155</td>\n",
       "      <td>1</td>\n",
       "      <td>2020-06-21 22:57:14</td>\n",
       "      <td>2111</td>\n",
       "      <td>4</td>\n",
       "      <td>1</td>\n",
       "      <td>NaT</td>\n",
       "    </tr>\n",
       "    <tr>\n",
       "      <th>1167</th>\n",
       "      <td>1</td>\n",
       "      <td>A040155002</td>\n",
       "      <td>A040000155</td>\n",
       "      <td>1</td>\n",
       "      <td>2020-06-21 22:57:55</td>\n",
       "      <td>2111</td>\n",
       "      <td>4</td>\n",
       "      <td>2</td>\n",
       "      <td>0 days 00:00:41</td>\n",
       "    </tr>\n",
       "    <tr>\n",
       "      <th>1168</th>\n",
       "      <td>1</td>\n",
       "      <td>A040155003</td>\n",
       "      <td>A040000155</td>\n",
       "      <td>0</td>\n",
       "      <td>2020-06-21 22:58:33</td>\n",
       "      <td>2111</td>\n",
       "      <td>4</td>\n",
       "      <td>3</td>\n",
       "      <td>0 days 00:00:38</td>\n",
       "    </tr>\n",
       "    <tr>\n",
       "      <th>1169</th>\n",
       "      <td>1</td>\n",
       "      <td>A040155004</td>\n",
       "      <td>A040000155</td>\n",
       "      <td>1</td>\n",
       "      <td>2020-06-21 22:58:49</td>\n",
       "      <td>2111</td>\n",
       "      <td>4</td>\n",
       "      <td>4</td>\n",
       "      <td>0 days 00:00:16</td>\n",
       "    </tr>\n",
       "    <tr>\n",
       "      <th>1170</th>\n",
       "      <td>1</td>\n",
       "      <td>A040155005</td>\n",
       "      <td>A040000155</td>\n",
       "      <td>0</td>\n",
       "      <td>2020-06-21 23:00:10</td>\n",
       "      <td>2111</td>\n",
       "      <td>4</td>\n",
       "      <td>5</td>\n",
       "      <td>0 days 00:01:21</td>\n",
       "    </tr>\n",
       "    <tr>\n",
       "      <th>1171</th>\n",
       "      <td>1</td>\n",
       "      <td>A040155006</td>\n",
       "      <td>A040000155</td>\n",
       "      <td>0</td>\n",
       "      <td>2020-06-21 23:01:44</td>\n",
       "      <td>2111</td>\n",
       "      <td>4</td>\n",
       "      <td>6</td>\n",
       "      <td>0 days 00:01:34</td>\n",
       "    </tr>\n",
       "    <tr>\n",
       "      <th>1397</th>\n",
       "      <td>1</td>\n",
       "      <td>A040155001</td>\n",
       "      <td>A040000155</td>\n",
       "      <td>1</td>\n",
       "      <td>2020-08-17 09:56:27</td>\n",
       "      <td>2111</td>\n",
       "      <td>4</td>\n",
       "      <td>1</td>\n",
       "      <td>56 days 10:54:43</td>\n",
       "    </tr>\n",
       "    <tr>\n",
       "      <th>1398</th>\n",
       "      <td>1</td>\n",
       "      <td>A040155002</td>\n",
       "      <td>A040000155</td>\n",
       "      <td>1</td>\n",
       "      <td>2020-08-17 09:57:06</td>\n",
       "      <td>2111</td>\n",
       "      <td>4</td>\n",
       "      <td>2</td>\n",
       "      <td>0 days 00:00:39</td>\n",
       "    </tr>\n",
       "    <tr>\n",
       "      <th>1399</th>\n",
       "      <td>1</td>\n",
       "      <td>A040155003</td>\n",
       "      <td>A040000155</td>\n",
       "      <td>1</td>\n",
       "      <td>2020-08-17 09:58:03</td>\n",
       "      <td>2111</td>\n",
       "      <td>4</td>\n",
       "      <td>3</td>\n",
       "      <td>0 days 00:00:57</td>\n",
       "    </tr>\n",
       "    <tr>\n",
       "      <th>1400</th>\n",
       "      <td>1</td>\n",
       "      <td>A040155004</td>\n",
       "      <td>A040000155</td>\n",
       "      <td>1</td>\n",
       "      <td>2020-08-17 09:58:29</td>\n",
       "      <td>2111</td>\n",
       "      <td>4</td>\n",
       "      <td>4</td>\n",
       "      <td>0 days 00:00:26</td>\n",
       "    </tr>\n",
       "    <tr>\n",
       "      <th>1401</th>\n",
       "      <td>1</td>\n",
       "      <td>A040155005</td>\n",
       "      <td>A040000155</td>\n",
       "      <td>0</td>\n",
       "      <td>2020-08-17 09:59:40</td>\n",
       "      <td>2111</td>\n",
       "      <td>4</td>\n",
       "      <td>5</td>\n",
       "      <td>0 days 00:01:11</td>\n",
       "    </tr>\n",
       "    <tr>\n",
       "      <th>1402</th>\n",
       "      <td>1</td>\n",
       "      <td>A040155006</td>\n",
       "      <td>A040000155</td>\n",
       "      <td>1</td>\n",
       "      <td>2020-08-17 10:02:07</td>\n",
       "      <td>2111</td>\n",
       "      <td>4</td>\n",
       "      <td>6</td>\n",
       "      <td>0 days 00:02:27</td>\n",
       "    </tr>\n",
       "  </tbody>\n",
       "</table>\n",
       "</div>"
      ],
      "text/plain": [
       "      userID assessmentItemID      testId  answerCode           Timestamp  \\\n",
       "1166       1       A040155001  A040000155           1 2020-06-21 22:57:14   \n",
       "1167       1       A040155002  A040000155           1 2020-06-21 22:57:55   \n",
       "1168       1       A040155003  A040000155           0 2020-06-21 22:58:33   \n",
       "1169       1       A040155004  A040000155           1 2020-06-21 22:58:49   \n",
       "1170       1       A040155005  A040000155           0 2020-06-21 23:00:10   \n",
       "1171       1       A040155006  A040000155           0 2020-06-21 23:01:44   \n",
       "1397       1       A040155001  A040000155           1 2020-08-17 09:56:27   \n",
       "1398       1       A040155002  A040000155           1 2020-08-17 09:57:06   \n",
       "1399       1       A040155003  A040000155           1 2020-08-17 09:58:03   \n",
       "1400       1       A040155004  A040000155           1 2020-08-17 09:58:29   \n",
       "1401       1       A040155005  A040000155           0 2020-08-17 09:59:40   \n",
       "1402       1       A040155006  A040000155           1 2020-08-17 10:02:07   \n",
       "\n",
       "      KnowledgeTag  test_cat  question_num            delta  \n",
       "1166          2111         4             1              NaT  \n",
       "1167          2111         4             2  0 days 00:00:41  \n",
       "1168          2111         4             3  0 days 00:00:38  \n",
       "1169          2111         4             4  0 days 00:00:16  \n",
       "1170          2111         4             5  0 days 00:01:21  \n",
       "1171          2111         4             6  0 days 00:01:34  \n",
       "1397          2111         4             1 56 days 10:54:43  \n",
       "1398          2111         4             2  0 days 00:00:39  \n",
       "1399          2111         4             3  0 days 00:00:57  \n",
       "1400          2111         4             4  0 days 00:00:26  \n",
       "1401          2111         4             5  0 days 00:01:11  \n",
       "1402          2111         4             6  0 days 00:02:27  "
      ]
     },
     "execution_count": 54,
     "metadata": {},
     "output_type": "execute_result"
    }
   ],
   "source": [
    "more_than_1_test_df_l[0][1]"
   ]
  },
  {
   "cell_type": "markdown",
   "id": "75b33f2a-8f0b-4444-b1e7-f4c4ce54f932",
   "metadata": {},
   "source": [
    "### Quick and dirty solution: Exclude `more_than_1_test_df_l`\n",
    "\n",
    "이는 이후 correlation clustering을 하기 위함"
   ]
  },
  {
   "cell_type": "code",
   "execution_count": 52,
   "id": "2e65c482-f4cb-4519-b4c5-c0428c36c44b",
   "metadata": {},
   "outputs": [
    {
     "name": "stdout",
     "output_type": "stream",
     "text": [
      "CPU times: user 1min 7s, sys: 36 ms, total: 1min 7s\n",
      "Wall time: 1min 7s\n"
     ]
    },
    {
     "data": {
      "text/plain": [
       "355672"
      ]
     },
     "execution_count": 52,
     "metadata": {},
     "output_type": "execute_result"
    }
   ],
   "source": [
    "%%time\n",
    "\n",
    "no_more_than_1_test_df_l = [x for x in stu_test_df_l if x[1].Timestamp.max().date() == x[1].Timestamp.min().date()]\n",
    "len(no_more_than_1_test_df_l)"
   ]
  },
  {
   "cell_type": "code",
   "execution_count": 53,
   "id": "f52b63ee-7dab-4836-b323-55640f2c74b2",
   "metadata": {},
   "outputs": [
    {
     "data": {
      "text/plain": [
       "((0, 'A020000172'),\n",
       "      userID assessmentItemID      testId  answerCode           Timestamp  \\\n",
       " 584       0       A020172001  A020000172           1 2020-10-11 11:06:47   \n",
       " 585       0       A020172002  A020000172           1 2020-10-11 11:06:56   \n",
       " 586       0       A020172003  A020000172           1 2020-10-11 11:07:13   \n",
       " 587       0       A020172004  A020000172           1 2020-10-11 11:07:46   \n",
       " 588       0       A020172005  A020000172           0 2020-10-11 11:08:20   \n",
       " 589       0       A020172006  A020000172           0 2020-10-11 11:10:01   \n",
       " \n",
       "      KnowledgeTag  test_cat  question_num           delta  \n",
       " 584          8132         2             1             NaT  \n",
       " 585          8132         2             2 0 days 00:00:09  \n",
       " 586          8132         2             3 0 days 00:00:17  \n",
       " 587          8132         2             4 0 days 00:00:33  \n",
       " 588          8132         2             5 0 days 00:00:34  \n",
       " 589          8132         2             6 0 days 00:01:41  )"
      ]
     },
     "execution_count": 53,
     "metadata": {},
     "output_type": "execute_result"
    }
   ],
   "source": [
    "no_more_than_1_test_df_l[0]"
   ]
  },
  {
   "cell_type": "code",
   "execution_count": 42,
   "id": "2bb6131f-ece2-43e3-a226-d6e515dde5ec",
   "metadata": {},
   "outputs": [
    {
     "name": "stdout",
     "output_type": "stream",
     "text": [
      "<class 'pandas.core.frame.DataFrame'>\n",
      "RangeIndex: 2266586 entries, 0 to 2266585\n",
      "Data columns (total 9 columns):\n",
      " #   Column            Dtype          \n",
      "---  ------            -----          \n",
      " 0   userID            int64          \n",
      " 1   assessmentItemID  object         \n",
      " 2   testId            object         \n",
      " 3   answerCode        int64          \n",
      " 4   Timestamp         datetime64[ns] \n",
      " 5   KnowledgeTag      int64          \n",
      " 6   test_cat          int64          \n",
      " 7   question_num      int64          \n",
      " 8   delta             timedelta64[ns]\n",
      "dtypes: datetime64[ns](1), int64(5), object(2), timedelta64[ns](1)\n",
      "memory usage: 155.6+ MB\n"
     ]
    }
   ],
   "source": [
    "train_df.info()"
   ]
  }
 ],
 "metadata": {
  "kernelspec": {
   "display_name": "Python 3",
   "language": "python",
   "name": "python3"
  },
  "language_info": {
   "codemirror_mode": {
    "name": "ipython",
    "version": 3
   },
   "file_extension": ".py",
   "mimetype": "text/x-python",
   "name": "python",
   "nbconvert_exporter": "python",
   "pygments_lexer": "ipython3",
   "version": "3.7.7"
  }
 },
 "nbformat": 4,
 "nbformat_minor": 5
}
