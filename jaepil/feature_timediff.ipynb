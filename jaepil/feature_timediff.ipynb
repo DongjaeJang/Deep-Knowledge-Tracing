{
 "cells": [
  {
   "cell_type": "markdown",
   "id": "d340ab1d-5d68-4f00-88d2-16c4f7832cad",
   "metadata": {},
   "source": [
    "# Timestamp `delta`"
   ]
  },
  {
   "cell_type": "code",
   "execution_count": 1,
   "id": "19d9317a-09e1-47cf-8d31-1d4df91b1921",
   "metadata": {},
   "outputs": [],
   "source": [
    "import os, sys\n",
    "from pathlib import Path\n",
    "from glob import glob"
   ]
  },
  {
   "cell_type": "code",
   "execution_count": 2,
   "id": "abda8b01-94bd-4e86-92ab-ca08bd619cfe",
   "metadata": {},
   "outputs": [
    {
     "data": {
      "text/plain": [
       "PosixPath('/opt/ml')"
      ]
     },
     "execution_count": 2,
     "metadata": {},
     "output_type": "execute_result"
    }
   ],
   "source": [
    "BASE_PATH = Path('.').resolve().parent\n",
    "BASE_PATH"
   ]
  },
  {
   "cell_type": "code",
   "execution_count": 3,
   "id": "74123034-f22a-45c2-8e2b-d4b925f21e88",
   "metadata": {},
   "outputs": [],
   "source": [
    "if BASE_PATH.as_posix() not in sys.path:\n",
    "    sys.path.append(BASE_PATH.as_posix())"
   ]
  },
  {
   "cell_type": "code",
   "execution_count": 4,
   "id": "4769d283-98a0-46b7-8d5b-eed2914c6ce0",
   "metadata": {},
   "outputs": [
    {
     "data": {
      "text/plain": [
       "['/opt/ml/jaepil',\n",
       " '/opt/conda/lib/python37.zip',\n",
       " '/opt/conda/lib/python3.7',\n",
       " '/opt/conda/lib/python3.7/lib-dynload',\n",
       " '',\n",
       " '/opt/conda/lib/python3.7/site-packages',\n",
       " '/opt/conda/lib/python3.7/site-packages/transformers-4.6.1-py3.8.egg',\n",
       " '/opt/conda/lib/python3.7/site-packages/IPython/extensions',\n",
       " '/opt/ml/.ipython',\n",
       " '/opt/ml']"
      ]
     },
     "execution_count": 4,
     "metadata": {},
     "output_type": "execute_result"
    }
   ],
   "source": [
    "sys.path"
   ]
  },
  {
   "cell_type": "code",
   "execution_count": 5,
   "id": "c3815c1b-7d1a-43e9-a15f-05f0f80ca846",
   "metadata": {},
   "outputs": [],
   "source": [
    "import matplotlib as mpl\n",
    "import matplotlib.pyplot as plt\n",
    "import seaborn as sns"
   ]
  },
  {
   "cell_type": "code",
   "execution_count": 6,
   "id": "7610756f-4243-4d8f-b989-375bdc358f78",
   "metadata": {},
   "outputs": [],
   "source": [
    "import numpy as np\n",
    "import pandas as pd"
   ]
  },
  {
   "cell_type": "code",
   "execution_count": 19,
   "id": "5f67e779-c9a2-4dd6-8d6f-949484d71a95",
   "metadata": {},
   "outputs": [],
   "source": [
    "import datetime"
   ]
  },
  {
   "cell_type": "code",
   "execution_count": 7,
   "id": "7cfb8d05-c192-4b49-a3ca-a5bdebd39949",
   "metadata": {},
   "outputs": [],
   "source": [
    "import numba\n",
    "import dask.dataframe as dd"
   ]
  },
  {
   "cell_type": "code",
   "execution_count": 8,
   "id": "d28145d6-4412-47d3-9670-a97a2aa5a09a",
   "metadata": {},
   "outputs": [],
   "source": [
    "import json\n",
    "import pickle"
   ]
  },
  {
   "cell_type": "code",
   "execution_count": 9,
   "id": "8727d0a4-62a1-4319-9531-b08f71c70988",
   "metadata": {},
   "outputs": [],
   "source": [
    "from tqdm import tqdm, trange\n",
    "# from tqdm.notebook import tqdm\n",
    "from time import time"
   ]
  },
  {
   "cell_type": "code",
   "execution_count": 10,
   "id": "bd95e99a-ca80-43d4-858d-ceba89f60e46",
   "metadata": {},
   "outputs": [
    {
     "data": {
      "text/plain": [
       "'1.6.0'"
      ]
     },
     "execution_count": 10,
     "metadata": {},
     "output_type": "execute_result"
    }
   ],
   "source": [
    "import torch\n",
    "import torch.nn as nn\n",
    "import torch.nn.functional as F\n",
    "import torch.optim as optim\n",
    "\n",
    "torch.__version__"
   ]
  },
  {
   "cell_type": "code",
   "execution_count": 11,
   "id": "81d2b7df-fe40-49d2-b432-413669147a98",
   "metadata": {},
   "outputs": [
    {
     "data": {
      "text/plain": [
       "device(type='cuda', index=0)"
      ]
     },
     "execution_count": 11,
     "metadata": {},
     "output_type": "execute_result"
    }
   ],
   "source": [
    "device = torch.device('cuda:0' if torch.cuda.is_available() else 'cpu')\n",
    "device # Always check cudatoolkit version!"
   ]
  },
  {
   "cell_type": "code",
   "execution_count": 12,
   "id": "9788951d-6e5a-4908-990a-154c5598618f",
   "metadata": {},
   "outputs": [],
   "source": [
    "from collections import defaultdict"
   ]
  },
  {
   "cell_type": "markdown",
   "id": "aa43e532-96f1-4065-9f2e-6f2cddae4277",
   "metadata": {},
   "source": [
    "## Load data\n",
    "\n",
    "`['user_id', 'Timestamp']`로 sorting되고\n",
    "\n",
    "`Timestamp`가 `datetime64` type으로 변환되었으며\n",
    "\n",
    "`testId`에서 대분류인 `test_cat`을 뽑아내고\n",
    "\n",
    "`assessmentItemID`에서 문제번호인 `question_num`을 뽑아낸\n",
    "\n",
    "상태로 저장된 `train_df` 피클을 불러온다. "
   ]
  },
  {
   "cell_type": "code",
   "execution_count": 65,
   "id": "8a51f133-f61c-448a-bb78-decb3277a1e8",
   "metadata": {},
   "outputs": [],
   "source": [
    "train_df = pd.read_pickle('train_df.pkl')"
   ]
  },
  {
   "cell_type": "code",
   "execution_count": 66,
   "id": "993c6512-f0c8-48dc-8bc5-4cbb4f459214",
   "metadata": {},
   "outputs": [
    {
     "name": "stdout",
     "output_type": "stream",
     "text": [
      "<class 'pandas.core.frame.DataFrame'>\n",
      "RangeIndex: 2266586 entries, 0 to 2266585\n",
      "Data columns (total 8 columns):\n",
      " #   Column            Dtype         \n",
      "---  ------            -----         \n",
      " 0   userID            int64         \n",
      " 1   assessmentItemID  object        \n",
      " 2   testId            object        \n",
      " 3   answerCode        int64         \n",
      " 4   Timestamp         datetime64[ns]\n",
      " 5   KnowledgeTag      int64         \n",
      " 6   test_cat          int64         \n",
      " 7   question_num      int64         \n",
      "dtypes: datetime64[ns](1), int64(5), object(2)\n",
      "memory usage: 138.3+ MB\n"
     ]
    }
   ],
   "source": [
    "train_df.info()"
   ]
  },
  {
   "cell_type": "markdown",
   "id": "ec0a380d-f709-4636-93e0-819d5b8f0670",
   "metadata": {},
   "source": [
    "## groupby로 timedelta (`delta`) 구하기\n",
    "\n",
    "각 유저가 각 테스트를 풀 때 한 문제에 얼마나 걸리는지 `Timestamp`를 diff해서 구한다. \n",
    "\n",
    "그런데 이전에 살펴봤듯, 한 유저가 어떤 테스트를 2번 이상 풀게되면 diff된 timedelta가 말도안되게 큰 경우가 생긴다. \n",
    "- 어떤 테스트를 3월에 한 번 보고 6월에 또 보면 `['userID', 'testId']`로 groupby했을 때 3월에 본 기록이랑 6월에 본 기록이 함께 붙은채로 나온다. \n",
    "- 때문에 그냥 Timestamp diff를 하면 3월에 테스트의 마지막 문제를 푼 시간과 6월에 테스트의 첫번째 문제를 푼 시간이 서로 diff된다. \n",
    "\n",
    "따라서 그냥 간단하게 해결하기 위해 1시간보다 큰 값은 첫 문제라고 가정하고 그냥 걸린 시간(`delta`)을 0 seconds로 바꿔준다. "
   ]
  },
  {
   "cell_type": "code",
   "execution_count": 67,
   "id": "25a3348c-20d6-40c3-ad64-3e316fd14bb1",
   "metadata": {},
   "outputs": [
    {
     "name": "stdout",
     "output_type": "stream",
     "text": [
      "CPU times: user 1min 39s, sys: 348 ms, total: 1min 39s\n",
      "Wall time: 1min 39s\n"
     ]
    }
   ],
   "source": [
    "%%time\n",
    "\n",
    "stu_test_groupby = train_df.groupby(['userID', 'testId'])\n",
    "train_df.loc[:, \"delta\"] = stu_test_groupby['Timestamp'].diff()"
   ]
  },
  {
   "cell_type": "code",
   "execution_count": 72,
   "id": "f599db3a-e698-4d07-bb67-90d6a5fcca49",
   "metadata": {},
   "outputs": [
    {
     "name": "stdout",
     "output_type": "stream",
     "text": [
      "CPU times: user 48 ms, sys: 72 ms, total: 120 ms\n",
      "Wall time: 120 ms\n"
     ]
    }
   ],
   "source": [
    "%%time\n",
    "\n",
    "train_df.delta.fillna(value=pd.Timedelta(seconds=0), inplace=True)\n",
    "train_df[train_df.delta > pd.Timedelta(hours=1)].loc[:, 'delta'] = pd.Timedelta(seconds=0)"
   ]
  },
  {
   "cell_type": "code",
   "execution_count": 69,
   "id": "2bd5926b-3481-4812-95f4-9b00d560a120",
   "metadata": {},
   "outputs": [
    {
     "data": {
      "text/plain": [
       "0         0 days 00:00:00\n",
       "1         0 days 00:00:03\n",
       "2         0 days 00:00:08\n",
       "3         0 days 00:00:07\n",
       "4         0 days 00:00:07\n",
       "                ...      \n",
       "2266581   0 days 00:00:24\n",
       "2266582   0 days 00:00:00\n",
       "2266583   0 days 00:00:11\n",
       "2266584   0 days 00:00:46\n",
       "2266585   0 days 00:01:13\n",
       "Name: delta, Length: 2266586, dtype: timedelta64[ns]"
      ]
     },
     "execution_count": 69,
     "metadata": {},
     "output_type": "execute_result"
    }
   ],
   "source": [
    "train_df.delta"
   ]
  },
  {
   "cell_type": "code",
   "execution_count": 70,
   "id": "44c49a12-280c-47df-8b69-bd7dd968bb83",
   "metadata": {},
   "outputs": [
    {
     "data": {
      "text/html": [
       "<div>\n",
       "<style scoped>\n",
       "    .dataframe tbody tr th:only-of-type {\n",
       "        vertical-align: middle;\n",
       "    }\n",
       "\n",
       "    .dataframe tbody tr th {\n",
       "        vertical-align: top;\n",
       "    }\n",
       "\n",
       "    .dataframe thead th {\n",
       "        text-align: right;\n",
       "    }\n",
       "</style>\n",
       "<table border=\"1\" class=\"dataframe\">\n",
       "  <thead>\n",
       "    <tr style=\"text-align: right;\">\n",
       "      <th></th>\n",
       "      <th>userID</th>\n",
       "      <th>assessmentItemID</th>\n",
       "      <th>testId</th>\n",
       "      <th>answerCode</th>\n",
       "      <th>Timestamp</th>\n",
       "      <th>KnowledgeTag</th>\n",
       "      <th>test_cat</th>\n",
       "      <th>question_num</th>\n",
       "      <th>delta</th>\n",
       "    </tr>\n",
       "  </thead>\n",
       "  <tbody>\n",
       "    <tr>\n",
       "      <th>0</th>\n",
       "      <td>0</td>\n",
       "      <td>A060001001</td>\n",
       "      <td>A060000001</td>\n",
       "      <td>1</td>\n",
       "      <td>2020-03-24 00:17:11</td>\n",
       "      <td>7224</td>\n",
       "      <td>6</td>\n",
       "      <td>1</td>\n",
       "      <td>0 days 00:00:00</td>\n",
       "    </tr>\n",
       "    <tr>\n",
       "      <th>1</th>\n",
       "      <td>0</td>\n",
       "      <td>A060001002</td>\n",
       "      <td>A060000001</td>\n",
       "      <td>1</td>\n",
       "      <td>2020-03-24 00:17:14</td>\n",
       "      <td>7225</td>\n",
       "      <td>6</td>\n",
       "      <td>2</td>\n",
       "      <td>0 days 00:00:03</td>\n",
       "    </tr>\n",
       "    <tr>\n",
       "      <th>2</th>\n",
       "      <td>0</td>\n",
       "      <td>A060001003</td>\n",
       "      <td>A060000001</td>\n",
       "      <td>1</td>\n",
       "      <td>2020-03-24 00:17:22</td>\n",
       "      <td>7225</td>\n",
       "      <td>6</td>\n",
       "      <td>3</td>\n",
       "      <td>0 days 00:00:08</td>\n",
       "    </tr>\n",
       "    <tr>\n",
       "      <th>3</th>\n",
       "      <td>0</td>\n",
       "      <td>A060001004</td>\n",
       "      <td>A060000001</td>\n",
       "      <td>1</td>\n",
       "      <td>2020-03-24 00:17:29</td>\n",
       "      <td>7225</td>\n",
       "      <td>6</td>\n",
       "      <td>4</td>\n",
       "      <td>0 days 00:00:07</td>\n",
       "    </tr>\n",
       "    <tr>\n",
       "      <th>4</th>\n",
       "      <td>0</td>\n",
       "      <td>A060001005</td>\n",
       "      <td>A060000001</td>\n",
       "      <td>1</td>\n",
       "      <td>2020-03-24 00:17:36</td>\n",
       "      <td>7225</td>\n",
       "      <td>6</td>\n",
       "      <td>5</td>\n",
       "      <td>0 days 00:00:07</td>\n",
       "    </tr>\n",
       "    <tr>\n",
       "      <th>...</th>\n",
       "      <td>...</td>\n",
       "      <td>...</td>\n",
       "      <td>...</td>\n",
       "      <td>...</td>\n",
       "      <td>...</td>\n",
       "      <td>...</td>\n",
       "      <td>...</td>\n",
       "      <td>...</td>\n",
       "      <td>...</td>\n",
       "    </tr>\n",
       "    <tr>\n",
       "      <th>2266581</th>\n",
       "      <td>7441</td>\n",
       "      <td>A030071005</td>\n",
       "      <td>A030000071</td>\n",
       "      <td>0</td>\n",
       "      <td>2020-06-05 06:50:21</td>\n",
       "      <td>438</td>\n",
       "      <td>3</td>\n",
       "      <td>5</td>\n",
       "      <td>0 days 00:00:24</td>\n",
       "    </tr>\n",
       "    <tr>\n",
       "      <th>2266582</th>\n",
       "      <td>7441</td>\n",
       "      <td>A040165001</td>\n",
       "      <td>A040000165</td>\n",
       "      <td>1</td>\n",
       "      <td>2020-08-21 01:06:39</td>\n",
       "      <td>8836</td>\n",
       "      <td>4</td>\n",
       "      <td>1</td>\n",
       "      <td>0 days 00:00:00</td>\n",
       "    </tr>\n",
       "    <tr>\n",
       "      <th>2266583</th>\n",
       "      <td>7441</td>\n",
       "      <td>A040165002</td>\n",
       "      <td>A040000165</td>\n",
       "      <td>1</td>\n",
       "      <td>2020-08-21 01:06:50</td>\n",
       "      <td>8836</td>\n",
       "      <td>4</td>\n",
       "      <td>2</td>\n",
       "      <td>0 days 00:00:11</td>\n",
       "    </tr>\n",
       "    <tr>\n",
       "      <th>2266584</th>\n",
       "      <td>7441</td>\n",
       "      <td>A040165003</td>\n",
       "      <td>A040000165</td>\n",
       "      <td>1</td>\n",
       "      <td>2020-08-21 01:07:36</td>\n",
       "      <td>8836</td>\n",
       "      <td>4</td>\n",
       "      <td>3</td>\n",
       "      <td>0 days 00:00:46</td>\n",
       "    </tr>\n",
       "    <tr>\n",
       "      <th>2266585</th>\n",
       "      <td>7441</td>\n",
       "      <td>A040165004</td>\n",
       "      <td>A040000165</td>\n",
       "      <td>1</td>\n",
       "      <td>2020-08-21 01:08:49</td>\n",
       "      <td>8836</td>\n",
       "      <td>4</td>\n",
       "      <td>4</td>\n",
       "      <td>0 days 00:01:13</td>\n",
       "    </tr>\n",
       "  </tbody>\n",
       "</table>\n",
       "<p>2266586 rows × 9 columns</p>\n",
       "</div>"
      ],
      "text/plain": [
       "         userID assessmentItemID      testId  answerCode           Timestamp  \\\n",
       "0             0       A060001001  A060000001           1 2020-03-24 00:17:11   \n",
       "1             0       A060001002  A060000001           1 2020-03-24 00:17:14   \n",
       "2             0       A060001003  A060000001           1 2020-03-24 00:17:22   \n",
       "3             0       A060001004  A060000001           1 2020-03-24 00:17:29   \n",
       "4             0       A060001005  A060000001           1 2020-03-24 00:17:36   \n",
       "...         ...              ...         ...         ...                 ...   \n",
       "2266581    7441       A030071005  A030000071           0 2020-06-05 06:50:21   \n",
       "2266582    7441       A040165001  A040000165           1 2020-08-21 01:06:39   \n",
       "2266583    7441       A040165002  A040000165           1 2020-08-21 01:06:50   \n",
       "2266584    7441       A040165003  A040000165           1 2020-08-21 01:07:36   \n",
       "2266585    7441       A040165004  A040000165           1 2020-08-21 01:08:49   \n",
       "\n",
       "         KnowledgeTag  test_cat  question_num           delta  \n",
       "0                7224         6             1 0 days 00:00:00  \n",
       "1                7225         6             2 0 days 00:00:03  \n",
       "2                7225         6             3 0 days 00:00:08  \n",
       "3                7225         6             4 0 days 00:00:07  \n",
       "4                7225         6             5 0 days 00:00:07  \n",
       "...               ...       ...           ...             ...  \n",
       "2266581           438         3             5 0 days 00:00:24  \n",
       "2266582          8836         4             1 0 days 00:00:00  \n",
       "2266583          8836         4             2 0 days 00:00:11  \n",
       "2266584          8836         4             3 0 days 00:00:46  \n",
       "2266585          8836         4             4 0 days 00:01:13  \n",
       "\n",
       "[2266586 rows x 9 columns]"
      ]
     },
     "execution_count": 70,
     "metadata": {},
     "output_type": "execute_result"
    }
   ],
   "source": [
    "train_df"
   ]
  },
  {
   "cell_type": "code",
   "execution_count": 71,
   "id": "87c596ff-03d9-4f54-9370-e23588bad979",
   "metadata": {},
   "outputs": [
    {
     "name": "stdout",
     "output_type": "stream",
     "text": [
      "<class 'pandas.core.frame.DataFrame'>\n",
      "RangeIndex: 2266586 entries, 0 to 2266585\n",
      "Data columns (total 9 columns):\n",
      " #   Column            Dtype          \n",
      "---  ------            -----          \n",
      " 0   userID            int64          \n",
      " 1   assessmentItemID  object         \n",
      " 2   testId            object         \n",
      " 3   answerCode        int64          \n",
      " 4   Timestamp         datetime64[ns] \n",
      " 5   KnowledgeTag      int64          \n",
      " 6   test_cat          int64          \n",
      " 7   question_num      int64          \n",
      " 8   delta             timedelta64[ns]\n",
      "dtypes: datetime64[ns](1), int64(5), object(2), timedelta64[ns](1)\n",
      "memory usage: 155.6+ MB\n"
     ]
    }
   ],
   "source": [
    "train_df.info()"
   ]
  },
  {
   "cell_type": "markdown",
   "id": "15d75deb-459a-465d-a528-aa768d6b4e47",
   "metadata": {},
   "source": [
    "이전과 같이 한 사람이 테스트를 2번 이상 보는 경우를 확인해보자. \n",
    "\n",
    "새로운 테스트를 풀 때 delta가 정상적으로 0초로 들어간 것을 알 수 있다. "
   ]
  },
  {
   "cell_type": "code",
   "execution_count": 73,
   "id": "f2f3643a-81df-46bf-94f3-1d220153e6f8",
   "metadata": {
    "tags": []
   },
   "outputs": [
    {
     "name": "stdout",
     "output_type": "stream",
     "text": [
      "CPU times: user 2min 44s, sys: 1.11 s, total: 2min 45s\n",
      "Wall time: 2min 45s\n"
     ]
    },
    {
     "data": {
      "text/plain": [
       "9492"
      ]
     },
     "execution_count": 73,
     "metadata": {},
     "output_type": "execute_result"
    }
   ],
   "source": [
    "%%time\n",
    "stu_test_groupby = train_df.groupby(['userID', 'testId'])\n",
    "stu_test_df_l = list(stu_test_groupby)\n",
    "# stu_test_df_l = [x[1] for x in stu_test_df_l]\n",
    "more_than_1_test_df_l = [x for x in stu_test_df_l if x[1].Timestamp.max().date() != x[1].Timestamp.min().date()]\n",
    "len(more_than_1_test_df_l)"
   ]
  },
  {
   "cell_type": "code",
   "execution_count": 74,
   "id": "d984d7b5-473b-4a21-9d4d-4d52c075f14a",
   "metadata": {},
   "outputs": [
    {
     "data": {
      "text/html": [
       "<div>\n",
       "<style scoped>\n",
       "    .dataframe tbody tr th:only-of-type {\n",
       "        vertical-align: middle;\n",
       "    }\n",
       "\n",
       "    .dataframe tbody tr th {\n",
       "        vertical-align: top;\n",
       "    }\n",
       "\n",
       "    .dataframe thead th {\n",
       "        text-align: right;\n",
       "    }\n",
       "</style>\n",
       "<table border=\"1\" class=\"dataframe\">\n",
       "  <thead>\n",
       "    <tr style=\"text-align: right;\">\n",
       "      <th></th>\n",
       "      <th>userID</th>\n",
       "      <th>assessmentItemID</th>\n",
       "      <th>testId</th>\n",
       "      <th>answerCode</th>\n",
       "      <th>Timestamp</th>\n",
       "      <th>KnowledgeTag</th>\n",
       "      <th>test_cat</th>\n",
       "      <th>question_num</th>\n",
       "      <th>delta</th>\n",
       "    </tr>\n",
       "  </thead>\n",
       "  <tbody>\n",
       "    <tr>\n",
       "      <th>1166</th>\n",
       "      <td>1</td>\n",
       "      <td>A040155001</td>\n",
       "      <td>A040000155</td>\n",
       "      <td>1</td>\n",
       "      <td>2020-06-21 22:57:14</td>\n",
       "      <td>2111</td>\n",
       "      <td>4</td>\n",
       "      <td>1</td>\n",
       "      <td>0 days 00:00:00</td>\n",
       "    </tr>\n",
       "    <tr>\n",
       "      <th>1167</th>\n",
       "      <td>1</td>\n",
       "      <td>A040155002</td>\n",
       "      <td>A040000155</td>\n",
       "      <td>1</td>\n",
       "      <td>2020-06-21 22:57:55</td>\n",
       "      <td>2111</td>\n",
       "      <td>4</td>\n",
       "      <td>2</td>\n",
       "      <td>0 days 00:00:41</td>\n",
       "    </tr>\n",
       "    <tr>\n",
       "      <th>1168</th>\n",
       "      <td>1</td>\n",
       "      <td>A040155003</td>\n",
       "      <td>A040000155</td>\n",
       "      <td>0</td>\n",
       "      <td>2020-06-21 22:58:33</td>\n",
       "      <td>2111</td>\n",
       "      <td>4</td>\n",
       "      <td>3</td>\n",
       "      <td>0 days 00:00:38</td>\n",
       "    </tr>\n",
       "    <tr>\n",
       "      <th>1169</th>\n",
       "      <td>1</td>\n",
       "      <td>A040155004</td>\n",
       "      <td>A040000155</td>\n",
       "      <td>1</td>\n",
       "      <td>2020-06-21 22:58:49</td>\n",
       "      <td>2111</td>\n",
       "      <td>4</td>\n",
       "      <td>4</td>\n",
       "      <td>0 days 00:00:16</td>\n",
       "    </tr>\n",
       "    <tr>\n",
       "      <th>1170</th>\n",
       "      <td>1</td>\n",
       "      <td>A040155005</td>\n",
       "      <td>A040000155</td>\n",
       "      <td>0</td>\n",
       "      <td>2020-06-21 23:00:10</td>\n",
       "      <td>2111</td>\n",
       "      <td>4</td>\n",
       "      <td>5</td>\n",
       "      <td>0 days 00:01:21</td>\n",
       "    </tr>\n",
       "    <tr>\n",
       "      <th>1171</th>\n",
       "      <td>1</td>\n",
       "      <td>A040155006</td>\n",
       "      <td>A040000155</td>\n",
       "      <td>0</td>\n",
       "      <td>2020-06-21 23:01:44</td>\n",
       "      <td>2111</td>\n",
       "      <td>4</td>\n",
       "      <td>6</td>\n",
       "      <td>0 days 00:01:34</td>\n",
       "    </tr>\n",
       "    <tr>\n",
       "      <th>1397</th>\n",
       "      <td>1</td>\n",
       "      <td>A040155001</td>\n",
       "      <td>A040000155</td>\n",
       "      <td>1</td>\n",
       "      <td>2020-08-17 09:56:27</td>\n",
       "      <td>2111</td>\n",
       "      <td>4</td>\n",
       "      <td>1</td>\n",
       "      <td>0 days 00:00:00</td>\n",
       "    </tr>\n",
       "    <tr>\n",
       "      <th>1398</th>\n",
       "      <td>1</td>\n",
       "      <td>A040155002</td>\n",
       "      <td>A040000155</td>\n",
       "      <td>1</td>\n",
       "      <td>2020-08-17 09:57:06</td>\n",
       "      <td>2111</td>\n",
       "      <td>4</td>\n",
       "      <td>2</td>\n",
       "      <td>0 days 00:00:39</td>\n",
       "    </tr>\n",
       "    <tr>\n",
       "      <th>1399</th>\n",
       "      <td>1</td>\n",
       "      <td>A040155003</td>\n",
       "      <td>A040000155</td>\n",
       "      <td>1</td>\n",
       "      <td>2020-08-17 09:58:03</td>\n",
       "      <td>2111</td>\n",
       "      <td>4</td>\n",
       "      <td>3</td>\n",
       "      <td>0 days 00:00:57</td>\n",
       "    </tr>\n",
       "    <tr>\n",
       "      <th>1400</th>\n",
       "      <td>1</td>\n",
       "      <td>A040155004</td>\n",
       "      <td>A040000155</td>\n",
       "      <td>1</td>\n",
       "      <td>2020-08-17 09:58:29</td>\n",
       "      <td>2111</td>\n",
       "      <td>4</td>\n",
       "      <td>4</td>\n",
       "      <td>0 days 00:00:26</td>\n",
       "    </tr>\n",
       "    <tr>\n",
       "      <th>1401</th>\n",
       "      <td>1</td>\n",
       "      <td>A040155005</td>\n",
       "      <td>A040000155</td>\n",
       "      <td>0</td>\n",
       "      <td>2020-08-17 09:59:40</td>\n",
       "      <td>2111</td>\n",
       "      <td>4</td>\n",
       "      <td>5</td>\n",
       "      <td>0 days 00:01:11</td>\n",
       "    </tr>\n",
       "    <tr>\n",
       "      <th>1402</th>\n",
       "      <td>1</td>\n",
       "      <td>A040155006</td>\n",
       "      <td>A040000155</td>\n",
       "      <td>1</td>\n",
       "      <td>2020-08-17 10:02:07</td>\n",
       "      <td>2111</td>\n",
       "      <td>4</td>\n",
       "      <td>6</td>\n",
       "      <td>0 days 00:02:27</td>\n",
       "    </tr>\n",
       "  </tbody>\n",
       "</table>\n",
       "</div>"
      ],
      "text/plain": [
       "      userID assessmentItemID      testId  answerCode           Timestamp  \\\n",
       "1166       1       A040155001  A040000155           1 2020-06-21 22:57:14   \n",
       "1167       1       A040155002  A040000155           1 2020-06-21 22:57:55   \n",
       "1168       1       A040155003  A040000155           0 2020-06-21 22:58:33   \n",
       "1169       1       A040155004  A040000155           1 2020-06-21 22:58:49   \n",
       "1170       1       A040155005  A040000155           0 2020-06-21 23:00:10   \n",
       "1171       1       A040155006  A040000155           0 2020-06-21 23:01:44   \n",
       "1397       1       A040155001  A040000155           1 2020-08-17 09:56:27   \n",
       "1398       1       A040155002  A040000155           1 2020-08-17 09:57:06   \n",
       "1399       1       A040155003  A040000155           1 2020-08-17 09:58:03   \n",
       "1400       1       A040155004  A040000155           1 2020-08-17 09:58:29   \n",
       "1401       1       A040155005  A040000155           0 2020-08-17 09:59:40   \n",
       "1402       1       A040155006  A040000155           1 2020-08-17 10:02:07   \n",
       "\n",
       "      KnowledgeTag  test_cat  question_num           delta  \n",
       "1166          2111         4             1 0 days 00:00:00  \n",
       "1167          2111         4             2 0 days 00:00:41  \n",
       "1168          2111         4             3 0 days 00:00:38  \n",
       "1169          2111         4             4 0 days 00:00:16  \n",
       "1170          2111         4             5 0 days 00:01:21  \n",
       "1171          2111         4             6 0 days 00:01:34  \n",
       "1397          2111         4             1 0 days 00:00:00  \n",
       "1398          2111         4             2 0 days 00:00:39  \n",
       "1399          2111         4             3 0 days 00:00:57  \n",
       "1400          2111         4             4 0 days 00:00:26  \n",
       "1401          2111         4             5 0 days 00:01:11  \n",
       "1402          2111         4             6 0 days 00:02:27  "
      ]
     },
     "execution_count": 74,
     "metadata": {},
     "output_type": "execute_result"
    }
   ],
   "source": [
    "more_than_1_test_df_l[0][1]"
   ]
  },
  {
   "cell_type": "code",
   "execution_count": null,
   "id": "ff2f2007-19bf-4c76-9791-cbfd1a2bacbd",
   "metadata": {},
   "outputs": [],
   "source": []
  }
 ],
 "metadata": {
  "kernelspec": {
   "display_name": "Python 3",
   "language": "python",
   "name": "python3"
  },
  "language_info": {
   "codemirror_mode": {
    "name": "ipython",
    "version": 3
   },
   "file_extension": ".py",
   "mimetype": "text/x-python",
   "name": "python",
   "nbconvert_exporter": "python",
   "pygments_lexer": "ipython3",
   "version": "3.7.7"
  }
 },
 "nbformat": 4,
 "nbformat_minor": 5
}
