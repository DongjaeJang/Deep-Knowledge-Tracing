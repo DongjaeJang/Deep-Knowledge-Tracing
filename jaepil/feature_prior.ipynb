{
 "cells": [
  {
   "cell_type": "markdown",
   "id": "62136317-09bb-45ca-8c08-1bdaf3f3ae19",
   "metadata": {},
   "source": [
    "# Add `prior_` features\n",
    "\n",
    "`prior_` feature는 어떤 `user`가 처음부터 현재 문제를 풀기 전까지 전 기간동안 어떤 경험을 쌓았는지 나타내는 feature이다. \n",
    "\n",
    "예를들어, 현재 풀려는 문제의 `KnowledgeTag`가 3일 때, 여태까지 `KnowledgeTag`가 3인 문제를 몇 번이나 풀었는가? 와 같은 것이 `prior_` feature의 예이다. "
   ]
  },
  {
   "cell_type": "code",
   "execution_count": 2,
   "id": "9a918d4f-225f-4ac8-a9b5-cbdcc0c2da9d",
   "metadata": {},
   "outputs": [],
   "source": [
    "import os, sys\n",
    "from pathlib import Path\n",
    "from glob import glob"
   ]
  },
  {
   "cell_type": "code",
   "execution_count": 3,
   "id": "32611ff0-8aea-43b3-818a-9ba221db7f25",
   "metadata": {},
   "outputs": [
    {
     "data": {
      "text/plain": [
       "PosixPath('/opt/ml')"
      ]
     },
     "execution_count": 3,
     "metadata": {},
     "output_type": "execute_result"
    }
   ],
   "source": [
    "BASE_PATH = Path('.').resolve().parent\n",
    "BASE_PATH"
   ]
  },
  {
   "cell_type": "code",
   "execution_count": 4,
   "id": "47237d44-211a-455b-aee4-499d7afa961f",
   "metadata": {},
   "outputs": [],
   "source": [
    "if BASE_PATH.as_posix() not in sys.path:\n",
    "    sys.path.append(BASE_PATH.as_posix())"
   ]
  },
  {
   "cell_type": "code",
   "execution_count": 5,
   "id": "81a6bb70-645b-4391-b7c4-96be14a635ad",
   "metadata": {},
   "outputs": [
    {
     "data": {
      "text/plain": [
       "['/opt/ml/jaepil',\n",
       " '/opt/conda/lib/python37.zip',\n",
       " '/opt/conda/lib/python3.7',\n",
       " '/opt/conda/lib/python3.7/lib-dynload',\n",
       " '',\n",
       " '/opt/conda/lib/python3.7/site-packages',\n",
       " '/opt/conda/lib/python3.7/site-packages/transformers-4.6.1-py3.8.egg',\n",
       " '/opt/conda/lib/python3.7/site-packages/IPython/extensions',\n",
       " '/opt/ml/.ipython',\n",
       " '/opt/ml']"
      ]
     },
     "execution_count": 5,
     "metadata": {},
     "output_type": "execute_result"
    }
   ],
   "source": [
    "sys.path"
   ]
  },
  {
   "cell_type": "code",
   "execution_count": 6,
   "id": "9e5d7436-ba73-4190-bbff-8e08d1006e5a",
   "metadata": {},
   "outputs": [],
   "source": [
    "import matplotlib as mpl\n",
    "import matplotlib.pyplot as plt\n",
    "import seaborn as sns"
   ]
  },
  {
   "cell_type": "code",
   "execution_count": 7,
   "id": "d1d8436a-c4f9-445f-972d-049d7624054c",
   "metadata": {},
   "outputs": [],
   "source": [
    "import numpy as np\n",
    "import pandas as pd"
   ]
  },
  {
   "cell_type": "code",
   "execution_count": 8,
   "id": "1fa84723-a504-4976-9ab8-11efb6dfa621",
   "metadata": {},
   "outputs": [],
   "source": [
    "import numba\n",
    "import dask.dataframe as dd"
   ]
  },
  {
   "cell_type": "code",
   "execution_count": 9,
   "id": "cf5b3edf-560e-45b8-b980-d74b1222883b",
   "metadata": {},
   "outputs": [],
   "source": [
    "import json\n",
    "import pickle"
   ]
  },
  {
   "cell_type": "code",
   "execution_count": 10,
   "id": "aabaf772-bc9f-4424-94b9-082ac5b3c05b",
   "metadata": {},
   "outputs": [],
   "source": [
    "from tqdm import tqdm, trange\n",
    "# from tqdm.notebook import tqdm\n",
    "from time import time"
   ]
  },
  {
   "cell_type": "code",
   "execution_count": 11,
   "id": "0093952b-6466-469c-857b-6378703a6123",
   "metadata": {},
   "outputs": [
    {
     "data": {
      "text/plain": [
       "'1.6.0'"
      ]
     },
     "execution_count": 11,
     "metadata": {},
     "output_type": "execute_result"
    }
   ],
   "source": [
    "import torch\n",
    "import torch.nn as nn\n",
    "import torch.nn.functional as F\n",
    "import torch.optim as optim\n",
    "\n",
    "torch.__version__"
   ]
  },
  {
   "cell_type": "code",
   "execution_count": 12,
   "id": "c0db86b8-205b-4a6c-a66d-1ca3d1c4860a",
   "metadata": {},
   "outputs": [
    {
     "data": {
      "text/plain": [
       "device(type='cuda', index=0)"
      ]
     },
     "execution_count": 12,
     "metadata": {},
     "output_type": "execute_result"
    }
   ],
   "source": [
    "device = torch.device('cuda:0' if torch.cuda.is_available() else 'cpu')\n",
    "device # Always check cudatoolkit version!"
   ]
  },
  {
   "cell_type": "code",
   "execution_count": 13,
   "id": "7afab393-e00e-4ad7-8163-048233d36711",
   "metadata": {},
   "outputs": [],
   "source": [
    "from collections import defaultdict"
   ]
  },
  {
   "cell_type": "markdown",
   "id": "6e1ad45d-0ef0-4125-93fa-5e649558420a",
   "metadata": {},
   "source": [
    "## Load data\n",
    "\n",
    "`['user_id', 'Timestamp']`로 sorting되고\n",
    "\n",
    "`Timestamp`가 `datetime64` type으로 변환되었으며\n",
    "\n",
    "`testId`에서 대분류인 `test_cat`을 뽑아내고\n",
    "\n",
    "`assessmentItemID`에서 문제번호인 `question_num`을 뽑아낸\n",
    "\n",
    "상태로 저장된 `train_df` 피클을 불러온다. "
   ]
  },
  {
   "cell_type": "code",
   "execution_count": 101,
   "id": "129e30e9-950f-438e-b1b6-969d1893391f",
   "metadata": {},
   "outputs": [],
   "source": [
    "train_df = pd.read_pickle('train_df.pkl')"
   ]
  },
  {
   "cell_type": "markdown",
   "id": "3c463cef-b2d6-408c-bc7b-9fe2ba4ca8a4",
   "metadata": {},
   "source": [
    "### `prior` feature\n",
    "\n",
    "`prior`은 어떤 사람이 한 문제를 푸는 시점 이전 전체의 기록이 어떤지를 본다. (굳이 한 test 내일 필요 없음)\n",
    "\n",
    "즉, 어떤 문제를 풀기 전 모든 기간동안 어떤 `KnowledgeTag`를 몇 번이나 풀었는지... 그 정답률은 어땠는지... 등을 보는 것이다. "
   ]
  },
  {
   "cell_type": "markdown",
   "id": "0bda9f30-bc73-4f10-8f4b-80d969091c1f",
   "metadata": {},
   "source": [
    "#### `prior_KnowledgeTag_frequency` \n",
    "\n",
    "이전에 어떤 Knowledge Tag를 몇 번이나 봤는지 누적빈도를 구한다. "
   ]
  },
  {
   "cell_type": "code",
   "execution_count": 102,
   "id": "f12739b5-cb0d-495a-872a-07d001c18da7",
   "metadata": {},
   "outputs": [],
   "source": [
    "train_df['prior_KnowledgeTag_frequency'] = train_df.groupby(['userID', 'KnowledgeTag']).cumcount()"
   ]
  },
  {
   "cell_type": "code",
   "execution_count": 104,
   "id": "aafe5b0e-0b3b-4a69-b145-e9ec85752502",
   "metadata": {},
   "outputs": [],
   "source": [
    "train_df['cummulative_total_questions'] = train_df.groupby(['userID']).cumcount()"
   ]
  },
  {
   "cell_type": "code",
   "execution_count": 107,
   "id": "bcded4b4-9b25-46f3-ac24-e8b92e5a4436",
   "metadata": {},
   "outputs": [],
   "source": [
    "train_df['prior_KnowledgeTag_rel_frequency'] = train_df.prior_KnowledgeTag_frequency / train_df.cummulative_total_questions"
   ]
  },
  {
   "cell_type": "code",
   "execution_count": 109,
   "id": "9cb04909-c6c2-4560-b2d0-0342b1c5020f",
   "metadata": {},
   "outputs": [],
   "source": [
    "train_df.prior_KnowledgeTag_rel_frequency = train_df.prior_KnowledgeTag_rel_frequency.fillna(0)"
   ]
  },
  {
   "cell_type": "code",
   "execution_count": 110,
   "id": "abcd4a23-fa41-43f2-9224-932b6438a0be",
   "metadata": {},
   "outputs": [
    {
     "data": {
      "text/html": [
       "<div>\n",
       "<style scoped>\n",
       "    .dataframe tbody tr th:only-of-type {\n",
       "        vertical-align: middle;\n",
       "    }\n",
       "\n",
       "    .dataframe tbody tr th {\n",
       "        vertical-align: top;\n",
       "    }\n",
       "\n",
       "    .dataframe thead th {\n",
       "        text-align: right;\n",
       "    }\n",
       "</style>\n",
       "<table border=\"1\" class=\"dataframe\">\n",
       "  <thead>\n",
       "    <tr style=\"text-align: right;\">\n",
       "      <th></th>\n",
       "      <th>userID</th>\n",
       "      <th>assessmentItemID</th>\n",
       "      <th>testId</th>\n",
       "      <th>answerCode</th>\n",
       "      <th>Timestamp</th>\n",
       "      <th>KnowledgeTag</th>\n",
       "      <th>test_cat</th>\n",
       "      <th>question_num</th>\n",
       "      <th>prior_KnowledgeTag_frequency</th>\n",
       "      <th>cummulative_total_questions</th>\n",
       "      <th>prior_KnowledgeTag_rel_frequency</th>\n",
       "    </tr>\n",
       "  </thead>\n",
       "  <tbody>\n",
       "    <tr>\n",
       "      <th>0</th>\n",
       "      <td>0</td>\n",
       "      <td>A060001001</td>\n",
       "      <td>A060000001</td>\n",
       "      <td>1</td>\n",
       "      <td>2020-03-24 00:17:11</td>\n",
       "      <td>7224</td>\n",
       "      <td>6</td>\n",
       "      <td>1</td>\n",
       "      <td>0</td>\n",
       "      <td>0</td>\n",
       "      <td>0.000000</td>\n",
       "    </tr>\n",
       "    <tr>\n",
       "      <th>1</th>\n",
       "      <td>0</td>\n",
       "      <td>A060001002</td>\n",
       "      <td>A060000001</td>\n",
       "      <td>1</td>\n",
       "      <td>2020-03-24 00:17:14</td>\n",
       "      <td>7225</td>\n",
       "      <td>6</td>\n",
       "      <td>2</td>\n",
       "      <td>0</td>\n",
       "      <td>1</td>\n",
       "      <td>0.000000</td>\n",
       "    </tr>\n",
       "    <tr>\n",
       "      <th>2</th>\n",
       "      <td>0</td>\n",
       "      <td>A060001003</td>\n",
       "      <td>A060000001</td>\n",
       "      <td>1</td>\n",
       "      <td>2020-03-24 00:17:22</td>\n",
       "      <td>7225</td>\n",
       "      <td>6</td>\n",
       "      <td>3</td>\n",
       "      <td>1</td>\n",
       "      <td>2</td>\n",
       "      <td>0.500000</td>\n",
       "    </tr>\n",
       "    <tr>\n",
       "      <th>3</th>\n",
       "      <td>0</td>\n",
       "      <td>A060001004</td>\n",
       "      <td>A060000001</td>\n",
       "      <td>1</td>\n",
       "      <td>2020-03-24 00:17:29</td>\n",
       "      <td>7225</td>\n",
       "      <td>6</td>\n",
       "      <td>4</td>\n",
       "      <td>2</td>\n",
       "      <td>3</td>\n",
       "      <td>0.666667</td>\n",
       "    </tr>\n",
       "    <tr>\n",
       "      <th>4</th>\n",
       "      <td>0</td>\n",
       "      <td>A060001005</td>\n",
       "      <td>A060000001</td>\n",
       "      <td>1</td>\n",
       "      <td>2020-03-24 00:17:36</td>\n",
       "      <td>7225</td>\n",
       "      <td>6</td>\n",
       "      <td>5</td>\n",
       "      <td>3</td>\n",
       "      <td>4</td>\n",
       "      <td>0.750000</td>\n",
       "    </tr>\n",
       "    <tr>\n",
       "      <th>5</th>\n",
       "      <td>0</td>\n",
       "      <td>A060001007</td>\n",
       "      <td>A060000001</td>\n",
       "      <td>1</td>\n",
       "      <td>2020-03-24 00:17:47</td>\n",
       "      <td>7225</td>\n",
       "      <td>6</td>\n",
       "      <td>7</td>\n",
       "      <td>4</td>\n",
       "      <td>5</td>\n",
       "      <td>0.800000</td>\n",
       "    </tr>\n",
       "    <tr>\n",
       "      <th>6</th>\n",
       "      <td>0</td>\n",
       "      <td>A060003001</td>\n",
       "      <td>A060000003</td>\n",
       "      <td>0</td>\n",
       "      <td>2020-03-26 05:52:03</td>\n",
       "      <td>7226</td>\n",
       "      <td>6</td>\n",
       "      <td>1</td>\n",
       "      <td>0</td>\n",
       "      <td>6</td>\n",
       "      <td>0.000000</td>\n",
       "    </tr>\n",
       "    <tr>\n",
       "      <th>7</th>\n",
       "      <td>0</td>\n",
       "      <td>A060003002</td>\n",
       "      <td>A060000003</td>\n",
       "      <td>1</td>\n",
       "      <td>2020-03-26 05:52:10</td>\n",
       "      <td>7226</td>\n",
       "      <td>6</td>\n",
       "      <td>2</td>\n",
       "      <td>1</td>\n",
       "      <td>7</td>\n",
       "      <td>0.142857</td>\n",
       "    </tr>\n",
       "    <tr>\n",
       "      <th>8</th>\n",
       "      <td>0</td>\n",
       "      <td>A060003003</td>\n",
       "      <td>A060000003</td>\n",
       "      <td>1</td>\n",
       "      <td>2020-03-26 05:53:14</td>\n",
       "      <td>7226</td>\n",
       "      <td>6</td>\n",
       "      <td>3</td>\n",
       "      <td>2</td>\n",
       "      <td>8</td>\n",
       "      <td>0.250000</td>\n",
       "    </tr>\n",
       "    <tr>\n",
       "      <th>9</th>\n",
       "      <td>0</td>\n",
       "      <td>A060003004</td>\n",
       "      <td>A060000003</td>\n",
       "      <td>1</td>\n",
       "      <td>2020-03-26 05:53:29</td>\n",
       "      <td>7226</td>\n",
       "      <td>6</td>\n",
       "      <td>4</td>\n",
       "      <td>3</td>\n",
       "      <td>9</td>\n",
       "      <td>0.333333</td>\n",
       "    </tr>\n",
       "  </tbody>\n",
       "</table>\n",
       "</div>"
      ],
      "text/plain": [
       "   userID assessmentItemID      testId  answerCode           Timestamp  \\\n",
       "0       0       A060001001  A060000001           1 2020-03-24 00:17:11   \n",
       "1       0       A060001002  A060000001           1 2020-03-24 00:17:14   \n",
       "2       0       A060001003  A060000001           1 2020-03-24 00:17:22   \n",
       "3       0       A060001004  A060000001           1 2020-03-24 00:17:29   \n",
       "4       0       A060001005  A060000001           1 2020-03-24 00:17:36   \n",
       "5       0       A060001007  A060000001           1 2020-03-24 00:17:47   \n",
       "6       0       A060003001  A060000003           0 2020-03-26 05:52:03   \n",
       "7       0       A060003002  A060000003           1 2020-03-26 05:52:10   \n",
       "8       0       A060003003  A060000003           1 2020-03-26 05:53:14   \n",
       "9       0       A060003004  A060000003           1 2020-03-26 05:53:29   \n",
       "\n",
       "   KnowledgeTag  test_cat  question_num  prior_KnowledgeTag_frequency  \\\n",
       "0          7224         6             1                             0   \n",
       "1          7225         6             2                             0   \n",
       "2          7225         6             3                             1   \n",
       "3          7225         6             4                             2   \n",
       "4          7225         6             5                             3   \n",
       "5          7225         6             7                             4   \n",
       "6          7226         6             1                             0   \n",
       "7          7226         6             2                             1   \n",
       "8          7226         6             3                             2   \n",
       "9          7226         6             4                             3   \n",
       "\n",
       "   cummulative_total_questions  prior_KnowledgeTag_rel_frequency  \n",
       "0                            0                          0.000000  \n",
       "1                            1                          0.000000  \n",
       "2                            2                          0.500000  \n",
       "3                            3                          0.666667  \n",
       "4                            4                          0.750000  \n",
       "5                            5                          0.800000  \n",
       "6                            6                          0.000000  \n",
       "7                            7                          0.142857  \n",
       "8                            8                          0.250000  \n",
       "9                            9                          0.333333  "
      ]
     },
     "execution_count": 110,
     "metadata": {},
     "output_type": "execute_result"
    }
   ],
   "source": [
    "train_df.head(10)"
   ]
  },
  {
   "cell_type": "code",
   "execution_count": 82,
   "id": "befce04e-0420-4c24-858f-1f8b94cfa301",
   "metadata": {},
   "outputs": [],
   "source": [
    "# train_df['prior_KnowledgeTag_correct_count'] = train_df.groupby(['userID', 'KnowledgeTag'])['answerCode'].cumsum().shift(fill_value=0)\n",
    "# train_df['prior_KnowledgeTag_accuracy'] = (train_df.prior_KnowledgeTag_correct_count / train_df.prior_KnowledgeTag_frequency).fillna(0)\n",
    "\n",
    "# train_df.prior_KnowledgeTag_accuracy = train_df.prior_KnowledgeTag_accuracy.replace([-np.inf, np.inf], 0)"
   ]
  },
  {
   "cell_type": "code",
   "execution_count": 114,
   "id": "a9d22f54-0534-4c56-b394-648dacec464c",
   "metadata": {},
   "outputs": [
    {
     "data": {
      "text/plain": [
       "<AxesSubplot:xlabel='prior_KnowledgeTag_frequency', ylabel='Count'>"
      ]
     },
     "execution_count": 114,
     "metadata": {},
     "output_type": "execute_result"
    },
    {
     "data": {
      "image/png": "[encoded data removed]",
      "text/plain": [
       "<Figure size 432x288 with 1 Axes>"
      ]
     },
     "metadata": {
      "needs_background": "light"
     },
     "output_type": "display_data"
    }
   ],
   "source": [
    "sns.histplot(data=train_df, x='prior_KnowledgeTag_frequency', hue='answerCode', bins=50)"
   ]
  },
  {
   "cell_type": "code",
   "execution_count": 112,
   "id": "02bb5e34-821c-4252-ba7e-fff64bf24215",
   "metadata": {},
   "outputs": [
    {
     "data": {
      "text/plain": [
       "<AxesSubplot:xlabel='prior_KnowledgeTag_rel_frequency', ylabel='Count'>"
      ]
     },
     "execution_count": 112,
     "metadata": {},
     "output_type": "execute_result"
    },
    {
     "data": {
      "image/png": "[encoded data removed]",
      "text/plain": [
       "<Figure size 432x288 with 1 Axes>"
      ]
     },
     "metadata": {
      "needs_background": "light"
     },
     "output_type": "display_data"
    }
   ],
   "source": [
    "sns.histplot(data=train_df, x='prior_KnowledgeTag_rel_frequency', hue='answerCode', bins=50)"
   ]
  },
  {
   "cell_type": "code",
   "execution_count": 131,
   "id": "dbff08c9-c01a-4a31-b0ca-d5797501bc3e",
   "metadata": {},
   "outputs": [
    {
     "data": {
      "text/plain": [
       "<AxesSubplot:xlabel='prior_KnowledgeTag_frequency'>"
      ]
     },
     "execution_count": 131,
     "metadata": {},
     "output_type": "execute_result"
    },
    {
     "data": {
      "image/png": "[encoded data removed]",
      "text/plain": [
       "<Figure size 432x288 with 1 Axes>"
      ]
     },
     "metadata": {
      "needs_background": "light"
     },
     "output_type": "display_data"
    }
   ],
   "source": [
    "train_df[train_df.prior_KnowledgeTag_frequency < 30].groupby(['prior_KnowledgeTag_frequency'])['answerCode'].agg('mean').plot()"
   ]
  },
  {
   "cell_type": "code",
   "execution_count": 135,
   "id": "aa832b12-f92f-4121-bedb-4500aa574fe1",
   "metadata": {},
   "outputs": [
    {
     "data": {
      "text/plain": [
       "<AxesSubplot:xlabel='prior_KnowledgeTag_frequency'>"
      ]
     },
     "execution_count": 135,
     "metadata": {},
     "output_type": "execute_result"
    },
    {
     "data": {
      "image/png": "[encoded data removed]",
      "text/plain": [
       "<Figure size 432x288 with 1 Axes>"
      ]
     },
     "metadata": {
      "needs_background": "light"
     },
     "output_type": "display_data"
    }
   ],
   "source": [
    "train_df[train_df.prior_KnowledgeTag_frequency < 30].groupby(['userID', 'prior_KnowledgeTag_frequency'])['answerCode'].agg('mean').groupby('prior_KnowledgeTag_frequency').agg('mean').plot()"
   ]
  },
  {
   "cell_type": "code",
   "execution_count": null,
   "id": "1a24aa31-6474-4e4d-8299-b91b485a85ef",
   "metadata": {},
   "outputs": [],
   "source": []
  },
  {
   "cell_type": "code",
   "execution_count": null,
   "id": "7271b6ff-71a0-4bca-8e19-77ec1f1e133b",
   "metadata": {},
   "outputs": [],
   "source": []
  },
  {
   "cell_type": "code",
   "execution_count": null,
   "id": "d7a98f32-9538-446f-a690-915d53906f9c",
   "metadata": {},
   "outputs": [],
   "source": []
  },
  {
   "attachments": {
    "aadbb5b7-c329-45a4-8cad-65b0d83b4393.png": {
     "image/png": "[encoded data removed]"
    }
   },
   "cell_type": "markdown",
   "id": "a2e58624-b8db-4a87-b54b-e56908e815ef",
   "metadata": {},
   "source": [
    "`prior_KnowledgeTag_accuracy`는 shift가 이상하게 되는 문제가 있다. 값이 np.inf가 되거나 1을 넘어가거나 하는 일이 생긴다. \n",
    "\n",
    "![image.png](attachment:aadbb5b7-c329-45a4-8cad-65b0d83b4393.png)"
   ]
  },
  {
   "cell_type": "code",
   "execution_count": null,
   "id": "9820a7d6-f9ec-41cf-9cf6-742e9e3058cf",
   "metadata": {},
   "outputs": [],
   "source": []
  }
 ],
 "metadata": {
  "kernelspec": {
   "display_name": "Python 3",
   "language": "python",
   "name": "python3"
  },
  "language_info": {
   "codemirror_mode": {
    "name": "ipython",
    "version": 3
   },
   "file_extension": ".py",
   "mimetype": "text/x-python",
   "name": "python",
   "nbconvert_exporter": "python",
   "pygments_lexer": "ipython3",
   "version": "3.7.7"
  }
 },
 "nbformat": 4,
 "nbformat_minor": 5
}
