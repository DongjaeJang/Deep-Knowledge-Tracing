{
 "metadata": {
  "language_info": {
   "codemirror_mode": {
    "name": "ipython",
    "version": 3
   },
   "file_extension": ".py",
   "mimetype": "text/x-python",
   "name": "python",
   "nbconvert_exporter": "python",
   "pygments_lexer": "ipython3",
   "version": "3.7.7"
  },
  "orig_nbformat": 2,
  "kernelspec": {
   "name": "python377jvsc74a57bd098b0a9b7b4eaaa670588a142fd0a9b87eaafe866f1db4228be72b4211d12040f",
   "display_name": "Python 3.7.7 64-bit ('base': conda)"
  }
 },
 "nbformat": 4,
 "nbformat_minor": 2,
 "cells": [
  {
   "source": [
    "# EDA"
   ],
   "cell_type": "markdown",
   "metadata": {}
  },
  {
   "cell_type": "code",
   "execution_count": 1,
   "metadata": {},
   "outputs": [],
   "source": [
    "import pandas as pd\n",
    "import numpy as np\n",
    "\n",
    "import matplotlib.pyplot as plt\n",
    "import seaborn as sns\n",
    "\n",
    "import csv\n",
    "import os\n",
    "import sys\n"
   ]
  },
  {
   "cell_type": "code",
   "execution_count": 2,
   "metadata": {},
   "outputs": [],
   "source": [
    "DATA_PATH = '/opt/ml/input/data/train_dataset/'\n",
    "train_df = pd.read_csv(DATA_PATH+'train_data.csv', parse_dates=['Timestamp'])\n",
    "train_df = train_df.sort_values(by=['userID', 'Timestamp']).reset_index(drop=True)\n",
    "test_df = pd.read_csv(DATA_PATH+'test_data.csv', parse_dates=['Timestamp'])\n",
    "test_df = test_df.sort_values(by=['userID', 'Timestamp']).reset_index(drop=True)"
   ]
  },
  {
   "source": [
    "## TRAIN VS TEST\n"
   ],
   "cell_type": "markdown",
   "metadata": {}
  },
  {
   "source": [
    "Train과 Test는 같은 Column을 가지고 있으며, Row의 수는 다음과 같다.\n",
    "약 8.7:1의 비율이다"
   ],
   "cell_type": "markdown",
   "metadata": {}
  },
  {
   "cell_type": "code",
   "execution_count": 38,
   "metadata": {},
   "outputs": [
    {
     "output_type": "execute_result",
     "data": {
      "text/plain": [
       "array([ True,  True,  True,  True,  True,  True])"
      ]
     },
     "metadata": {},
     "execution_count": 38
    }
   ],
   "source": [
    "train_df.columns == test_df.columns"
   ]
  },
  {
   "cell_type": "code",
   "execution_count": 41,
   "metadata": {},
   "outputs": [
    {
     "output_type": "stream",
     "name": "stdout",
     "text": [
      "train_dataset length:  2266586 vs test_dataset length:  260114 ,  8.713817787585443\n"
     ]
    }
   ],
   "source": [
    "print(\"train_dataset length: \", len(train_df),\"vs\", \"test_dataset length: \", len(test_df), \", \", len(train_df)/len(test_df))"
   ]
  },
  {
   "source": [
    "특히, 우리가 예측해야할 문제의 answerCode column은 0이나 1 대신 -1로 마스킹되어 있으며, 총 744개의 문제를 예측해야한다. "
   ],
   "cell_type": "markdown",
   "metadata": {}
  },
  {
   "cell_type": "code",
   "execution_count": 42,
   "metadata": {},
   "outputs": [
    {
     "output_type": "execute_result",
     "data": {
      "text/plain": [
       "        userID assessmentItemID      testId  answerCode           Timestamp  \\\n",
       "1035         3       A050133008  A050000133          -1 2020-10-26 13:13:57   \n",
       "1706         4       A070146008  A070000146          -1 2020-12-27 02:47:54   \n",
       "3023        13       A070111008  A070000111          -1 2020-12-27 04:35:09   \n",
       "4283        17       A090064006  A090000064          -1 2020-10-30 05:48:37   \n",
       "4670        26       A060135007  A060000135          -1 2020-10-23 11:44:18   \n",
       "...        ...              ...         ...         ...                 ...   \n",
       "260052    7395       A040122005  A040000122          -1 2020-09-08 02:05:20   \n",
       "260067    7404       A030111005  A030000111          -1 2020-10-13 09:49:18   \n",
       "260082    7416       A050193004  A050000193          -1 2020-10-04 02:44:41   \n",
       "260097    7417       A050193004  A050000193          -1 2020-09-06 13:09:15   \n",
       "260113    7439       A040130005  A040000130          -1 2020-10-14 23:10:03   \n",
       "\n",
       "        KnowledgeTag  \n",
       "1035            5289  \n",
       "1706            9080  \n",
       "3023            9660  \n",
       "4283            2611  \n",
       "4670            1422  \n",
       "...              ...  \n",
       "260052         10615  \n",
       "260067          7636  \n",
       "260082         10402  \n",
       "260097         10402  \n",
       "260113          8832  \n",
       "\n",
       "[744 rows x 6 columns]"
      ],
      "text/html": "<div>\n<style scoped>\n    .dataframe tbody tr th:only-of-type {\n        vertical-align: middle;\n    }\n\n    .dataframe tbody tr th {\n        vertical-align: top;\n    }\n\n    .dataframe thead th {\n        text-align: right;\n    }\n</style>\n<table border=\"1\" class=\"dataframe\">\n  <thead>\n    <tr style=\"text-align: right;\">\n      <th></th>\n      <th>userID</th>\n      <th>assessmentItemID</th>\n      <th>testId</th>\n      <th>answerCode</th>\n      <th>Timestamp</th>\n      <th>KnowledgeTag</th>\n    </tr>\n  </thead>\n  <tbody>\n    <tr>\n      <th>1035</th>\n      <td>3</td>\n      <td>A050133008</td>\n      <td>A050000133</td>\n      <td>-1</td>\n      <td>2020-10-26 13:13:57</td>\n      <td>5289</td>\n    </tr>\n    <tr>\n      <th>1706</th>\n      <td>4</td>\n      <td>A070146008</td>\n      <td>A070000146</td>\n      <td>-1</td>\n      <td>2020-12-27 02:47:54</td>\n      <td>9080</td>\n    </tr>\n    <tr>\n      <th>3023</th>\n      <td>13</td>\n      <td>A070111008</td>\n      <td>A070000111</td>\n      <td>-1</td>\n      <td>2020-12-27 04:35:09</td>\n      <td>9660</td>\n    </tr>\n    <tr>\n      <th>4283</th>\n      <td>17</td>\n      <td>A090064006</td>\n      <td>A090000064</td>\n      <td>-1</td>\n      <td>2020-10-30 05:48:37</td>\n      <td>2611</td>\n    </tr>\n    <tr>\n      <th>4670</th>\n      <td>26</td>\n      <td>A060135007</td>\n      <td>A060000135</td>\n      <td>-1</td>\n      <td>2020-10-23 11:44:18</td>\n      <td>1422</td>\n    </tr>\n    <tr>\n      <th>...</th>\n      <td>...</td>\n      <td>...</td>\n      <td>...</td>\n      <td>...</td>\n      <td>...</td>\n      <td>...</td>\n    </tr>\n    <tr>\n      <th>260052</th>\n      <td>7395</td>\n      <td>A040122005</td>\n      <td>A040000122</td>\n      <td>-1</td>\n      <td>2020-09-08 02:05:20</td>\n      <td>10615</td>\n    </tr>\n    <tr>\n      <th>260067</th>\n      <td>7404</td>\n      <td>A030111005</td>\n      <td>A030000111</td>\n      <td>-1</td>\n      <td>2020-10-13 09:49:18</td>\n      <td>7636</td>\n    </tr>\n    <tr>\n      <th>260082</th>\n      <td>7416</td>\n      <td>A050193004</td>\n      <td>A050000193</td>\n      <td>-1</td>\n      <td>2020-10-04 02:44:41</td>\n      <td>10402</td>\n    </tr>\n    <tr>\n      <th>260097</th>\n      <td>7417</td>\n      <td>A050193004</td>\n      <td>A050000193</td>\n      <td>-1</td>\n      <td>2020-09-06 13:09:15</td>\n      <td>10402</td>\n    </tr>\n    <tr>\n      <th>260113</th>\n      <td>7439</td>\n      <td>A040130005</td>\n      <td>A040000130</td>\n      <td>-1</td>\n      <td>2020-10-14 23:10:03</td>\n      <td>8832</td>\n    </tr>\n  </tbody>\n</table>\n<p>744 rows × 6 columns</p>\n</div>"
     },
     "metadata": {},
     "execution_count": 42
    }
   ],
   "source": [
    "test_df[test_df['answerCode'] == -1]"
   ]
  },
  {
   "source": [
    "Train과 Test 데이터셋의 unique feature의 수"
   ],
   "cell_type": "markdown",
   "metadata": {}
  },
  {
   "cell_type": "code",
   "execution_count": 111,
   "metadata": {},
   "outputs": [
    {
     "output_type": "stream",
     "name": "stdout",
     "text": [
      "--- Train_dataset INFORMATIONS ---\nuserID           : 6698\nassessmentItemID : 9454\ntestID           : 1537\nmean answer rate : 65.44%\nKnowledgeTag     : 912\n--------------------------\n"
     ]
    }
   ],
   "source": [
    "print(f\"\"\"--- Train_dataset INFORMATIONS ---\n",
    "userID           : {train_df.userID.nunique()}\n",
    "assessmentItemID : {train_df.assessmentItemID.nunique()}\n",
    "testID           : {train_df.testId.nunique()}\n",
    "mean answer rate : {train_df.answerCode.sum() / train_df.shape[0] * 100:.2f}%\n",
    "KnowledgeTag     : {train_df.KnowledgeTag.nunique()}\n",
    "{'-'*26}\"\"\")"
   ]
  },
  {
   "cell_type": "code",
   "execution_count": 112,
   "metadata": {},
   "outputs": [
    {
     "output_type": "stream",
     "name": "stdout",
     "text": [
      "--- Test_dataset INFORMATIONS ---\nuserID           : 744\nassessmentItemID : 9454\ntestID           : 1537\nmean answer rate : 65.50%\nKnowledgeTag     : 912\n--------------------------\n"
     ]
    }
   ],
   "source": [
    "print(f\"\"\"--- Test_dataset INFORMATIONS ---\n",
    "userID           : {test_df.userID.nunique()}\n",
    "assessmentItemID : {test_df.assessmentItemID.nunique()}\n",
    "testID           : {test_df.testId.nunique()}\n",
    "mean answer rate : {test_df[test_df['answerCode'] != -1]['answerCode'].sum() / test_df.shape[0] * 100:.2f}%\n",
    "KnowledgeTag     : {test_df.KnowledgeTag.nunique()}\n",
    "{'-'*26}\"\"\")"
   ]
  },
  {
   "cell_type": "code",
   "execution_count": 120,
   "metadata": {},
   "outputs": [
    {
     "output_type": "error",
     "ename": "KeyboardInterrupt",
     "evalue": "",
     "traceback": [
      "\u001b[0;31m---------------------------------------------------------------------------\u001b[0m",
      "\u001b[0;31mKeyboardInterrupt\u001b[0m                         Traceback (most recent call last)",
      "\u001b[0;32m<ipython-input-120-4d5902927d31>\u001b[0m in \u001b[0;36m<module>\u001b[0;34m\u001b[0m\n\u001b[1;32m      4\u001b[0m \u001b[0mtrain에는\u001b[0m \u001b[0m없는\u001b[0m \u001b[0mtestID\u001b[0m           \u001b[0;34m:\u001b[0m \u001b[0;34m{\u001b[0m\u001b[0mlen\u001b[0m\u001b[0;34m(\u001b[0m\u001b[0;34m[\u001b[0m\u001b[0mi\u001b[0m \u001b[0;32mfor\u001b[0m \u001b[0mi\u001b[0m \u001b[0;32min\u001b[0m \u001b[0mpd\u001b[0m\u001b[0;34m.\u001b[0m\u001b[0munique\u001b[0m\u001b[0;34m(\u001b[0m\u001b[0mtest_df\u001b[0m\u001b[0;34m.\u001b[0m\u001b[0mtestID\u001b[0m\u001b[0;34m)\u001b[0m \u001b[0;32mif\u001b[0m \u001b[0mi\u001b[0m \u001b[0;32mnot\u001b[0m \u001b[0;32min\u001b[0m \u001b[0mpd\u001b[0m\u001b[0;34m.\u001b[0m\u001b[0munique\u001b[0m\u001b[0;34m(\u001b[0m\u001b[0mtrain_df\u001b[0m\u001b[0;34m.\u001b[0m\u001b[0mtestID\u001b[0m\u001b[0;34m)\u001b[0m\u001b[0;34m]\u001b[0m\u001b[0;34m)\u001b[0m\u001b[0;34m}\u001b[0m\u001b[0;34m\u001b[0m\u001b[0;34m\u001b[0m\u001b[0m\n\u001b[1;32m      5\u001b[0m \u001b[0mtrain에는\u001b[0m \u001b[0m없는\u001b[0m \u001b[0mKnowledgeTag\u001b[0m     \u001b[0;34m:\u001b[0m \u001b[0;34m{\u001b[0m\u001b[0mlen\u001b[0m\u001b[0;34m(\u001b[0m\u001b[0;34m[\u001b[0m\u001b[0mi\u001b[0m \u001b[0;32mfor\u001b[0m \u001b[0mi\u001b[0m \u001b[0;32min\u001b[0m \u001b[0mpd\u001b[0m\u001b[0;34m.\u001b[0m\u001b[0munique\u001b[0m\u001b[0;34m(\u001b[0m\u001b[0mtest_df\u001b[0m\u001b[0;34m.\u001b[0m\u001b[0mKnowledgeTag\u001b[0m\u001b[0;34m)\u001b[0m \u001b[0;32mif\u001b[0m \u001b[0mi\u001b[0m \u001b[0;32mnot\u001b[0m \u001b[0;32min\u001b[0m \u001b[0mpd\u001b[0m\u001b[0;34m.\u001b[0m\u001b[0munique\u001b[0m\u001b[0;34m(\u001b[0m\u001b[0mtrain_df\u001b[0m\u001b[0;34m.\u001b[0m\u001b[0mKnowledgeTag\u001b[0m\u001b[0;34m)\u001b[0m\u001b[0;34m]\u001b[0m\u001b[0;34m)\u001b[0m\u001b[0;34m}\u001b[0m\u001b[0;34m\u001b[0m\u001b[0;34m\u001b[0m\u001b[0m\n\u001b[0;32m----> 6\u001b[0;31m {'-'*26}\"\"\")\n\u001b[0m",
      "\u001b[0;32m<ipython-input-120-4d5902927d31>\u001b[0m in \u001b[0;36m<listcomp>\u001b[0;34m(.0)\u001b[0m\n\u001b[1;32m      1\u001b[0m print(f\"\"\"--- Test_dataset INFORMATIONS ---\n\u001b[1;32m      2\u001b[0m \u001b[0mtrain에는\u001b[0m \u001b[0m없는\u001b[0m \u001b[0muserID\u001b[0m           \u001b[0;34m:\u001b[0m \u001b[0;34m{\u001b[0m\u001b[0mlen\u001b[0m\u001b[0;34m(\u001b[0m\u001b[0;34m[\u001b[0m\u001b[0mi\u001b[0m \u001b[0;32mfor\u001b[0m \u001b[0mi\u001b[0m \u001b[0;32min\u001b[0m \u001b[0mpd\u001b[0m\u001b[0;34m.\u001b[0m\u001b[0munique\u001b[0m\u001b[0;34m(\u001b[0m\u001b[0mtest_df\u001b[0m\u001b[0;34m.\u001b[0m\u001b[0muserID\u001b[0m\u001b[0;34m)\u001b[0m \u001b[0;32mif\u001b[0m \u001b[0mi\u001b[0m \u001b[0;32mnot\u001b[0m \u001b[0;32min\u001b[0m \u001b[0mpd\u001b[0m\u001b[0;34m.\u001b[0m\u001b[0munique\u001b[0m\u001b[0;34m(\u001b[0m\u001b[0mtrain_df\u001b[0m\u001b[0;34m.\u001b[0m\u001b[0muserID\u001b[0m\u001b[0;34m)\u001b[0m\u001b[0;34m]\u001b[0m\u001b[0;34m)\u001b[0m\u001b[0;34m}\u001b[0m\u001b[0;34m\u001b[0m\u001b[0;34m\u001b[0m\u001b[0m\n\u001b[0;32m----> 3\u001b[0;31m \u001b[0mtrain에는\u001b[0m \u001b[0m없는\u001b[0m \u001b[0massessmentItemID\u001b[0m \u001b[0;34m:\u001b[0m \u001b[0;34m{\u001b[0m\u001b[0mlen\u001b[0m\u001b[0;34m(\u001b[0m\u001b[0;34m[\u001b[0m\u001b[0mi\u001b[0m \u001b[0;32mfor\u001b[0m \u001b[0mi\u001b[0m \u001b[0;32min\u001b[0m \u001b[0mpd\u001b[0m\u001b[0;34m.\u001b[0m\u001b[0munique\u001b[0m\u001b[0;34m(\u001b[0m\u001b[0mtest_df\u001b[0m\u001b[0;34m.\u001b[0m\u001b[0massessmentItemID\u001b[0m\u001b[0;34m)\u001b[0m \u001b[0;32mif\u001b[0m \u001b[0mi\u001b[0m \u001b[0;32mnot\u001b[0m \u001b[0;32min\u001b[0m \u001b[0mpd\u001b[0m\u001b[0;34m.\u001b[0m\u001b[0munique\u001b[0m\u001b[0;34m(\u001b[0m\u001b[0mtrain_df\u001b[0m\u001b[0;34m.\u001b[0m\u001b[0massessmentItemID\u001b[0m\u001b[0;34m)\u001b[0m\u001b[0;34m]\u001b[0m\u001b[0;34m)\u001b[0m\u001b[0;34m}\u001b[0m\u001b[0;34m\u001b[0m\u001b[0;34m\u001b[0m\u001b[0m\n\u001b[0m\u001b[1;32m      4\u001b[0m \u001b[0mtrain에는\u001b[0m \u001b[0m없는\u001b[0m \u001b[0mtestID\u001b[0m           \u001b[0;34m:\u001b[0m \u001b[0;34m{\u001b[0m\u001b[0mlen\u001b[0m\u001b[0;34m(\u001b[0m\u001b[0;34m[\u001b[0m\u001b[0mi\u001b[0m \u001b[0;32mfor\u001b[0m \u001b[0mi\u001b[0m \u001b[0;32min\u001b[0m \u001b[0mpd\u001b[0m\u001b[0;34m.\u001b[0m\u001b[0munique\u001b[0m\u001b[0;34m(\u001b[0m\u001b[0mtest_df\u001b[0m\u001b[0;34m.\u001b[0m\u001b[0mtestID\u001b[0m\u001b[0;34m)\u001b[0m \u001b[0;32mif\u001b[0m \u001b[0mi\u001b[0m \u001b[0;32mnot\u001b[0m \u001b[0;32min\u001b[0m \u001b[0mpd\u001b[0m\u001b[0;34m.\u001b[0m\u001b[0munique\u001b[0m\u001b[0;34m(\u001b[0m\u001b[0mtrain_df\u001b[0m\u001b[0;34m.\u001b[0m\u001b[0mtestID\u001b[0m\u001b[0;34m)\u001b[0m\u001b[0;34m]\u001b[0m\u001b[0;34m)\u001b[0m\u001b[0;34m}\u001b[0m\u001b[0;34m\u001b[0m\u001b[0;34m\u001b[0m\u001b[0m\n\u001b[1;32m      5\u001b[0m \u001b[0mtrain에는\u001b[0m \u001b[0m없는\u001b[0m \u001b[0mKnowledgeTag\u001b[0m     \u001b[0;34m:\u001b[0m \u001b[0;34m{\u001b[0m\u001b[0mlen\u001b[0m\u001b[0;34m(\u001b[0m\u001b[0;34m[\u001b[0m\u001b[0mi\u001b[0m \u001b[0;32mfor\u001b[0m \u001b[0mi\u001b[0m \u001b[0;32min\u001b[0m \u001b[0mpd\u001b[0m\u001b[0;34m.\u001b[0m\u001b[0munique\u001b[0m\u001b[0;34m(\u001b[0m\u001b[0mtest_df\u001b[0m\u001b[0;34m.\u001b[0m\u001b[0mKnowledgeTag\u001b[0m\u001b[0;34m)\u001b[0m \u001b[0;32mif\u001b[0m \u001b[0mi\u001b[0m \u001b[0;32mnot\u001b[0m \u001b[0;32min\u001b[0m \u001b[0mpd\u001b[0m\u001b[0;34m.\u001b[0m\u001b[0munique\u001b[0m\u001b[0;34m(\u001b[0m\u001b[0mtrain_df\u001b[0m\u001b[0;34m.\u001b[0m\u001b[0mKnowledgeTag\u001b[0m\u001b[0;34m)\u001b[0m\u001b[0;34m]\u001b[0m\u001b[0;34m)\u001b[0m\u001b[0;34m}\u001b[0m\u001b[0;34m\u001b[0m\u001b[0;34m\u001b[0m\u001b[0m\n",
      "\u001b[0;32m/opt/conda/lib/python3.7/site-packages/pandas/core/algorithms.py\u001b[0m in \u001b[0;36munique\u001b[0;34m(values)\u001b[0m\n\u001b[1;32m    405\u001b[0m \u001b[0;34m\u001b[0m\u001b[0m\n\u001b[1;32m    406\u001b[0m     \u001b[0mtable\u001b[0m \u001b[0;34m=\u001b[0m \u001b[0mhtable\u001b[0m\u001b[0;34m(\u001b[0m\u001b[0mlen\u001b[0m\u001b[0;34m(\u001b[0m\u001b[0mvalues\u001b[0m\u001b[0;34m)\u001b[0m\u001b[0;34m)\u001b[0m\u001b[0;34m\u001b[0m\u001b[0;34m\u001b[0m\u001b[0m\n\u001b[0;32m--> 407\u001b[0;31m     \u001b[0muniques\u001b[0m \u001b[0;34m=\u001b[0m \u001b[0mtable\u001b[0m\u001b[0;34m.\u001b[0m\u001b[0munique\u001b[0m\u001b[0;34m(\u001b[0m\u001b[0mvalues\u001b[0m\u001b[0;34m)\u001b[0m\u001b[0;34m\u001b[0m\u001b[0;34m\u001b[0m\u001b[0m\n\u001b[0m\u001b[1;32m    408\u001b[0m     \u001b[0muniques\u001b[0m \u001b[0;34m=\u001b[0m \u001b[0m_reconstruct_data\u001b[0m\u001b[0;34m(\u001b[0m\u001b[0muniques\u001b[0m\u001b[0;34m,\u001b[0m \u001b[0moriginal\u001b[0m\u001b[0;34m.\u001b[0m\u001b[0mdtype\u001b[0m\u001b[0;34m,\u001b[0m \u001b[0moriginal\u001b[0m\u001b[0;34m)\u001b[0m\u001b[0;34m\u001b[0m\u001b[0;34m\u001b[0m\u001b[0m\n\u001b[1;32m    409\u001b[0m     \u001b[0;32mreturn\u001b[0m \u001b[0muniques\u001b[0m\u001b[0;34m\u001b[0m\u001b[0;34m\u001b[0m\u001b[0m\n",
      "\u001b[0;31mKeyboardInterrupt\u001b[0m: "
     ]
    }
   ],
   "source": [
    "print(f\"\"\"--- Test_dataset INFORMATIONS ---\n",
    "train에는 없는 userID           : {len([i for i in pd.unique(test_df.userID) if i not in pd.unique(train_df.userID)])}\n",
    "train에는 없는 assessmentItemID : {len([i for i in pd.unique(test_df.assessmentItemID) if i not in pd.unique(train_df.assessmentItemID)])}\n",
    "train에는 없는 testID           : {len([i for i in pd.unique(test_df.testID) if i not in pd.unique(train_df.testID)])}\n",
    "train에는 없는 KnowledgeTag     : {len([i for i in pd.unique(test_df.KnowledgeTag) if i not in pd.unique(train_df.KnowledgeTag)])}\n",
    "{'-'*26}\"\"\")"
   ]
  },
  {
   "source": [
    "하지만 train 데이터셋과 test 데이터셋 간의 완전히 겹치는 데이터는 없습니다.\n",
    "answerCode가 -1인 Row를 빼면 학습 데이터로 활용가능할 것 같습니다."
   ],
   "cell_type": "markdown",
   "metadata": {}
  },
  {
   "cell_type": "code",
   "execution_count": 77,
   "metadata": {},
   "outputs": [],
   "source": [
    "df = pd.merge(train_df, test_df, on=list(test_df.columns), how='outer', indicator='Exist')\n",
    "df['Exist'] = np.where(df.Exist == 'both', True, False)"
   ]
  },
  {
   "cell_type": "code",
   "execution_count": 78,
   "metadata": {},
   "outputs": [
    {
     "output_type": "execute_result",
     "data": {
      "text/plain": [
       "Empty DataFrame\n",
       "Columns: [userID, assessmentItemID, testId, answerCode, Timestamp, KnowledgeTag, Exist]\n",
       "Index: []"
      ],
      "text/html": "<div>\n<style scoped>\n    .dataframe tbody tr th:only-of-type {\n        vertical-align: middle;\n    }\n\n    .dataframe tbody tr th {\n        vertical-align: top;\n    }\n\n    .dataframe thead th {\n        text-align: right;\n    }\n</style>\n<table border=\"1\" class=\"dataframe\">\n  <thead>\n    <tr style=\"text-align: right;\">\n      <th></th>\n      <th>userID</th>\n      <th>assessmentItemID</th>\n      <th>testId</th>\n      <th>answerCode</th>\n      <th>Timestamp</th>\n      <th>KnowledgeTag</th>\n      <th>Exist</th>\n    </tr>\n  </thead>\n  <tbody>\n  </tbody>\n</table>\n</div>"
     },
     "metadata": {},
     "execution_count": 78
    }
   ],
   "source": [
    "df[df['Exist']==True]"
   ]
  },
  {
   "cell_type": "code",
   "execution_count": 6,
   "metadata": {},
   "outputs": [
    {
     "output_type": "execute_result",
     "data": {
      "text/plain": [
       "         userID assessmentItemID      testId  answerCode           Timestamp  \\\n",
       "1570732    2711       A020183001  A020000183           1 2020-10-23 06:24:59   \n",
       "280959      381       A050071002  A050000071           1 2020-07-24 03:13:56   \n",
       "2194534    5698       A010098002  A010000098           1 2020-10-16 09:08:32   \n",
       "396785      543       A090054002  A090000054           0 2020-10-06 03:58:33   \n",
       "1177109    1830       A010022005  A010000022           1 2020-05-12 00:42:01   \n",
       "1230180    1937       A030046004  A030000046           1 2020-06-02 09:52:04   \n",
       "170030      227       A020027006  A020000027           1 2020-06-24 12:00:04   \n",
       "1693574    3028       A010079004  A010000079           1 2020-08-24 10:56:11   \n",
       "231669      311       A060105005  A060000105           1 2020-08-28 09:10:54   \n",
       "1711079    3075       A040016003  A040000016           1 2020-07-28 10:44:13   \n",
       "1833293    3485       A010188001  A010000188           1 2020-10-20 05:35:12   \n",
       "430913      601       A050133007  A050000133           1 2020-09-15 13:31:04   \n",
       "971719     1448       A070091002  A070000091           1 2020-09-13 07:29:24   \n",
       "2051830    4453       A050179004  A050000179           1 2020-09-16 23:24:37   \n",
       "1599545    2785       A020156002  A020000156           0 2020-10-08 01:16:51   \n",
       "1038061    1560       A020085003  A020000085           0 2020-07-28 10:04:09   \n",
       "2201734    5795       A060116006  A060000116           1 2020-08-10 08:43:12   \n",
       "1353912    2209       A030117001  A030000117           1 2020-09-10 05:38:25   \n",
       "1121345    1719       A030097001  A030000097           0 2020-08-12 00:21:13   \n",
       "156741      207       A050115004  A050000115           1 2020-10-07 02:09:50   \n",
       "291413      394       A020126003  A020000126           1 2020-09-23 03:57:02   \n",
       "2252053    6803       A060085004  A060000085           1 2020-08-13 14:44:59   \n",
       "8749         15       A020047005  A020000047           1 2020-05-17 10:40:31   \n",
       "781326     1131       A010140004  A010000140           1 2020-09-25 08:08:52   \n",
       "1855303    3558       A030096001  A030000096           1 2020-06-04 11:28:45   \n",
       "1318629    2125       A060092001  A060000092           1 2020-07-03 11:10:28   \n",
       "1903718    3742       A010142001  A010000142           1 2020-10-07 23:04:45   \n",
       "976322     1458       A070120005  A070000120           1 2020-10-09 07:31:35   \n",
       "1386290    2274       A030041003  A030000041           1 2020-07-03 04:13:36   \n",
       "69751        92       A050063003  A050000063           1 2020-07-12 09:20:21   \n",
       "2238836    6471       A050164002  A050000164           1 2020-10-26 06:47:46   \n",
       "1589185    2754       A020090010  A020000090           0 2020-08-04 10:38:39   \n",
       "1553337    2667       A070163006  A070000163           0 2020-12-05 07:22:11   \n",
       "1222645    1919       A080130001  A080000130           1 2020-12-18 23:26:50   \n",
       "2050387    4444       A020005004  A020000005           1 2020-06-02 04:07:07   \n",
       "1334930    2164       A050017002  A050000017           1 2020-03-24 09:57:31   \n",
       "765457     1111       A010062005  A010000062           0 2020-09-01 08:46:20   \n",
       "2079427    4637       A030154002  A030000154           1 2020-09-01 03:24:15   \n",
       "823213     1196       A050055006  A050000055           0 2020-06-08 06:35:54   \n",
       "1376818    2252       A060022001  A060000022           1 2020-06-16 11:44:20   \n",
       "672232      962       A030110003  A030000110           1 2020-09-24 01:59:22   \n",
       "1765876    3248       A010113002  A010000113           1 2020-09-13 05:25:37   \n",
       "716446     1035       A050031002  A050000031           1 2020-05-21 01:09:39   \n",
       "546699      771       A010064003  A010000064           1 2020-07-06 10:57:20   \n",
       "1845974    3525       A010087005  A010000087           0 2020-08-10 05:36:50   \n",
       "583106      822       A030039003  A030000039           1 2020-04-13 04:48:29   \n",
       "961934     1432       A080085001  A080000085           0 2020-09-10 20:31:28   \n",
       "2172968    5435       A030109004  A030000109           0 2020-09-29 09:03:04   \n",
       "1564888    2698       A040191005  A040000191           1 2020-10-11 22:53:49   \n",
       "1541888    2643       A030003002  A030000003           0 2020-03-11 00:34:14   \n",
       "\n",
       "         KnowledgeTag  \n",
       "1570732          8136  \n",
       "280959           3826  \n",
       "2194534          7629  \n",
       "396785           2601  \n",
       "1177109          6803  \n",
       "1230180           373  \n",
       "170030           7912  \n",
       "1693574          7620  \n",
       "231669            708  \n",
       "1711079          2049  \n",
       "1833293          7072  \n",
       "430913           5289  \n",
       "971719           8891  \n",
       "2051830         10396  \n",
       "1599545          8127  \n",
       "1038061          7822  \n",
       "2201734           713  \n",
       "1353912           547  \n",
       "1121345           465  \n",
       "156741           5286  \n",
       "291413           8019  \n",
       "2252053         10403  \n",
       "8749             7928  \n",
       "781326           7800  \n",
       "1855303           465  \n",
       "1318629           627  \n",
       "1903718          7801  \n",
       "976322           9661  \n",
       "1386290          7333  \n",
       "69751            3828  \n",
       "2238836           459  \n",
       "1589185          7944  \n",
       "1553337          9124  \n",
       "1222645          2726  \n",
       "2050387          7912  \n",
       "1334930          2620  \n",
       "765457           6453  \n",
       "2079427          1720  \n",
       "823213           3751  \n",
       "1376818           592  \n",
       "672232            574  \n",
       "1765876          7797  \n",
       "716446           2625  \n",
       "546699           6454  \n",
       "1845974          6556  \n",
       "583106            365  \n",
       "961934          10569  \n",
       "2172968           559  \n",
       "1564888          2132  \n",
       "1541888           308  "
      ],
      "text/html": "<div>\n<style scoped>\n    .dataframe tbody tr th:only-of-type {\n        vertical-align: middle;\n    }\n\n    .dataframe tbody tr th {\n        vertical-align: top;\n    }\n\n    .dataframe thead th {\n        text-align: right;\n    }\n</style>\n<table border=\"1\" class=\"dataframe\">\n  <thead>\n    <tr style=\"text-align: right;\">\n      <th></th>\n      <th>userID</th>\n      <th>assessmentItemID</th>\n      <th>testId</th>\n      <th>answerCode</th>\n      <th>Timestamp</th>\n      <th>KnowledgeTag</th>\n    </tr>\n  </thead>\n  <tbody>\n    <tr>\n      <th>1570732</th>\n      <td>2711</td>\n      <td>A020183001</td>\n      <td>A020000183</td>\n      <td>1</td>\n      <td>2020-10-23 06:24:59</td>\n      <td>8136</td>\n    </tr>\n    <tr>\n      <th>280959</th>\n      <td>381</td>\n      <td>A050071002</td>\n      <td>A050000071</td>\n      <td>1</td>\n      <td>2020-07-24 03:13:56</td>\n      <td>3826</td>\n    </tr>\n    <tr>\n      <th>2194534</th>\n      <td>5698</td>\n      <td>A010098002</td>\n      <td>A010000098</td>\n      <td>1</td>\n      <td>2020-10-16 09:08:32</td>\n      <td>7629</td>\n    </tr>\n    <tr>\n      <th>396785</th>\n      <td>543</td>\n      <td>A090054002</td>\n      <td>A090000054</td>\n      <td>0</td>\n      <td>2020-10-06 03:58:33</td>\n      <td>2601</td>\n    </tr>\n    <tr>\n      <th>1177109</th>\n      <td>1830</td>\n      <td>A010022005</td>\n      <td>A010000022</td>\n      <td>1</td>\n      <td>2020-05-12 00:42:01</td>\n      <td>6803</td>\n    </tr>\n    <tr>\n      <th>1230180</th>\n      <td>1937</td>\n      <td>A030046004</td>\n      <td>A030000046</td>\n      <td>1</td>\n      <td>2020-06-02 09:52:04</td>\n      <td>373</td>\n    </tr>\n    <tr>\n      <th>170030</th>\n      <td>227</td>\n      <td>A020027006</td>\n      <td>A020000027</td>\n      <td>1</td>\n      <td>2020-06-24 12:00:04</td>\n      <td>7912</td>\n    </tr>\n    <tr>\n      <th>1693574</th>\n      <td>3028</td>\n      <td>A010079004</td>\n      <td>A010000079</td>\n      <td>1</td>\n      <td>2020-08-24 10:56:11</td>\n      <td>7620</td>\n    </tr>\n    <tr>\n      <th>231669</th>\n      <td>311</td>\n      <td>A060105005</td>\n      <td>A060000105</td>\n      <td>1</td>\n      <td>2020-08-28 09:10:54</td>\n      <td>708</td>\n    </tr>\n    <tr>\n      <th>1711079</th>\n      <td>3075</td>\n      <td>A040016003</td>\n      <td>A040000016</td>\n      <td>1</td>\n      <td>2020-07-28 10:44:13</td>\n      <td>2049</td>\n    </tr>\n    <tr>\n      <th>1833293</th>\n      <td>3485</td>\n      <td>A010188001</td>\n      <td>A010000188</td>\n      <td>1</td>\n      <td>2020-10-20 05:35:12</td>\n      <td>7072</td>\n    </tr>\n    <tr>\n      <th>430913</th>\n      <td>601</td>\n      <td>A050133007</td>\n      <td>A050000133</td>\n      <td>1</td>\n      <td>2020-09-15 13:31:04</td>\n      <td>5289</td>\n    </tr>\n    <tr>\n      <th>971719</th>\n      <td>1448</td>\n      <td>A070091002</td>\n      <td>A070000091</td>\n      <td>1</td>\n      <td>2020-09-13 07:29:24</td>\n      <td>8891</td>\n    </tr>\n    <tr>\n      <th>2051830</th>\n      <td>4453</td>\n      <td>A050179004</td>\n      <td>A050000179</td>\n      <td>1</td>\n      <td>2020-09-16 23:24:37</td>\n      <td>10396</td>\n    </tr>\n    <tr>\n      <th>1599545</th>\n      <td>2785</td>\n      <td>A020156002</td>\n      <td>A020000156</td>\n      <td>0</td>\n      <td>2020-10-08 01:16:51</td>\n      <td>8127</td>\n    </tr>\n    <tr>\n      <th>1038061</th>\n      <td>1560</td>\n      <td>A020085003</td>\n      <td>A020000085</td>\n      <td>0</td>\n      <td>2020-07-28 10:04:09</td>\n      <td>7822</td>\n    </tr>\n    <tr>\n      <th>2201734</th>\n      <td>5795</td>\n      <td>A060116006</td>\n      <td>A060000116</td>\n      <td>1</td>\n      <td>2020-08-10 08:43:12</td>\n      <td>713</td>\n    </tr>\n    <tr>\n      <th>1353912</th>\n      <td>2209</td>\n      <td>A030117001</td>\n      <td>A030000117</td>\n      <td>1</td>\n      <td>2020-09-10 05:38:25</td>\n      <td>547</td>\n    </tr>\n    <tr>\n      <th>1121345</th>\n      <td>1719</td>\n      <td>A030097001</td>\n      <td>A030000097</td>\n      <td>0</td>\n      <td>2020-08-12 00:21:13</td>\n      <td>465</td>\n    </tr>\n    <tr>\n      <th>156741</th>\n      <td>207</td>\n      <td>A050115004</td>\n      <td>A050000115</td>\n      <td>1</td>\n      <td>2020-10-07 02:09:50</td>\n      <td>5286</td>\n    </tr>\n    <tr>\n      <th>291413</th>\n      <td>394</td>\n      <td>A020126003</td>\n      <td>A020000126</td>\n      <td>1</td>\n      <td>2020-09-23 03:57:02</td>\n      <td>8019</td>\n    </tr>\n    <tr>\n      <th>2252053</th>\n      <td>6803</td>\n      <td>A060085004</td>\n      <td>A060000085</td>\n      <td>1</td>\n      <td>2020-08-13 14:44:59</td>\n      <td>10403</td>\n    </tr>\n    <tr>\n      <th>8749</th>\n      <td>15</td>\n      <td>A020047005</td>\n      <td>A020000047</td>\n      <td>1</td>\n      <td>2020-05-17 10:40:31</td>\n      <td>7928</td>\n    </tr>\n    <tr>\n      <th>781326</th>\n      <td>1131</td>\n      <td>A010140004</td>\n      <td>A010000140</td>\n      <td>1</td>\n      <td>2020-09-25 08:08:52</td>\n      <td>7800</td>\n    </tr>\n    <tr>\n      <th>1855303</th>\n      <td>3558</td>\n      <td>A030096001</td>\n      <td>A030000096</td>\n      <td>1</td>\n      <td>2020-06-04 11:28:45</td>\n      <td>465</td>\n    </tr>\n    <tr>\n      <th>1318629</th>\n      <td>2125</td>\n      <td>A060092001</td>\n      <td>A060000092</td>\n      <td>1</td>\n      <td>2020-07-03 11:10:28</td>\n      <td>627</td>\n    </tr>\n    <tr>\n      <th>1903718</th>\n      <td>3742</td>\n      <td>A010142001</td>\n      <td>A010000142</td>\n      <td>1</td>\n      <td>2020-10-07 23:04:45</td>\n      <td>7801</td>\n    </tr>\n    <tr>\n      <th>976322</th>\n      <td>1458</td>\n      <td>A070120005</td>\n      <td>A070000120</td>\n      <td>1</td>\n      <td>2020-10-09 07:31:35</td>\n      <td>9661</td>\n    </tr>\n    <tr>\n      <th>1386290</th>\n      <td>2274</td>\n      <td>A030041003</td>\n      <td>A030000041</td>\n      <td>1</td>\n      <td>2020-07-03 04:13:36</td>\n      <td>7333</td>\n    </tr>\n    <tr>\n      <th>69751</th>\n      <td>92</td>\n      <td>A050063003</td>\n      <td>A050000063</td>\n      <td>1</td>\n      <td>2020-07-12 09:20:21</td>\n      <td>3828</td>\n    </tr>\n    <tr>\n      <th>2238836</th>\n      <td>6471</td>\n      <td>A050164002</td>\n      <td>A050000164</td>\n      <td>1</td>\n      <td>2020-10-26 06:47:46</td>\n      <td>459</td>\n    </tr>\n    <tr>\n      <th>1589185</th>\n      <td>2754</td>\n      <td>A020090010</td>\n      <td>A020000090</td>\n      <td>0</td>\n      <td>2020-08-04 10:38:39</td>\n      <td>7944</td>\n    </tr>\n    <tr>\n      <th>1553337</th>\n      <td>2667</td>\n      <td>A070163006</td>\n      <td>A070000163</td>\n      <td>0</td>\n      <td>2020-12-05 07:22:11</td>\n      <td>9124</td>\n    </tr>\n    <tr>\n      <th>1222645</th>\n      <td>1919</td>\n      <td>A080130001</td>\n      <td>A080000130</td>\n      <td>1</td>\n      <td>2020-12-18 23:26:50</td>\n      <td>2726</td>\n    </tr>\n    <tr>\n      <th>2050387</th>\n      <td>4444</td>\n      <td>A020005004</td>\n      <td>A020000005</td>\n      <td>1</td>\n      <td>2020-06-02 04:07:07</td>\n      <td>7912</td>\n    </tr>\n    <tr>\n      <th>1334930</th>\n      <td>2164</td>\n      <td>A050017002</td>\n      <td>A050000017</td>\n      <td>1</td>\n      <td>2020-03-24 09:57:31</td>\n      <td>2620</td>\n    </tr>\n    <tr>\n      <th>765457</th>\n      <td>1111</td>\n      <td>A010062005</td>\n      <td>A010000062</td>\n      <td>0</td>\n      <td>2020-09-01 08:46:20</td>\n      <td>6453</td>\n    </tr>\n    <tr>\n      <th>2079427</th>\n      <td>4637</td>\n      <td>A030154002</td>\n      <td>A030000154</td>\n      <td>1</td>\n      <td>2020-09-01 03:24:15</td>\n      <td>1720</td>\n    </tr>\n    <tr>\n      <th>823213</th>\n      <td>1196</td>\n      <td>A050055006</td>\n      <td>A050000055</td>\n      <td>0</td>\n      <td>2020-06-08 06:35:54</td>\n      <td>3751</td>\n    </tr>\n    <tr>\n      <th>1376818</th>\n      <td>2252</td>\n      <td>A060022001</td>\n      <td>A060000022</td>\n      <td>1</td>\n      <td>2020-06-16 11:44:20</td>\n      <td>592</td>\n    </tr>\n    <tr>\n      <th>672232</th>\n      <td>962</td>\n      <td>A030110003</td>\n      <td>A030000110</td>\n      <td>1</td>\n      <td>2020-09-24 01:59:22</td>\n      <td>574</td>\n    </tr>\n    <tr>\n      <th>1765876</th>\n      <td>3248</td>\n      <td>A010113002</td>\n      <td>A010000113</td>\n      <td>1</td>\n      <td>2020-09-13 05:25:37</td>\n      <td>7797</td>\n    </tr>\n    <tr>\n      <th>716446</th>\n      <td>1035</td>\n      <td>A050031002</td>\n      <td>A050000031</td>\n      <td>1</td>\n      <td>2020-05-21 01:09:39</td>\n      <td>2625</td>\n    </tr>\n    <tr>\n      <th>546699</th>\n      <td>771</td>\n      <td>A010064003</td>\n      <td>A010000064</td>\n      <td>1</td>\n      <td>2020-07-06 10:57:20</td>\n      <td>6454</td>\n    </tr>\n    <tr>\n      <th>1845974</th>\n      <td>3525</td>\n      <td>A010087005</td>\n      <td>A010000087</td>\n      <td>0</td>\n      <td>2020-08-10 05:36:50</td>\n      <td>6556</td>\n    </tr>\n    <tr>\n      <th>583106</th>\n      <td>822</td>\n      <td>A030039003</td>\n      <td>A030000039</td>\n      <td>1</td>\n      <td>2020-04-13 04:48:29</td>\n      <td>365</td>\n    </tr>\n    <tr>\n      <th>961934</th>\n      <td>1432</td>\n      <td>A080085001</td>\n      <td>A080000085</td>\n      <td>0</td>\n      <td>2020-09-10 20:31:28</td>\n      <td>10569</td>\n    </tr>\n    <tr>\n      <th>2172968</th>\n      <td>5435</td>\n      <td>A030109004</td>\n      <td>A030000109</td>\n      <td>0</td>\n      <td>2020-09-29 09:03:04</td>\n      <td>559</td>\n    </tr>\n    <tr>\n      <th>1564888</th>\n      <td>2698</td>\n      <td>A040191005</td>\n      <td>A040000191</td>\n      <td>1</td>\n      <td>2020-10-11 22:53:49</td>\n      <td>2132</td>\n    </tr>\n    <tr>\n      <th>1541888</th>\n      <td>2643</td>\n      <td>A030003002</td>\n      <td>A030000003</td>\n      <td>0</td>\n      <td>2020-03-11 00:34:14</td>\n      <td>308</td>\n    </tr>\n  </tbody>\n</table>\n</div>"
     },
     "metadata": {},
     "execution_count": 6
    }
   ],
   "source": []
  },
  {
   "cell_type": "code",
   "execution_count": null,
   "metadata": {},
   "outputs": [],
   "source": []
  }
 ]
}