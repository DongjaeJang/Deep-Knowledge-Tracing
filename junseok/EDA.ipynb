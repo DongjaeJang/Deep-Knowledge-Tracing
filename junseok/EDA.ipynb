{
 "metadata": {
  "language_info": {
   "codemirror_mode": {
    "name": "ipython",
    "version": 3
   },
   "file_extension": ".py",
   "mimetype": "text/x-python",
   "name": "python",
   "nbconvert_exporter": "python",
   "pygments_lexer": "ipython3",
   "version": "3.7.7"
  },
  "orig_nbformat": 2,
  "kernelspec": {
   "name": "python377jvsc74a57bd098b0a9b7b4eaaa670588a142fd0a9b87eaafe866f1db4228be72b4211d12040f",
   "display_name": "Python 3.7.7 64-bit ('base': conda)"
  }
 },
 "nbformat": 4,
 "nbformat_minor": 2,
 "cells": [
  {
   "source": [
    "# EDA"
   ],
   "cell_type": "markdown",
   "metadata": {}
  },
  {
   "cell_type": "code",
   "execution_count": 1,
   "metadata": {},
   "outputs": [],
   "source": [
    "import pandas as pd\n",
    "import numpy as np\n",
    "\n",
    "import matplotlib.pyplot as plt\n",
    "import seaborn as sns\n",
    "from tqdm.auto import tqdm\n",
    "\n",
    "import csv\n",
    "import os\n",
    "import sys\n"
   ]
  },
  {
   "cell_type": "code",
   "execution_count": 2,
   "metadata": {},
   "outputs": [],
   "source": [
    "DATA_PATH = '/opt/ml/input/data/train_dataset/'\n",
    "train_df = pd.read_csv(DATA_PATH+'train_data.csv', parse_dates=['Timestamp'])\n",
    "train_df = train_df.sort_values(by=['userID', 'Timestamp']).reset_index(drop=True)\n",
    "test_df = pd.read_csv(DATA_PATH+'test_data.csv', parse_dates=['Timestamp'])\n",
    "test_df = test_df.sort_values(by=['userID', 'Timestamp']).reset_index(drop=True)"
   ]
  },
  {
   "source": [
    "## TRAIN VS TEST\n"
   ],
   "cell_type": "markdown",
   "metadata": {}
  },
  {
   "source": [
    "Train과 Test는 같은 Column을 가지고 있으며, Row의 수는 다음과 같다.\n",
    "약 8.7:1의 비율이다"
   ],
   "cell_type": "markdown",
   "metadata": {}
  },
  {
   "cell_type": "code",
   "execution_count": 3,
   "metadata": {},
   "outputs": [
    {
     "output_type": "execute_result",
     "data": {
      "text/plain": [
       "array([ True,  True,  True,  True,  True,  True])"
      ]
     },
     "metadata": {},
     "execution_count": 3
    }
   ],
   "source": [
    "train_df.columns == test_df.columns"
   ]
  },
  {
   "cell_type": "code",
   "execution_count": 4,
   "metadata": {},
   "outputs": [
    {
     "output_type": "stream",
     "name": "stdout",
     "text": [
      "train_dataset length:  2266586 vs test_dataset length:  260114 ,  8.713817787585443\n"
     ]
    }
   ],
   "source": [
    "print(\"train_dataset length: \", len(train_df),\"vs\", \"test_dataset length: \", len(test_df), \", \", len(train_df)/len(test_df))"
   ]
  },
  {
   "source": [
    "특히, 우리가 예측해야할 문제의 answerCode column은 0이나 1 대신 -1로 마스킹되어 있으며, 총 744개의 문제를 예측해야한다. "
   ],
   "cell_type": "markdown",
   "metadata": {}
  },
  {
   "cell_type": "code",
   "execution_count": 5,
   "metadata": {},
   "outputs": [
    {
     "output_type": "execute_result",
     "data": {
      "text/plain": [
       "        userID assessmentItemID      testId  answerCode           Timestamp  \\\n",
       "1035         3       A050133008  A050000133          -1 2020-10-26 13:13:57   \n",
       "1706         4       A070146008  A070000146          -1 2020-12-27 02:47:54   \n",
       "3023        13       A070111008  A070000111          -1 2020-12-27 04:35:09   \n",
       "4283        17       A090064006  A090000064          -1 2020-10-30 05:48:37   \n",
       "4670        26       A060135007  A060000135          -1 2020-10-23 11:44:18   \n",
       "...        ...              ...         ...         ...                 ...   \n",
       "260052    7395       A040122005  A040000122          -1 2020-09-08 02:05:20   \n",
       "260067    7404       A030111005  A030000111          -1 2020-10-13 09:49:18   \n",
       "260082    7416       A050193004  A050000193          -1 2020-10-04 02:44:41   \n",
       "260097    7417       A050193004  A050000193          -1 2020-09-06 13:09:15   \n",
       "260113    7439       A040130005  A040000130          -1 2020-10-14 23:10:03   \n",
       "\n",
       "        KnowledgeTag  \n",
       "1035            5289  \n",
       "1706            9080  \n",
       "3023            9660  \n",
       "4283            2611  \n",
       "4670            1422  \n",
       "...              ...  \n",
       "260052         10615  \n",
       "260067          7636  \n",
       "260082         10402  \n",
       "260097         10402  \n",
       "260113          8832  \n",
       "\n",
       "[744 rows x 6 columns]"
      ],
      "text/html": "<div>\n<style scoped>\n    .dataframe tbody tr th:only-of-type {\n        vertical-align: middle;\n    }\n\n    .dataframe tbody tr th {\n        vertical-align: top;\n    }\n\n    .dataframe thead th {\n        text-align: right;\n    }\n</style>\n<table border=\"1\" class=\"dataframe\">\n  <thead>\n    <tr style=\"text-align: right;\">\n      <th></th>\n      <th>userID</th>\n      <th>assessmentItemID</th>\n      <th>testId</th>\n      <th>answerCode</th>\n      <th>Timestamp</th>\n      <th>KnowledgeTag</th>\n    </tr>\n  </thead>\n  <tbody>\n    <tr>\n      <th>1035</th>\n      <td>3</td>\n      <td>A050133008</td>\n      <td>A050000133</td>\n      <td>-1</td>\n      <td>2020-10-26 13:13:57</td>\n      <td>5289</td>\n    </tr>\n    <tr>\n      <th>1706</th>\n      <td>4</td>\n      <td>A070146008</td>\n      <td>A070000146</td>\n      <td>-1</td>\n      <td>2020-12-27 02:47:54</td>\n      <td>9080</td>\n    </tr>\n    <tr>\n      <th>3023</th>\n      <td>13</td>\n      <td>A070111008</td>\n      <td>A070000111</td>\n      <td>-1</td>\n      <td>2020-12-27 04:35:09</td>\n      <td>9660</td>\n    </tr>\n    <tr>\n      <th>4283</th>\n      <td>17</td>\n      <td>A090064006</td>\n      <td>A090000064</td>\n      <td>-1</td>\n      <td>2020-10-30 05:48:37</td>\n      <td>2611</td>\n    </tr>\n    <tr>\n      <th>4670</th>\n      <td>26</td>\n      <td>A060135007</td>\n      <td>A060000135</td>\n      <td>-1</td>\n      <td>2020-10-23 11:44:18</td>\n      <td>1422</td>\n    </tr>\n    <tr>\n      <th>...</th>\n      <td>...</td>\n      <td>...</td>\n      <td>...</td>\n      <td>...</td>\n      <td>...</td>\n      <td>...</td>\n    </tr>\n    <tr>\n      <th>260052</th>\n      <td>7395</td>\n      <td>A040122005</td>\n      <td>A040000122</td>\n      <td>-1</td>\n      <td>2020-09-08 02:05:20</td>\n      <td>10615</td>\n    </tr>\n    <tr>\n      <th>260067</th>\n      <td>7404</td>\n      <td>A030111005</td>\n      <td>A030000111</td>\n      <td>-1</td>\n      <td>2020-10-13 09:49:18</td>\n      <td>7636</td>\n    </tr>\n    <tr>\n      <th>260082</th>\n      <td>7416</td>\n      <td>A050193004</td>\n      <td>A050000193</td>\n      <td>-1</td>\n      <td>2020-10-04 02:44:41</td>\n      <td>10402</td>\n    </tr>\n    <tr>\n      <th>260097</th>\n      <td>7417</td>\n      <td>A050193004</td>\n      <td>A050000193</td>\n      <td>-1</td>\n      <td>2020-09-06 13:09:15</td>\n      <td>10402</td>\n    </tr>\n    <tr>\n      <th>260113</th>\n      <td>7439</td>\n      <td>A040130005</td>\n      <td>A040000130</td>\n      <td>-1</td>\n      <td>2020-10-14 23:10:03</td>\n      <td>8832</td>\n    </tr>\n  </tbody>\n</table>\n<p>744 rows × 6 columns</p>\n</div>"
     },
     "metadata": {},
     "execution_count": 5
    }
   ],
   "source": [
    "test_df[test_df['answerCode'] == -1]"
   ]
  },
  {
   "source": [
    "Train과 Test 데이터셋의 unique feature의 수"
   ],
   "cell_type": "markdown",
   "metadata": {}
  },
  {
   "cell_type": "code",
   "execution_count": 6,
   "metadata": {},
   "outputs": [
    {
     "output_type": "stream",
     "name": "stdout",
     "text": [
      "--- Train_dataset INFORMATIONS ---\nuserID           : 6698\nassessmentItemID : 9454\ntestID           : 1537\nmean answer rate : 65.44%\nKnowledgeTag     : 912\n--------------------------\n"
     ]
    }
   ],
   "source": [
    "print(f\"\"\"--- Train_dataset INFORMATIONS ---\n",
    "userID           : {train_df.userID.nunique()}\n",
    "assessmentItemID : {train_df.assessmentItemID.nunique()}\n",
    "testID           : {train_df.testId.nunique()}\n",
    "mean answer rate : {train_df.answerCode.sum() / train_df.shape[0] * 100:.2f}%\n",
    "KnowledgeTag     : {train_df.KnowledgeTag.nunique()}\n",
    "{'-'*26}\"\"\")"
   ]
  },
  {
   "cell_type": "code",
   "execution_count": 7,
   "metadata": {},
   "outputs": [
    {
     "output_type": "stream",
     "name": "stdout",
     "text": [
      "--- Test_dataset INFORMATIONS ---\nuserID           : 744\nassessmentItemID : 9454\ntestID           : 1537\nmean answer rate : 65.50%\nKnowledgeTag     : 912\n--------------------------\n"
     ]
    }
   ],
   "source": [
    "print(f\"\"\"--- Test_dataset INFORMATIONS ---\n",
    "userID           : {test_df.userID.nunique()}\n",
    "assessmentItemID : {test_df.assessmentItemID.nunique()}\n",
    "testID           : {test_df.testId.nunique()}\n",
    "mean answer rate : {test_df[test_df['answerCode'] != -1]['answerCode'].sum() / test_df.shape[0] * 100:.2f}%\n",
    "KnowledgeTag     : {test_df.KnowledgeTag.nunique()}\n",
    "{'-'*26}\"\"\")"
   ]
  },
  {
   "cell_type": "code",
   "execution_count": 8,
   "metadata": {},
   "outputs": [],
   "source": [
    "train_unique_userID = pd.unique(train_df.userID)\n",
    "train_unique_assessmentItemID = pd.unique(train_df.assessmentItemID)\n",
    "train_unique_testId = pd.unique(train_df.testId)\n",
    "train_unique_KnowledgeTag = pd.unique(train_df.KnowledgeTag)"
   ]
  },
  {
   "source": [
    "각 column의 value의 경우, userID는 하나도 일치하지 않고 나머지 comlumn 모두 일치합니다."
   ],
   "cell_type": "markdown",
   "metadata": {}
  },
  {
   "cell_type": "code",
   "execution_count": 10,
   "metadata": {},
   "outputs": [
    {
     "output_type": "display_data",
     "data": {
      "text/plain": "  0%|          | 0/744 [00:00<?, ?it/s]",
      "application/vnd.jupyter.widget-view+json": {
       "version_major": 2,
       "version_minor": 0,
       "model_id": "79f667c174e74311874b08442f2f2922"
      }
     },
     "metadata": {}
    },
    {
     "output_type": "display_data",
     "data": {
      "text/plain": "  0%|          | 0/9454 [00:00<?, ?it/s]",
      "application/vnd.jupyter.widget-view+json": {
       "version_major": 2,
       "version_minor": 0,
       "model_id": "64886b999f074e378b868690f4f4fccb"
      }
     },
     "metadata": {}
    },
    {
     "output_type": "display_data",
     "data": {
      "text/plain": "  0%|          | 0/1537 [00:00<?, ?it/s]",
      "application/vnd.jupyter.widget-view+json": {
       "version_major": 2,
       "version_minor": 0,
       "model_id": "5d276c7247184024b628f868871e0ee0"
      }
     },
     "metadata": {}
    },
    {
     "output_type": "display_data",
     "data": {
      "text/plain": "  0%|          | 0/912 [00:00<?, ?it/s]",
      "application/vnd.jupyter.widget-view+json": {
       "version_major": 2,
       "version_minor": 0,
       "model_id": "f88304889be24131a4f1186597d7b1e0"
      }
     },
     "metadata": {}
    },
    {
     "output_type": "stream",
     "name": "stdout",
     "text": [
      "--- Test_dataset INFORMATIONS ---\ntrain에는 없는 userID           : 744\ntrain에는 없는 assessmentItemID : 0\ntrain에는 없는 testID           : 0\ntrain에는 없는 KnowledgeTag     : 0\n--------------------------\n"
     ]
    }
   ],
   "source": [
    "\n",
    "print(f\"\"\"--- Test_dataset INFORMATIONS ---\n",
    "train에는 없는 userID           : {len([i for i in tqdm(pd.unique(test_df.userID)) if i not in train_unique_userID])}\n",
    "train에는 없는 assessmentItemID : {len([i for i in tqdm(pd.unique(test_df.assessmentItemID)) if i not in train_unique_assessmentItemID])}\n",
    "train에는 없는 testID           : {len([i for i in tqdm(pd.unique(test_df.testId)) if i not in train_unique_testId])}\n",
    "train에는 없는 KnowledgeTag     : {len([i for i in tqdm(pd.unique(test_df.KnowledgeTag)) if i not in train_unique_KnowledgeTag])}\n",
    "{'-'*26}\"\"\")"
   ]
  },
  {
   "source": [
    "하지만 train 데이터셋과 test 데이터셋 간의 완전히 겹치는 데이터는 없습니다.\n",
    "answerCode가 -1인 Row를 빼면 학습 데이터로 활용가능할 것 같습니다."
   ],
   "cell_type": "markdown",
   "metadata": {}
  },
  {
   "cell_type": "code",
   "execution_count": 11,
   "metadata": {},
   "outputs": [],
   "source": [
    "df = pd.merge(train_df, test_df, on=list(test_df.columns), how='outer', indicator='Exist')\n",
    "df['Exist'] = np.where(df.Exist == 'both', True, False)"
   ]
  },
  {
   "cell_type": "code",
   "execution_count": 12,
   "metadata": {},
   "outputs": [
    {
     "output_type": "execute_result",
     "data": {
      "text/plain": [
       "Empty DataFrame\n",
       "Columns: [userID, assessmentItemID, testId, answerCode, Timestamp, KnowledgeTag, Exist]\n",
       "Index: []"
      ],
      "text/html": "<div>\n<style scoped>\n    .dataframe tbody tr th:only-of-type {\n        vertical-align: middle;\n    }\n\n    .dataframe tbody tr th {\n        vertical-align: top;\n    }\n\n    .dataframe thead th {\n        text-align: right;\n    }\n</style>\n<table border=\"1\" class=\"dataframe\">\n  <thead>\n    <tr style=\"text-align: right;\">\n      <th></th>\n      <th>userID</th>\n      <th>assessmentItemID</th>\n      <th>testId</th>\n      <th>answerCode</th>\n      <th>Timestamp</th>\n      <th>KnowledgeTag</th>\n      <th>Exist</th>\n    </tr>\n  </thead>\n  <tbody>\n  </tbody>\n</table>\n</div>"
     },
     "metadata": {},
     "execution_count": 12
    }
   ],
   "source": [
    "df[df['Exist']==True]"
   ]
  },
  {
   "cell_type": "code",
   "execution_count": 24,
   "metadata": {},
   "outputs": [
    {
     "output_type": "execute_result",
     "data": {
      "text/plain": [
       "744"
      ]
     },
     "metadata": {},
     "execution_count": 24
    }
   ],
   "source": [
    "len(list(test_df.groupby('userID')))"
   ]
  },
  {
   "cell_type": "code",
   "execution_count": 25,
   "metadata": {},
   "outputs": [],
   "source": [
    "new_df = train_df.sort_values(by=['userID','Timestamp'], axis=0)\n",
    "columns = ['userID', 'assessmentItemID', 'testId', 'answerCode', 'KnowledgeTag']\n",
    "group = new_df[columns].groupby('userID').apply(\n",
    "        lambda r: (\n",
    "            r['testId'].values, \n",
    "            r['assessmentItemID'].values,\n",
    "            r['KnowledgeTag'].values,\n",
    "            r['answerCode'].values\n",
    "        )\n",
    "    )\n"
   ]
  },
  {
   "cell_type": "code",
   "execution_count": 26,
   "metadata": {},
   "outputs": [
    {
     "output_type": "execute_result",
     "data": {
      "text/plain": [
       "userID\n",
       "0       ([A060000001, A060000001, A060000001, A0600000...\n",
       "1       ([A040000013, A040000013, A040000013, A0400000...\n",
       "2       ([A030000050, A030000050, A030000050, A0300000...\n",
       "5       ([A080000001, A080000001, A080000001, A0800000...\n",
       "6       ([A030000016, A030000016, A030000016, A0300000...\n",
       "                              ...                        \n",
       "7436    ([A050000095, A050000095, A050000095, A0500000...\n",
       "7437    ([A040000072, A040000072, A040000072, A0400000...\n",
       "7438    ([A080000002, A080000002, A080000002, A0800000...\n",
       "7440    ([A050000096, A050000096, A050000096, A0500000...\n",
       "7441    ([A030000071, A030000071, A030000071, A0300000...\n",
       "Length: 6698, dtype: object"
      ]
     },
     "metadata": {},
     "execution_count": 26
    }
   ],
   "source": [
    "group"
   ]
  },
  {
   "cell_type": "code",
   "execution_count": 33,
   "metadata": {},
   "outputs": [
    {
     "output_type": "execute_result",
     "data": {
      "text/plain": [
       "        userID assessmentItemID      testId  answerCode           Timestamp  \\\n",
       "1035         3       A050133008  A050000133          -1 2020-10-26 13:13:57   \n",
       "1706         4       A070146008  A070000146          -1 2020-12-27 02:47:54   \n",
       "3023        13       A070111008  A070000111          -1 2020-12-27 04:35:09   \n",
       "4283        17       A090064006  A090000064          -1 2020-10-30 05:48:37   \n",
       "4670        26       A060135007  A060000135          -1 2020-10-23 11:44:18   \n",
       "...        ...              ...         ...         ...                 ...   \n",
       "260052    7395       A040122005  A040000122          -1 2020-09-08 02:05:20   \n",
       "260067    7404       A030111005  A030000111          -1 2020-10-13 09:49:18   \n",
       "260082    7416       A050193004  A050000193          -1 2020-10-04 02:44:41   \n",
       "260097    7417       A050193004  A050000193          -1 2020-09-06 13:09:15   \n",
       "260113    7439       A040130005  A040000130          -1 2020-10-14 23:10:03   \n",
       "\n",
       "        KnowledgeTag  \n",
       "1035            5289  \n",
       "1706            9080  \n",
       "3023            9660  \n",
       "4283            2611  \n",
       "4670            1422  \n",
       "...              ...  \n",
       "260052         10615  \n",
       "260067          7636  \n",
       "260082         10402  \n",
       "260097         10402  \n",
       "260113          8832  \n",
       "\n",
       "[744 rows x 6 columns]"
      ],
      "text/html": "<div>\n<style scoped>\n    .dataframe tbody tr th:only-of-type {\n        vertical-align: middle;\n    }\n\n    .dataframe tbody tr th {\n        vertical-align: top;\n    }\n\n    .dataframe thead th {\n        text-align: right;\n    }\n</style>\n<table border=\"1\" class=\"dataframe\">\n  <thead>\n    <tr style=\"text-align: right;\">\n      <th></th>\n      <th>userID</th>\n      <th>assessmentItemID</th>\n      <th>testId</th>\n      <th>answerCode</th>\n      <th>Timestamp</th>\n      <th>KnowledgeTag</th>\n    </tr>\n  </thead>\n  <tbody>\n    <tr>\n      <th>1035</th>\n      <td>3</td>\n      <td>A050133008</td>\n      <td>A050000133</td>\n      <td>-1</td>\n      <td>2020-10-26 13:13:57</td>\n      <td>5289</td>\n    </tr>\n    <tr>\n      <th>1706</th>\n      <td>4</td>\n      <td>A070146008</td>\n      <td>A070000146</td>\n      <td>-1</td>\n      <td>2020-12-27 02:47:54</td>\n      <td>9080</td>\n    </tr>\n    <tr>\n      <th>3023</th>\n      <td>13</td>\n      <td>A070111008</td>\n      <td>A070000111</td>\n      <td>-1</td>\n      <td>2020-12-27 04:35:09</td>\n      <td>9660</td>\n    </tr>\n    <tr>\n      <th>4283</th>\n      <td>17</td>\n      <td>A090064006</td>\n      <td>A090000064</td>\n      <td>-1</td>\n      <td>2020-10-30 05:48:37</td>\n      <td>2611</td>\n    </tr>\n    <tr>\n      <th>4670</th>\n      <td>26</td>\n      <td>A060135007</td>\n      <td>A060000135</td>\n      <td>-1</td>\n      <td>2020-10-23 11:44:18</td>\n      <td>1422</td>\n    </tr>\n    <tr>\n      <th>...</th>\n      <td>...</td>\n      <td>...</td>\n      <td>...</td>\n      <td>...</td>\n      <td>...</td>\n      <td>...</td>\n    </tr>\n    <tr>\n      <th>260052</th>\n      <td>7395</td>\n      <td>A040122005</td>\n      <td>A040000122</td>\n      <td>-1</td>\n      <td>2020-09-08 02:05:20</td>\n      <td>10615</td>\n    </tr>\n    <tr>\n      <th>260067</th>\n      <td>7404</td>\n      <td>A030111005</td>\n      <td>A030000111</td>\n      <td>-1</td>\n      <td>2020-10-13 09:49:18</td>\n      <td>7636</td>\n    </tr>\n    <tr>\n      <th>260082</th>\n      <td>7416</td>\n      <td>A050193004</td>\n      <td>A050000193</td>\n      <td>-1</td>\n      <td>2020-10-04 02:44:41</td>\n      <td>10402</td>\n    </tr>\n    <tr>\n      <th>260097</th>\n      <td>7417</td>\n      <td>A050193004</td>\n      <td>A050000193</td>\n      <td>-1</td>\n      <td>2020-09-06 13:09:15</td>\n      <td>10402</td>\n    </tr>\n    <tr>\n      <th>260113</th>\n      <td>7439</td>\n      <td>A040130005</td>\n      <td>A040000130</td>\n      <td>-1</td>\n      <td>2020-10-14 23:10:03</td>\n      <td>8832</td>\n    </tr>\n  </tbody>\n</table>\n<p>744 rows × 6 columns</p>\n</div>"
     },
     "metadata": {},
     "execution_count": 33
    }
   ],
   "source": [
    "test_df[test_df['answerCode'] == -1]"
   ]
  },
  {
   "cell_type": "code",
   "execution_count": 3,
   "metadata": {},
   "outputs": [],
   "source": [
    "new_column = train_df['assessmentItemID'].apply(lambda x : x[:3])\n",
    "new_column.name = \"grade\""
   ]
  },
  {
   "cell_type": "code",
   "execution_count": 6,
   "metadata": {},
   "outputs": [
    {
     "output_type": "execute_result",
     "data": {
      "text/plain": [
       "0          A06\n",
       "1          A06\n",
       "2          A06\n",
       "3          A06\n",
       "4          A06\n",
       "          ... \n",
       "2266581    A03\n",
       "2266582    A04\n",
       "2266583    A04\n",
       "2266584    A04\n",
       "2266585    A04\n",
       "Name: grade, Length: 2266586, dtype: object"
      ]
     },
     "metadata": {},
     "execution_count": 6
    }
   ],
   "source": [
    "new_column"
   ]
  },
  {
   "cell_type": "code",
   "execution_count": 13,
   "metadata": {},
   "outputs": [],
   "source": [
    "new_train_df = train_df.head(40)"
   ]
  },
  {
   "cell_type": "code",
   "execution_count": 27,
   "metadata": {},
   "outputs": [
    {
     "output_type": "execute_result",
     "data": {
      "text/plain": [
       "0.654378435232548"
      ]
     },
     "metadata": {},
     "execution_count": 27
    }
   ],
   "source": [
    "train_df['answerCode'].mean()"
   ]
  },
  {
   "cell_type": "code",
   "execution_count": 30,
   "metadata": {},
   "outputs": [],
   "source": [
    "avgs = train_df.groupby('userID')['answerCode'].mean()"
   ]
  },
  {
   "cell_type": "code",
   "execution_count": 31,
   "metadata": {},
   "outputs": [
    {
     "output_type": "execute_result",
     "data": {
      "text/plain": [
       "userID\n",
       "0       0.630872\n",
       "1       0.853162\n",
       "2       0.612319\n",
       "5       0.795918\n",
       "6       0.442997\n",
       "          ...   \n",
       "7436    0.466667\n",
       "7437    0.375000\n",
       "7438    0.750000\n",
       "7440    0.400000\n",
       "7441    0.555556\n",
       "Name: answerCode, Length: 6698, dtype: float64"
      ]
     },
     "metadata": {},
     "execution_count": 31
    }
   ],
   "source": [
    "avgs"
   ]
  },
  {
   "cell_type": "code",
   "execution_count": 32,
   "metadata": {},
   "outputs": [
    {
     "output_type": "error",
     "ename": "KeyError",
     "evalue": "'userID'",
     "traceback": [
      "\u001b[0;31m---------------------------------------------------------------------------\u001b[0m",
      "\u001b[0;31mKeyError\u001b[0m                                  Traceback (most recent call last)",
      "\u001b[0;32m/opt/conda/lib/python3.7/site-packages/pandas/core/indexes/base.py\u001b[0m in \u001b[0;36mget_loc\u001b[0;34m(self, key, method, tolerance)\u001b[0m\n\u001b[1;32m   3079\u001b[0m             \u001b[0;32mtry\u001b[0m\u001b[0;34m:\u001b[0m\u001b[0;34m\u001b[0m\u001b[0;34m\u001b[0m\u001b[0m\n\u001b[0;32m-> 3080\u001b[0;31m                 \u001b[0;32mreturn\u001b[0m \u001b[0mself\u001b[0m\u001b[0;34m.\u001b[0m\u001b[0m_engine\u001b[0m\u001b[0;34m.\u001b[0m\u001b[0mget_loc\u001b[0m\u001b[0;34m(\u001b[0m\u001b[0mcasted_key\u001b[0m\u001b[0;34m)\u001b[0m\u001b[0;34m\u001b[0m\u001b[0;34m\u001b[0m\u001b[0m\n\u001b[0m\u001b[1;32m   3081\u001b[0m             \u001b[0;32mexcept\u001b[0m \u001b[0mKeyError\u001b[0m \u001b[0;32mas\u001b[0m \u001b[0merr\u001b[0m\u001b[0;34m:\u001b[0m\u001b[0;34m\u001b[0m\u001b[0;34m\u001b[0m\u001b[0m\n",
      "\u001b[0;32mpandas/_libs/index.pyx\u001b[0m in \u001b[0;36mpandas._libs.index.IndexEngine.get_loc\u001b[0;34m()\u001b[0m\n",
      "\u001b[0;32mpandas/_libs/index.pyx\u001b[0m in \u001b[0;36mpandas._libs.index.IndexEngine.get_loc\u001b[0;34m()\u001b[0m\n",
      "\u001b[0;32mpandas/_libs/index_class_helper.pxi\u001b[0m in \u001b[0;36mpandas._libs.index.Int64Engine._check_type\u001b[0;34m()\u001b[0m\n",
      "\u001b[0;31mKeyError\u001b[0m: 'userID'",
      "\nThe above exception was the direct cause of the following exception:\n",
      "\u001b[0;31mKeyError\u001b[0m                                  Traceback (most recent call last)",
      "\u001b[0;32m<ipython-input-32-1dd46a1c69a8>\u001b[0m in \u001b[0;36m<module>\u001b[0;34m\u001b[0m\n\u001b[0;32m----> 1\u001b[0;31m \u001b[0mtrain_df\u001b[0m\u001b[0;34m[\u001b[0m\u001b[0;34m'avg'\u001b[0m\u001b[0;34m]\u001b[0m \u001b[0;34m=\u001b[0m \u001b[0mavgs\u001b[0m\u001b[0;34m[\u001b[0m\u001b[0mavgs\u001b[0m\u001b[0;34m[\u001b[0m\u001b[0;34m'userID'\u001b[0m\u001b[0;34m]\u001b[0m \u001b[0;34m==\u001b[0m \u001b[0mtrain_df\u001b[0m\u001b[0;34m[\u001b[0m\u001b[0;34m'userID'\u001b[0m\u001b[0;34m]\u001b[0m\u001b[0;34m]\u001b[0m\u001b[0;34m\u001b[0m\u001b[0;34m\u001b[0m\u001b[0m\n\u001b[0m",
      "\u001b[0;32m/opt/conda/lib/python3.7/site-packages/pandas/core/series.py\u001b[0m in \u001b[0;36m__getitem__\u001b[0;34m(self, key)\u001b[0m\n\u001b[1;32m    851\u001b[0m \u001b[0;34m\u001b[0m\u001b[0m\n\u001b[1;32m    852\u001b[0m         \u001b[0;32melif\u001b[0m \u001b[0mkey_is_scalar\u001b[0m\u001b[0;34m:\u001b[0m\u001b[0;34m\u001b[0m\u001b[0;34m\u001b[0m\u001b[0m\n\u001b[0;32m--> 853\u001b[0;31m             \u001b[0;32mreturn\u001b[0m \u001b[0mself\u001b[0m\u001b[0;34m.\u001b[0m\u001b[0m_get_value\u001b[0m\u001b[0;34m(\u001b[0m\u001b[0mkey\u001b[0m\u001b[0;34m)\u001b[0m\u001b[0;34m\u001b[0m\u001b[0;34m\u001b[0m\u001b[0m\n\u001b[0m\u001b[1;32m    854\u001b[0m \u001b[0;34m\u001b[0m\u001b[0m\n\u001b[1;32m    855\u001b[0m         \u001b[0;32mif\u001b[0m \u001b[0mis_hashable\u001b[0m\u001b[0;34m(\u001b[0m\u001b[0mkey\u001b[0m\u001b[0;34m)\u001b[0m\u001b[0;34m:\u001b[0m\u001b[0;34m\u001b[0m\u001b[0;34m\u001b[0m\u001b[0m\n",
      "\u001b[0;32m/opt/conda/lib/python3.7/site-packages/pandas/core/series.py\u001b[0m in \u001b[0;36m_get_value\u001b[0;34m(self, label, takeable)\u001b[0m\n\u001b[1;32m    959\u001b[0m \u001b[0;34m\u001b[0m\u001b[0m\n\u001b[1;32m    960\u001b[0m         \u001b[0;31m# Similar to Index.get_value, but we do not fall back to positional\u001b[0m\u001b[0;34m\u001b[0m\u001b[0;34m\u001b[0m\u001b[0;34m\u001b[0m\u001b[0m\n\u001b[0;32m--> 961\u001b[0;31m         \u001b[0mloc\u001b[0m \u001b[0;34m=\u001b[0m \u001b[0mself\u001b[0m\u001b[0;34m.\u001b[0m\u001b[0mindex\u001b[0m\u001b[0;34m.\u001b[0m\u001b[0mget_loc\u001b[0m\u001b[0;34m(\u001b[0m\u001b[0mlabel\u001b[0m\u001b[0;34m)\u001b[0m\u001b[0;34m\u001b[0m\u001b[0;34m\u001b[0m\u001b[0m\n\u001b[0m\u001b[1;32m    962\u001b[0m         \u001b[0;32mreturn\u001b[0m \u001b[0mself\u001b[0m\u001b[0;34m.\u001b[0m\u001b[0mindex\u001b[0m\u001b[0;34m.\u001b[0m\u001b[0m_get_values_for_loc\u001b[0m\u001b[0;34m(\u001b[0m\u001b[0mself\u001b[0m\u001b[0;34m,\u001b[0m \u001b[0mloc\u001b[0m\u001b[0;34m,\u001b[0m \u001b[0mlabel\u001b[0m\u001b[0;34m)\u001b[0m\u001b[0;34m\u001b[0m\u001b[0;34m\u001b[0m\u001b[0m\n\u001b[1;32m    963\u001b[0m \u001b[0;34m\u001b[0m\u001b[0m\n",
      "\u001b[0;32m/opt/conda/lib/python3.7/site-packages/pandas/core/indexes/base.py\u001b[0m in \u001b[0;36mget_loc\u001b[0;34m(self, key, method, tolerance)\u001b[0m\n\u001b[1;32m   3080\u001b[0m                 \u001b[0;32mreturn\u001b[0m \u001b[0mself\u001b[0m\u001b[0;34m.\u001b[0m\u001b[0m_engine\u001b[0m\u001b[0;34m.\u001b[0m\u001b[0mget_loc\u001b[0m\u001b[0;34m(\u001b[0m\u001b[0mcasted_key\u001b[0m\u001b[0;34m)\u001b[0m\u001b[0;34m\u001b[0m\u001b[0;34m\u001b[0m\u001b[0m\n\u001b[1;32m   3081\u001b[0m             \u001b[0;32mexcept\u001b[0m \u001b[0mKeyError\u001b[0m \u001b[0;32mas\u001b[0m \u001b[0merr\u001b[0m\u001b[0;34m:\u001b[0m\u001b[0;34m\u001b[0m\u001b[0;34m\u001b[0m\u001b[0m\n\u001b[0;32m-> 3082\u001b[0;31m                 \u001b[0;32mraise\u001b[0m \u001b[0mKeyError\u001b[0m\u001b[0;34m(\u001b[0m\u001b[0mkey\u001b[0m\u001b[0;34m)\u001b[0m \u001b[0;32mfrom\u001b[0m \u001b[0merr\u001b[0m\u001b[0;34m\u001b[0m\u001b[0;34m\u001b[0m\u001b[0m\n\u001b[0m\u001b[1;32m   3083\u001b[0m \u001b[0;34m\u001b[0m\u001b[0m\n\u001b[1;32m   3084\u001b[0m         \u001b[0;32mif\u001b[0m \u001b[0mtolerance\u001b[0m \u001b[0;32mis\u001b[0m \u001b[0;32mnot\u001b[0m \u001b[0;32mNone\u001b[0m\u001b[0;34m:\u001b[0m\u001b[0;34m\u001b[0m\u001b[0;34m\u001b[0m\u001b[0m\n",
      "\u001b[0;31mKeyError\u001b[0m: 'userID'"
     ]
    }
   ],
   "source": [
    "train_df.loc[train_df['userID'],'avg'] = "
   ]
  },
  {
   "cell_type": "code",
   "execution_count": 24,
   "metadata": {},
   "outputs": [
    {
     "output_type": "execute_result",
     "data": {
      "text/plain": [
       "         userID assessmentItemID      testId  answerCode           Timestamp  \\\n",
       "1422381    2356       A080058006  A080000058           1 2020-06-27 07:50:30   \n",
       "271743      370       A080067004  A080000067           1 2020-06-27 08:43:56   \n",
       "449654      626       A030015001  A030000015           1 2020-04-27 07:34:17   \n",
       "285322      388       A040048003  A040000048           1 2020-05-12 05:23:06   \n",
       "1035672    1551       A080089002  A080000089           0 2020-09-25 05:25:39   \n",
       "23844        32       A070159002  A070000159           0 2020-11-17 08:02:52   \n",
       "613425      874       A050045006  A050000045           0 2020-06-23 10:36:20   \n",
       "1291671    2076       A070025004  A070000025           1 2020-03-30 20:05:08   \n",
       "809312     1178       A060071004  A060000071           1 2020-09-02 11:13:26   \n",
       "1841668    3511       A080032008  A080000032           1 2020-07-06 07:35:31   \n",
       "2211583    5939       A010142004  A010000142           1 2020-10-23 06:48:32   \n",
       "1264041    2014       A060158008  A060000158           0 2020-10-13 06:25:56   \n",
       "965388     1439       A040008004  A040000008           1 2020-02-12 10:39:50   \n",
       "1017062    1521       A050100004  A050000100           1 2020-05-15 12:12:16   \n",
       "2059074    4495       A060042003  A060000042           0 2020-07-25 03:10:03   \n",
       "876862     1282       A080104008  A080000104           1 2020-11-24 05:33:31   \n",
       "2204640    5834       A040024005  A040000024           0 2020-06-26 06:27:39   \n",
       "840247     1226       A050143002  A050000143           1 2020-10-20 13:43:46   \n",
       "2124267    4987       A060179003  A060000179           1 2020-09-24 23:46:23   \n",
       "571876      807       A070099002  A070000099           0 2020-09-16 06:06:34   \n",
       "\n",
       "         KnowledgeTag  avg  \n",
       "1422381          4965  NaN  \n",
       "271743           2869  NaN  \n",
       "449654           7310  NaN  \n",
       "285322           2070  NaN  \n",
       "1035672          1110  NaN  \n",
       "23844            9121  NaN  \n",
       "613425           3729  NaN  \n",
       "1291671          5654  NaN  \n",
       "809312           9557  NaN  \n",
       "1841668          4784  NaN  \n",
       "2211583          7801  NaN  \n",
       "1264041          1458  NaN  \n",
       "965388           7268  NaN  \n",
       "1017062           393  NaN  \n",
       "2059074           602  NaN  \n",
       "876862          10573  NaN  \n",
       "2204640          2055  NaN  \n",
       "840247            441  NaN  \n",
       "2124267          1581  NaN  \n",
       "571876           8896  NaN  "
      ],
      "text/html": "<div>\n<style scoped>\n    .dataframe tbody tr th:only-of-type {\n        vertical-align: middle;\n    }\n\n    .dataframe tbody tr th {\n        vertical-align: top;\n    }\n\n    .dataframe thead th {\n        text-align: right;\n    }\n</style>\n<table border=\"1\" class=\"dataframe\">\n  <thead>\n    <tr style=\"text-align: right;\">\n      <th></th>\n      <th>userID</th>\n      <th>assessmentItemID</th>\n      <th>testId</th>\n      <th>answerCode</th>\n      <th>Timestamp</th>\n      <th>KnowledgeTag</th>\n      <th>avg</th>\n    </tr>\n  </thead>\n  <tbody>\n    <tr>\n      <th>1422381</th>\n      <td>2356</td>\n      <td>A080058006</td>\n      <td>A080000058</td>\n      <td>1</td>\n      <td>2020-06-27 07:50:30</td>\n      <td>4965</td>\n      <td>NaN</td>\n    </tr>\n    <tr>\n      <th>271743</th>\n      <td>370</td>\n      <td>A080067004</td>\n      <td>A080000067</td>\n      <td>1</td>\n      <td>2020-06-27 08:43:56</td>\n      <td>2869</td>\n      <td>NaN</td>\n    </tr>\n    <tr>\n      <th>449654</th>\n      <td>626</td>\n      <td>A030015001</td>\n      <td>A030000015</td>\n      <td>1</td>\n      <td>2020-04-27 07:34:17</td>\n      <td>7310</td>\n      <td>NaN</td>\n    </tr>\n    <tr>\n      <th>285322</th>\n      <td>388</td>\n      <td>A040048003</td>\n      <td>A040000048</td>\n      <td>1</td>\n      <td>2020-05-12 05:23:06</td>\n      <td>2070</td>\n      <td>NaN</td>\n    </tr>\n    <tr>\n      <th>1035672</th>\n      <td>1551</td>\n      <td>A080089002</td>\n      <td>A080000089</td>\n      <td>0</td>\n      <td>2020-09-25 05:25:39</td>\n      <td>1110</td>\n      <td>NaN</td>\n    </tr>\n    <tr>\n      <th>23844</th>\n      <td>32</td>\n      <td>A070159002</td>\n      <td>A070000159</td>\n      <td>0</td>\n      <td>2020-11-17 08:02:52</td>\n      <td>9121</td>\n      <td>NaN</td>\n    </tr>\n    <tr>\n      <th>613425</th>\n      <td>874</td>\n      <td>A050045006</td>\n      <td>A050000045</td>\n      <td>0</td>\n      <td>2020-06-23 10:36:20</td>\n      <td>3729</td>\n      <td>NaN</td>\n    </tr>\n    <tr>\n      <th>1291671</th>\n      <td>2076</td>\n      <td>A070025004</td>\n      <td>A070000025</td>\n      <td>1</td>\n      <td>2020-03-30 20:05:08</td>\n      <td>5654</td>\n      <td>NaN</td>\n    </tr>\n    <tr>\n      <th>809312</th>\n      <td>1178</td>\n      <td>A060071004</td>\n      <td>A060000071</td>\n      <td>1</td>\n      <td>2020-09-02 11:13:26</td>\n      <td>9557</td>\n      <td>NaN</td>\n    </tr>\n    <tr>\n      <th>1841668</th>\n      <td>3511</td>\n      <td>A080032008</td>\n      <td>A080000032</td>\n      <td>1</td>\n      <td>2020-07-06 07:35:31</td>\n      <td>4784</td>\n      <td>NaN</td>\n    </tr>\n    <tr>\n      <th>2211583</th>\n      <td>5939</td>\n      <td>A010142004</td>\n      <td>A010000142</td>\n      <td>1</td>\n      <td>2020-10-23 06:48:32</td>\n      <td>7801</td>\n      <td>NaN</td>\n    </tr>\n    <tr>\n      <th>1264041</th>\n      <td>2014</td>\n      <td>A060158008</td>\n      <td>A060000158</td>\n      <td>0</td>\n      <td>2020-10-13 06:25:56</td>\n      <td>1458</td>\n      <td>NaN</td>\n    </tr>\n    <tr>\n      <th>965388</th>\n      <td>1439</td>\n      <td>A040008004</td>\n      <td>A040000008</td>\n      <td>1</td>\n      <td>2020-02-12 10:39:50</td>\n      <td>7268</td>\n      <td>NaN</td>\n    </tr>\n    <tr>\n      <th>1017062</th>\n      <td>1521</td>\n      <td>A050100004</td>\n      <td>A050000100</td>\n      <td>1</td>\n      <td>2020-05-15 12:12:16</td>\n      <td>393</td>\n      <td>NaN</td>\n    </tr>\n    <tr>\n      <th>2059074</th>\n      <td>4495</td>\n      <td>A060042003</td>\n      <td>A060000042</td>\n      <td>0</td>\n      <td>2020-07-25 03:10:03</td>\n      <td>602</td>\n      <td>NaN</td>\n    </tr>\n    <tr>\n      <th>876862</th>\n      <td>1282</td>\n      <td>A080104008</td>\n      <td>A080000104</td>\n      <td>1</td>\n      <td>2020-11-24 05:33:31</td>\n      <td>10573</td>\n      <td>NaN</td>\n    </tr>\n    <tr>\n      <th>2204640</th>\n      <td>5834</td>\n      <td>A040024005</td>\n      <td>A040000024</td>\n      <td>0</td>\n      <td>2020-06-26 06:27:39</td>\n      <td>2055</td>\n      <td>NaN</td>\n    </tr>\n    <tr>\n      <th>840247</th>\n      <td>1226</td>\n      <td>A050143002</td>\n      <td>A050000143</td>\n      <td>1</td>\n      <td>2020-10-20 13:43:46</td>\n      <td>441</td>\n      <td>NaN</td>\n    </tr>\n    <tr>\n      <th>2124267</th>\n      <td>4987</td>\n      <td>A060179003</td>\n      <td>A060000179</td>\n      <td>1</td>\n      <td>2020-09-24 23:46:23</td>\n      <td>1581</td>\n      <td>NaN</td>\n    </tr>\n    <tr>\n      <th>571876</th>\n      <td>807</td>\n      <td>A070099002</td>\n      <td>A070000099</td>\n      <td>0</td>\n      <td>2020-09-16 06:06:34</td>\n      <td>8896</td>\n      <td>NaN</td>\n    </tr>\n  </tbody>\n</table>\n</div>"
     },
     "metadata": {},
     "execution_count": 24
    }
   ],
   "source": [
    "train_df.sample(20)\n",
    "    "
   ]
  },
  {
   "cell_type": "code",
   "execution_count": 36,
   "metadata": {},
   "outputs": [
    {
     "output_type": "execute_result",
     "data": {
      "text/plain": [
       "    userID assessmentItemID      testId  answerCode           Timestamp  \\\n",
       "0        0       A060001001  A060000001           1 2020-03-24 00:17:11   \n",
       "1        0       A060001002  A060000001           1 2020-03-24 00:17:14   \n",
       "2        0       A060001003  A060000001           1 2020-03-24 00:17:22   \n",
       "3        0       A060001004  A060000001           1 2020-03-24 00:17:29   \n",
       "4        0       A060001005  A060000001           1 2020-03-24 00:17:36   \n",
       "5        0       A060001007  A060000001           1 2020-03-24 00:17:47   \n",
       "7        0       A060003002  A060000003           1 2020-03-26 05:52:10   \n",
       "8        0       A060003003  A060000003           1 2020-03-26 05:53:14   \n",
       "9        0       A060003004  A060000003           1 2020-03-26 05:53:29   \n",
       "10       0       A060003005  A060000003           1 2020-03-26 05:53:48   \n",
       "11       0       A060003006  A060000003           1 2020-03-26 05:53:55   \n",
       "12       0       A060003007  A060000003           1 2020-03-26 05:54:11   \n",
       "13       0       A060005001  A060000005           1 2020-03-31 05:02:52   \n",
       "14       0       A060005002  A060000005           1 2020-03-31 05:03:04   \n",
       "15       0       A060005003  A060000005           1 2020-03-31 05:03:11   \n",
       "16       0       A060005004  A060000005           1 2020-03-31 05:03:26   \n",
       "17       0       A060005005  A060000005           1 2020-03-31 05:03:36   \n",
       "19       0       A060005007  A060000005           1 2020-03-31 05:05:48   \n",
       "20       0       A060007001  A060000007           1 2020-04-02 04:53:37   \n",
       "21       0       A060007002  A060000007           1 2020-04-02 04:53:46   \n",
       "22       0       A060007003  A060000007           1 2020-04-02 04:54:04   \n",
       "23       0       A060007004  A060000007           1 2020-04-02 04:58:56   \n",
       "24       0       A060007005  A060000007           1 2020-04-02 05:00:32   \n",
       "25       0       A060007006  A060000007           1 2020-04-02 05:01:05   \n",
       "26       0       A060007007  A060000007           1 2020-04-02 05:04:08   \n",
       "27       0       A080002001  A080000002           1 2020-04-06 00:35:01   \n",
       "28       0       A080002002  A080000002           1 2020-04-06 00:35:42   \n",
       "29       0       A080002003  A080000002           1 2020-04-06 00:37:46   \n",
       "30       0       A080002004  A080000002           1 2020-04-06 00:37:58   \n",
       "32       0       A080002006  A080000002           1 2020-04-06 00:38:05   \n",
       "33       0       A060009001  A060000009           1 2020-04-07 01:42:13   \n",
       "34       0       A060009002  A060000009           1 2020-04-07 01:42:40   \n",
       "35       0       A060009003  A060000009           1 2020-04-07 01:43:31   \n",
       "36       0       A060009004  A060000009           1 2020-04-07 01:45:29   \n",
       "37       0       A060009005  A060000009           1 2020-04-07 01:46:25   \n",
       "38       0       A060009006  A060000009           1 2020-04-07 01:46:59   \n",
       "\n",
       "    KnowledgeTag  \n",
       "0           7224  \n",
       "1           7225  \n",
       "2           7225  \n",
       "3           7225  \n",
       "4           7225  \n",
       "5           7225  \n",
       "7           7226  \n",
       "8           7226  \n",
       "9           7226  \n",
       "10          7226  \n",
       "11          7226  \n",
       "12          7226  \n",
       "13          7227  \n",
       "14          7228  \n",
       "15          7228  \n",
       "16          7228  \n",
       "17          7228  \n",
       "19          7228  \n",
       "20          7229  \n",
       "21          7229  \n",
       "22          7229  \n",
       "23          7229  \n",
       "24          7229  \n",
       "25          7229  \n",
       "26          7229  \n",
       "27          4605  \n",
       "28          1394  \n",
       "29          1396  \n",
       "30          1397  \n",
       "32          1395  \n",
       "33          7230  \n",
       "34          7230  \n",
       "35          7230  \n",
       "36          7230  \n",
       "37          7230  \n",
       "38          7230  "
      ],
      "text/html": "<div>\n<style scoped>\n    .dataframe tbody tr th:only-of-type {\n        vertical-align: middle;\n    }\n\n    .dataframe tbody tr th {\n        vertical-align: top;\n    }\n\n    .dataframe thead th {\n        text-align: right;\n    }\n</style>\n<table border=\"1\" class=\"dataframe\">\n  <thead>\n    <tr style=\"text-align: right;\">\n      <th></th>\n      <th>userID</th>\n      <th>assessmentItemID</th>\n      <th>testId</th>\n      <th>answerCode</th>\n      <th>Timestamp</th>\n      <th>KnowledgeTag</th>\n    </tr>\n  </thead>\n  <tbody>\n    <tr>\n      <th>0</th>\n      <td>0</td>\n      <td>A060001001</td>\n      <td>A060000001</td>\n      <td>1</td>\n      <td>2020-03-24 00:17:11</td>\n      <td>7224</td>\n    </tr>\n    <tr>\n      <th>1</th>\n      <td>0</td>\n      <td>A060001002</td>\n      <td>A060000001</td>\n      <td>1</td>\n      <td>2020-03-24 00:17:14</td>\n      <td>7225</td>\n    </tr>\n    <tr>\n      <th>2</th>\n      <td>0</td>\n      <td>A060001003</td>\n      <td>A060000001</td>\n      <td>1</td>\n      <td>2020-03-24 00:17:22</td>\n      <td>7225</td>\n    </tr>\n    <tr>\n      <th>3</th>\n      <td>0</td>\n      <td>A060001004</td>\n      <td>A060000001</td>\n      <td>1</td>\n      <td>2020-03-24 00:17:29</td>\n      <td>7225</td>\n    </tr>\n    <tr>\n      <th>4</th>\n      <td>0</td>\n      <td>A060001005</td>\n      <td>A060000001</td>\n      <td>1</td>\n      <td>2020-03-24 00:17:36</td>\n      <td>7225</td>\n    </tr>\n    <tr>\n      <th>5</th>\n      <td>0</td>\n      <td>A060001007</td>\n      <td>A060000001</td>\n      <td>1</td>\n      <td>2020-03-24 00:17:47</td>\n      <td>7225</td>\n    </tr>\n    <tr>\n      <th>7</th>\n      <td>0</td>\n      <td>A060003002</td>\n      <td>A060000003</td>\n      <td>1</td>\n      <td>2020-03-26 05:52:10</td>\n      <td>7226</td>\n    </tr>\n    <tr>\n      <th>8</th>\n      <td>0</td>\n      <td>A060003003</td>\n      <td>A060000003</td>\n      <td>1</td>\n      <td>2020-03-26 05:53:14</td>\n      <td>7226</td>\n    </tr>\n    <tr>\n      <th>9</th>\n      <td>0</td>\n      <td>A060003004</td>\n      <td>A060000003</td>\n      <td>1</td>\n      <td>2020-03-26 05:53:29</td>\n      <td>7226</td>\n    </tr>\n    <tr>\n      <th>10</th>\n      <td>0</td>\n      <td>A060003005</td>\n      <td>A060000003</td>\n      <td>1</td>\n      <td>2020-03-26 05:53:48</td>\n      <td>7226</td>\n    </tr>\n    <tr>\n      <th>11</th>\n      <td>0</td>\n      <td>A060003006</td>\n      <td>A060000003</td>\n      <td>1</td>\n      <td>2020-03-26 05:53:55</td>\n      <td>7226</td>\n    </tr>\n    <tr>\n      <th>12</th>\n      <td>0</td>\n      <td>A060003007</td>\n      <td>A060000003</td>\n      <td>1</td>\n      <td>2020-03-26 05:54:11</td>\n      <td>7226</td>\n    </tr>\n    <tr>\n      <th>13</th>\n      <td>0</td>\n      <td>A060005001</td>\n      <td>A060000005</td>\n      <td>1</td>\n      <td>2020-03-31 05:02:52</td>\n      <td>7227</td>\n    </tr>\n    <tr>\n      <th>14</th>\n      <td>0</td>\n      <td>A060005002</td>\n      <td>A060000005</td>\n      <td>1</td>\n      <td>2020-03-31 05:03:04</td>\n      <td>7228</td>\n    </tr>\n    <tr>\n      <th>15</th>\n      <td>0</td>\n      <td>A060005003</td>\n      <td>A060000005</td>\n      <td>1</td>\n      <td>2020-03-31 05:03:11</td>\n      <td>7228</td>\n    </tr>\n    <tr>\n      <th>16</th>\n      <td>0</td>\n      <td>A060005004</td>\n      <td>A060000005</td>\n      <td>1</td>\n      <td>2020-03-31 05:03:26</td>\n      <td>7228</td>\n    </tr>\n    <tr>\n      <th>17</th>\n      <td>0</td>\n      <td>A060005005</td>\n      <td>A060000005</td>\n      <td>1</td>\n      <td>2020-03-31 05:03:36</td>\n      <td>7228</td>\n    </tr>\n    <tr>\n      <th>19</th>\n      <td>0</td>\n      <td>A060005007</td>\n      <td>A060000005</td>\n      <td>1</td>\n      <td>2020-03-31 05:05:48</td>\n      <td>7228</td>\n    </tr>\n    <tr>\n      <th>20</th>\n      <td>0</td>\n      <td>A060007001</td>\n      <td>A060000007</td>\n      <td>1</td>\n      <td>2020-04-02 04:53:37</td>\n      <td>7229</td>\n    </tr>\n    <tr>\n      <th>21</th>\n      <td>0</td>\n      <td>A060007002</td>\n      <td>A060000007</td>\n      <td>1</td>\n      <td>2020-04-02 04:53:46</td>\n      <td>7229</td>\n    </tr>\n    <tr>\n      <th>22</th>\n      <td>0</td>\n      <td>A060007003</td>\n      <td>A060000007</td>\n      <td>1</td>\n      <td>2020-04-02 04:54:04</td>\n      <td>7229</td>\n    </tr>\n    <tr>\n      <th>23</th>\n      <td>0</td>\n      <td>A060007004</td>\n      <td>A060000007</td>\n      <td>1</td>\n      <td>2020-04-02 04:58:56</td>\n      <td>7229</td>\n    </tr>\n    <tr>\n      <th>24</th>\n      <td>0</td>\n      <td>A060007005</td>\n      <td>A060000007</td>\n      <td>1</td>\n      <td>2020-04-02 05:00:32</td>\n      <td>7229</td>\n    </tr>\n    <tr>\n      <th>25</th>\n      <td>0</td>\n      <td>A060007006</td>\n      <td>A060000007</td>\n      <td>1</td>\n      <td>2020-04-02 05:01:05</td>\n      <td>7229</td>\n    </tr>\n    <tr>\n      <th>26</th>\n      <td>0</td>\n      <td>A060007007</td>\n      <td>A060000007</td>\n      <td>1</td>\n      <td>2020-04-02 05:04:08</td>\n      <td>7229</td>\n    </tr>\n    <tr>\n      <th>27</th>\n      <td>0</td>\n      <td>A080002001</td>\n      <td>A080000002</td>\n      <td>1</td>\n      <td>2020-04-06 00:35:01</td>\n      <td>4605</td>\n    </tr>\n    <tr>\n      <th>28</th>\n      <td>0</td>\n      <td>A080002002</td>\n      <td>A080000002</td>\n      <td>1</td>\n      <td>2020-04-06 00:35:42</td>\n      <td>1394</td>\n    </tr>\n    <tr>\n      <th>29</th>\n      <td>0</td>\n      <td>A080002003</td>\n      <td>A080000002</td>\n      <td>1</td>\n      <td>2020-04-06 00:37:46</td>\n      <td>1396</td>\n    </tr>\n    <tr>\n      <th>30</th>\n      <td>0</td>\n      <td>A080002004</td>\n      <td>A080000002</td>\n      <td>1</td>\n      <td>2020-04-06 00:37:58</td>\n      <td>1397</td>\n    </tr>\n    <tr>\n      <th>32</th>\n      <td>0</td>\n      <td>A080002006</td>\n      <td>A080000002</td>\n      <td>1</td>\n      <td>2020-04-06 00:38:05</td>\n      <td>1395</td>\n    </tr>\n    <tr>\n      <th>33</th>\n      <td>0</td>\n      <td>A060009001</td>\n      <td>A060000009</td>\n      <td>1</td>\n      <td>2020-04-07 01:42:13</td>\n      <td>7230</td>\n    </tr>\n    <tr>\n      <th>34</th>\n      <td>0</td>\n      <td>A060009002</td>\n      <td>A060000009</td>\n      <td>1</td>\n      <td>2020-04-07 01:42:40</td>\n      <td>7230</td>\n    </tr>\n    <tr>\n      <th>35</th>\n      <td>0</td>\n      <td>A060009003</td>\n      <td>A060000009</td>\n      <td>1</td>\n      <td>2020-04-07 01:43:31</td>\n      <td>7230</td>\n    </tr>\n    <tr>\n      <th>36</th>\n      <td>0</td>\n      <td>A060009004</td>\n      <td>A060000009</td>\n      <td>1</td>\n      <td>2020-04-07 01:45:29</td>\n      <td>7230</td>\n    </tr>\n    <tr>\n      <th>37</th>\n      <td>0</td>\n      <td>A060009005</td>\n      <td>A060000009</td>\n      <td>1</td>\n      <td>2020-04-07 01:46:25</td>\n      <td>7230</td>\n    </tr>\n    <tr>\n      <th>38</th>\n      <td>0</td>\n      <td>A060009006</td>\n      <td>A060000009</td>\n      <td>1</td>\n      <td>2020-04-07 01:46:59</td>\n      <td>7230</td>\n    </tr>\n  </tbody>\n</table>\n</div>"
     },
     "metadata": {},
     "execution_count": 36
    }
   ],
   "source": [
    "new_train_df[lambda x : x['answerCode']==1]"
   ]
  },
  {
   "cell_type": "code",
   "execution_count": 37,
   "metadata": {},
   "outputs": [
    {
     "output_type": "execute_result",
     "data": {
      "text/plain": [
       "2266586"
      ]
     },
     "metadata": {},
     "execution_count": 37
    }
   ],
   "source": [
    "len(train_df['avg'])"
   ]
  },
  {
   "cell_type": "code",
   "execution_count": 38,
   "metadata": {},
   "outputs": [
    {
     "output_type": "execute_result",
     "data": {
      "text/plain": [
       "2266586"
      ]
     },
     "metadata": {},
     "execution_count": 38
    }
   ],
   "source": [
    "len(train_df.groupby('userID')['answerCode'].transform('mean'))"
   ]
  },
  {
   "cell_type": "code",
   "execution_count": 39,
   "metadata": {},
   "outputs": [],
   "source": [
    "temp = train_df.groupby('userID')['answerCode'].transform('mean')"
   ]
  },
  {
   "cell_type": "code",
   "execution_count": 1,
   "metadata": {},
   "outputs": [],
   "source": [
    "a =[1,2,3,]\n",
    "b=4"
   ]
  },
  {
   "cell_type": "code",
   "execution_count": 2,
   "metadata": {},
   "outputs": [
    {
     "output_type": "error",
     "ename": "TypeError",
     "evalue": "can only concatenate list (not \"int\") to list",
     "traceback": [
      "\u001b[0;31m---------------------------------------------------------------------------\u001b[0m",
      "\u001b[0;31mTypeError\u001b[0m                                 Traceback (most recent call last)",
      "\u001b[0;32m<ipython-input-2-3eeda88fa98e>\u001b[0m in \u001b[0;36m<module>\u001b[0;34m\u001b[0m\n\u001b[0;32m----> 1\u001b[0;31m \u001b[0ma\u001b[0m \u001b[0;34m+\u001b[0m \u001b[0mb\u001b[0m\u001b[0;34m\u001b[0m\u001b[0;34m\u001b[0m\u001b[0m\n\u001b[0m",
      "\u001b[0;31mTypeError\u001b[0m: can only concatenate list (not \"int\") to list"
     ]
    }
   ],
   "source": [
    "a + b "
   ]
  },
  {
   "cell_type": "code",
   "execution_count": null,
   "metadata": {},
   "outputs": [],
   "source": []
  }
 ]
}